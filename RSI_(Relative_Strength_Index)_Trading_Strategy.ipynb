{
  "nbformat": 4,
  "nbformat_minor": 0,
  "metadata": {
    "colab": {
      "provenance": [],
      "authorship_tag": "ABX9TyNr9ZzWFXWflBHtqcY/+U4Q",
      "include_colab_link": true
    },
    "kernelspec": {
      "name": "python3",
      "display_name": "Python 3"
    },
    "language_info": {
      "name": "python"
    }
  },
  "cells": [
    {
      "cell_type": "markdown",
      "metadata": {
        "id": "view-in-github",
        "colab_type": "text"
      },
      "source": [
        "<a href=\"https://colab.research.google.com/github/hisyamhilmiomar/algoTradingStrat/blob/main/RSI_(Relative_Strength_Index)_Trading_Strategy.ipynb\" target=\"_parent\"><img src=\"https://colab.research.google.com/assets/colab-badge.svg\" alt=\"Open In Colab\"/></a>"
      ]
    },
    {
      "cell_type": "markdown",
      "source": [
        "General Condition : Stock price is above it's 200-day Moving average.\n",
        "\n",
        "Buy if :-\n",
        "  - 10-period RSI of stock is below 30\n",
        "      -> Buy on next day's open\n",
        "  \n",
        "Sell if :-\n",
        "  - 10-period RSI is above 40 OR after 10 trading days\n",
        "      -> Sell on next day's open\n",
        "\n",
        "Universe of stocks to test this strategy :- All 505 single S&P stocks"
      ],
      "metadata": {
        "id": "Lfv3Ay_TnsVm"
      }
    },
    {
      "cell_type": "code",
      "execution_count": null,
      "metadata": {
        "id": "4t6YKS3mnlky"
      },
      "outputs": [],
      "source": [
        "#importing necessary libraries\n",
        "\n",
        "import pandas as pd\n",
        "import yfinance as yf\n",
        "import matplotlib.pyplot as plt\n",
        "pd.options.mode.chained_assignment= None"
      ]
    },
    {
      "cell_type": "code",
      "source": [
        "tickers = pd.read_html('https://en.wikipedia.org/wiki/List_of_S%26P_500_companies')[0]"
      ],
      "metadata": {
        "id": "3CEHmNuypzXK"
      },
      "execution_count": null,
      "outputs": []
    },
    {
      "cell_type": "code",
      "source": [
        "tickers = tickers.Symbol.to_list()\n",
        "tickers = [i.replace('.','-') for i in tickers]\n",
        "tickers"
      ],
      "metadata": {
        "colab": {
          "base_uri": "https://localhost:8080/"
        },
        "id": "Genh4_I_tUfT",
        "outputId": "e42ddbb4-a046-481b-fd2d-5c33c1ade893"
      },
      "execution_count": null,
      "outputs": [
        {
          "output_type": "execute_result",
          "data": {
            "text/plain": [
              "['MMM',\n",
              " 'AOS',\n",
              " 'ABT',\n",
              " 'ABBV',\n",
              " 'ACN',\n",
              " 'ADBE',\n",
              " 'AMD',\n",
              " 'AES',\n",
              " 'AFL',\n",
              " 'A',\n",
              " 'APD',\n",
              " 'ABNB',\n",
              " 'AKAM',\n",
              " 'ALB',\n",
              " 'ARE',\n",
              " 'ALGN',\n",
              " 'ALLE',\n",
              " 'LNT',\n",
              " 'ALL',\n",
              " 'GOOGL',\n",
              " 'GOOG',\n",
              " 'MO',\n",
              " 'AMZN',\n",
              " 'AMCR',\n",
              " 'AEE',\n",
              " 'AAL',\n",
              " 'AEP',\n",
              " 'AXP',\n",
              " 'AIG',\n",
              " 'AMT',\n",
              " 'AWK',\n",
              " 'AMP',\n",
              " 'AME',\n",
              " 'AMGN',\n",
              " 'APH',\n",
              " 'ADI',\n",
              " 'ANSS',\n",
              " 'AON',\n",
              " 'APA',\n",
              " 'AAPL',\n",
              " 'AMAT',\n",
              " 'APTV',\n",
              " 'ACGL',\n",
              " 'ADM',\n",
              " 'ANET',\n",
              " 'AJG',\n",
              " 'AIZ',\n",
              " 'T',\n",
              " 'ATO',\n",
              " 'ADSK',\n",
              " 'ADP',\n",
              " 'AZO',\n",
              " 'AVB',\n",
              " 'AVY',\n",
              " 'AXON',\n",
              " 'BKR',\n",
              " 'BALL',\n",
              " 'BAC',\n",
              " 'BK',\n",
              " 'BBWI',\n",
              " 'BAX',\n",
              " 'BDX',\n",
              " 'BRK-B',\n",
              " 'BBY',\n",
              " 'BIO',\n",
              " 'TECH',\n",
              " 'BIIB',\n",
              " 'BLK',\n",
              " 'BX',\n",
              " 'BA',\n",
              " 'BKNG',\n",
              " 'BWA',\n",
              " 'BXP',\n",
              " 'BSX',\n",
              " 'BMY',\n",
              " 'AVGO',\n",
              " 'BR',\n",
              " 'BRO',\n",
              " 'BF-B',\n",
              " 'BLDR',\n",
              " 'BG',\n",
              " 'CDNS',\n",
              " 'CZR',\n",
              " 'CPT',\n",
              " 'CPB',\n",
              " 'COF',\n",
              " 'CAH',\n",
              " 'KMX',\n",
              " 'CCL',\n",
              " 'CARR',\n",
              " 'CTLT',\n",
              " 'CAT',\n",
              " 'CBOE',\n",
              " 'CBRE',\n",
              " 'CDW',\n",
              " 'CE',\n",
              " 'COR',\n",
              " 'CNC',\n",
              " 'CNP',\n",
              " 'CF',\n",
              " 'CHRW',\n",
              " 'CRL',\n",
              " 'SCHW',\n",
              " 'CHTR',\n",
              " 'CVX',\n",
              " 'CMG',\n",
              " 'CB',\n",
              " 'CHD',\n",
              " 'CI',\n",
              " 'CINF',\n",
              " 'CTAS',\n",
              " 'CSCO',\n",
              " 'C',\n",
              " 'CFG',\n",
              " 'CLX',\n",
              " 'CME',\n",
              " 'CMS',\n",
              " 'KO',\n",
              " 'CTSH',\n",
              " 'CL',\n",
              " 'CMCSA',\n",
              " 'CMA',\n",
              " 'CAG',\n",
              " 'COP',\n",
              " 'ED',\n",
              " 'STZ',\n",
              " 'CEG',\n",
              " 'COO',\n",
              " 'CPRT',\n",
              " 'GLW',\n",
              " 'CPAY',\n",
              " 'CTVA',\n",
              " 'CSGP',\n",
              " 'COST',\n",
              " 'CTRA',\n",
              " 'CCI',\n",
              " 'CSX',\n",
              " 'CMI',\n",
              " 'CVS',\n",
              " 'DHR',\n",
              " 'DRI',\n",
              " 'DVA',\n",
              " 'DAY',\n",
              " 'DECK',\n",
              " 'DE',\n",
              " 'DAL',\n",
              " 'DVN',\n",
              " 'DXCM',\n",
              " 'FANG',\n",
              " 'DLR',\n",
              " 'DFS',\n",
              " 'DG',\n",
              " 'DLTR',\n",
              " 'D',\n",
              " 'DPZ',\n",
              " 'DOV',\n",
              " 'DOW',\n",
              " 'DHI',\n",
              " 'DTE',\n",
              " 'DUK',\n",
              " 'DD',\n",
              " 'EMN',\n",
              " 'ETN',\n",
              " 'EBAY',\n",
              " 'ECL',\n",
              " 'EIX',\n",
              " 'EW',\n",
              " 'EA',\n",
              " 'ELV',\n",
              " 'LLY',\n",
              " 'EMR',\n",
              " 'ENPH',\n",
              " 'ETR',\n",
              " 'EOG',\n",
              " 'EPAM',\n",
              " 'EQT',\n",
              " 'EFX',\n",
              " 'EQIX',\n",
              " 'EQR',\n",
              " 'ESS',\n",
              " 'EL',\n",
              " 'ETSY',\n",
              " 'EG',\n",
              " 'EVRG',\n",
              " 'ES',\n",
              " 'EXC',\n",
              " 'EXPE',\n",
              " 'EXPD',\n",
              " 'EXR',\n",
              " 'XOM',\n",
              " 'FFIV',\n",
              " 'FDS',\n",
              " 'FICO',\n",
              " 'FAST',\n",
              " 'FRT',\n",
              " 'FDX',\n",
              " 'FIS',\n",
              " 'FITB',\n",
              " 'FSLR',\n",
              " 'FE',\n",
              " 'FI',\n",
              " 'FMC',\n",
              " 'F',\n",
              " 'FTNT',\n",
              " 'FTV',\n",
              " 'FOXA',\n",
              " 'FOX',\n",
              " 'BEN',\n",
              " 'FCX',\n",
              " 'GRMN',\n",
              " 'IT',\n",
              " 'GE',\n",
              " 'GEHC',\n",
              " 'GEV',\n",
              " 'GEN',\n",
              " 'GNRC',\n",
              " 'GD',\n",
              " 'GIS',\n",
              " 'GM',\n",
              " 'GPC',\n",
              " 'GILD',\n",
              " 'GPN',\n",
              " 'GL',\n",
              " 'GS',\n",
              " 'HAL',\n",
              " 'HIG',\n",
              " 'HAS',\n",
              " 'HCA',\n",
              " 'DOC',\n",
              " 'HSIC',\n",
              " 'HSY',\n",
              " 'HES',\n",
              " 'HPE',\n",
              " 'HLT',\n",
              " 'HOLX',\n",
              " 'HD',\n",
              " 'HON',\n",
              " 'HRL',\n",
              " 'HST',\n",
              " 'HWM',\n",
              " 'HPQ',\n",
              " 'HUBB',\n",
              " 'HUM',\n",
              " 'HBAN',\n",
              " 'HII',\n",
              " 'IBM',\n",
              " 'IEX',\n",
              " 'IDXX',\n",
              " 'ITW',\n",
              " 'ILMN',\n",
              " 'INCY',\n",
              " 'IR',\n",
              " 'PODD',\n",
              " 'INTC',\n",
              " 'ICE',\n",
              " 'IFF',\n",
              " 'IP',\n",
              " 'IPG',\n",
              " 'INTU',\n",
              " 'ISRG',\n",
              " 'IVZ',\n",
              " 'INVH',\n",
              " 'IQV',\n",
              " 'IRM',\n",
              " 'JBHT',\n",
              " 'JBL',\n",
              " 'JKHY',\n",
              " 'J',\n",
              " 'JNJ',\n",
              " 'JCI',\n",
              " 'JPM',\n",
              " 'JNPR',\n",
              " 'K',\n",
              " 'KVUE',\n",
              " 'KDP',\n",
              " 'KEY',\n",
              " 'KEYS',\n",
              " 'KMB',\n",
              " 'KIM',\n",
              " 'KMI',\n",
              " 'KLAC',\n",
              " 'KHC',\n",
              " 'KR',\n",
              " 'LHX',\n",
              " 'LH',\n",
              " 'LRCX',\n",
              " 'LW',\n",
              " 'LVS',\n",
              " 'LDOS',\n",
              " 'LEN',\n",
              " 'LIN',\n",
              " 'LYV',\n",
              " 'LKQ',\n",
              " 'LMT',\n",
              " 'L',\n",
              " 'LOW',\n",
              " 'LULU',\n",
              " 'LYB',\n",
              " 'MTB',\n",
              " 'MRO',\n",
              " 'MPC',\n",
              " 'MKTX',\n",
              " 'MAR',\n",
              " 'MMC',\n",
              " 'MLM',\n",
              " 'MAS',\n",
              " 'MA',\n",
              " 'MTCH',\n",
              " 'MKC',\n",
              " 'MCD',\n",
              " 'MCK',\n",
              " 'MDT',\n",
              " 'MRK',\n",
              " 'META',\n",
              " 'MET',\n",
              " 'MTD',\n",
              " 'MGM',\n",
              " 'MCHP',\n",
              " 'MU',\n",
              " 'MSFT',\n",
              " 'MAA',\n",
              " 'MRNA',\n",
              " 'MHK',\n",
              " 'MOH',\n",
              " 'TAP',\n",
              " 'MDLZ',\n",
              " 'MPWR',\n",
              " 'MNST',\n",
              " 'MCO',\n",
              " 'MS',\n",
              " 'MOS',\n",
              " 'MSI',\n",
              " 'MSCI',\n",
              " 'NDAQ',\n",
              " 'NTAP',\n",
              " 'NFLX',\n",
              " 'NEM',\n",
              " 'NWSA',\n",
              " 'NWS',\n",
              " 'NEE',\n",
              " 'NKE',\n",
              " 'NI',\n",
              " 'NDSN',\n",
              " 'NSC',\n",
              " 'NTRS',\n",
              " 'NOC',\n",
              " 'NCLH',\n",
              " 'NRG',\n",
              " 'NUE',\n",
              " 'NVDA',\n",
              " 'NVR',\n",
              " 'NXPI',\n",
              " 'ORLY',\n",
              " 'OXY',\n",
              " 'ODFL',\n",
              " 'OMC',\n",
              " 'ON',\n",
              " 'OKE',\n",
              " 'ORCL',\n",
              " 'OTIS',\n",
              " 'PCAR',\n",
              " 'PKG',\n",
              " 'PANW',\n",
              " 'PARA',\n",
              " 'PH',\n",
              " 'PAYX',\n",
              " 'PAYC',\n",
              " 'PYPL',\n",
              " 'PNR',\n",
              " 'PEP',\n",
              " 'PFE',\n",
              " 'PCG',\n",
              " 'PM',\n",
              " 'PSX',\n",
              " 'PNW',\n",
              " 'PNC',\n",
              " 'POOL',\n",
              " 'PPG',\n",
              " 'PPL',\n",
              " 'PFG',\n",
              " 'PG',\n",
              " 'PGR',\n",
              " 'PLD',\n",
              " 'PRU',\n",
              " 'PEG',\n",
              " 'PTC',\n",
              " 'PSA',\n",
              " 'PHM',\n",
              " 'QRVO',\n",
              " 'PWR',\n",
              " 'QCOM',\n",
              " 'DGX',\n",
              " 'RL',\n",
              " 'RJF',\n",
              " 'RTX',\n",
              " 'O',\n",
              " 'REG',\n",
              " 'REGN',\n",
              " 'RF',\n",
              " 'RSG',\n",
              " 'RMD',\n",
              " 'RVTY',\n",
              " 'RHI',\n",
              " 'ROK',\n",
              " 'ROL',\n",
              " 'ROP',\n",
              " 'ROST',\n",
              " 'RCL',\n",
              " 'SPGI',\n",
              " 'CRM',\n",
              " 'SBAC',\n",
              " 'SLB',\n",
              " 'STX',\n",
              " 'SRE',\n",
              " 'NOW',\n",
              " 'SHW',\n",
              " 'SPG',\n",
              " 'SWKS',\n",
              " 'SJM',\n",
              " 'SNA',\n",
              " 'SOLV',\n",
              " 'SO',\n",
              " 'LUV',\n",
              " 'SWK',\n",
              " 'SBUX',\n",
              " 'STT',\n",
              " 'STLD',\n",
              " 'STE',\n",
              " 'SYK',\n",
              " 'SMCI',\n",
              " 'SYF',\n",
              " 'SNPS',\n",
              " 'SYY',\n",
              " 'TMUS',\n",
              " 'TROW',\n",
              " 'TTWO',\n",
              " 'TPR',\n",
              " 'TRGP',\n",
              " 'TGT',\n",
              " 'TEL',\n",
              " 'TDY',\n",
              " 'TFX',\n",
              " 'TER',\n",
              " 'TSLA',\n",
              " 'TXN',\n",
              " 'TXT',\n",
              " 'TMO',\n",
              " 'TJX',\n",
              " 'TSCO',\n",
              " 'TT',\n",
              " 'TDG',\n",
              " 'TRV',\n",
              " 'TRMB',\n",
              " 'TFC',\n",
              " 'TYL',\n",
              " 'TSN',\n",
              " 'USB',\n",
              " 'UBER',\n",
              " 'UDR',\n",
              " 'ULTA',\n",
              " 'UNP',\n",
              " 'UAL',\n",
              " 'UPS',\n",
              " 'URI',\n",
              " 'UNH',\n",
              " 'UHS',\n",
              " 'VLO',\n",
              " 'VTR',\n",
              " 'VLTO',\n",
              " 'VRSN',\n",
              " 'VRSK',\n",
              " 'VZ',\n",
              " 'VRTX',\n",
              " 'VTRS',\n",
              " 'VICI',\n",
              " 'V',\n",
              " 'VST',\n",
              " 'VMC',\n",
              " 'WRB',\n",
              " 'GWW',\n",
              " 'WAB',\n",
              " 'WBA',\n",
              " 'WMT',\n",
              " 'DIS',\n",
              " 'WBD',\n",
              " 'WM',\n",
              " 'WAT',\n",
              " 'WEC',\n",
              " 'WFC',\n",
              " 'WELL',\n",
              " 'WST',\n",
              " 'WDC',\n",
              " 'WRK',\n",
              " 'WY',\n",
              " 'WMB',\n",
              " 'WTW',\n",
              " 'WYNN',\n",
              " 'XEL',\n",
              " 'XYL',\n",
              " 'YUM',\n",
              " 'ZBRA',\n",
              " 'ZBH',\n",
              " 'ZTS']"
            ]
          },
          "metadata": {},
          "execution_count": 216
        }
      ]
    },
    {
      "cell_type": "code",
      "source": [
        "tickers[466]"
      ],
      "metadata": {
        "colab": {
          "base_uri": "https://localhost:8080/",
          "height": 35
        },
        "id": "nUT41oe3o1qO",
        "outputId": "98e69543-917b-4adc-bc35-df31932bb2bb"
      },
      "execution_count": null,
      "outputs": [
        {
          "output_type": "execute_result",
          "data": {
            "text/plain": [
              "'VLTO'"
            ],
            "application/vnd.google.colaboratory.intrinsic+json": {
              "type": "string"
            }
          },
          "metadata": {},
          "execution_count": 214
        }
      ]
    },
    {
      "cell_type": "code",
      "source": [
        "#Problematic tickers, WRK, GEV(VNT not on the list)\n",
        "tickers.pop(492)\n",
        "tickers.pop(213)\n",
        "tickers.pop(419)\n",
        "tickers.pop(466)\n"
      ],
      "metadata": {
        "colab": {
          "base_uri": "https://localhost:8080/",
          "height": 35
        },
        "id": "7OTD-IRSBoHg",
        "outputId": "4d3175a9-9eb0-4b8f-94b4-a8ec32fad01f"
      },
      "execution_count": null,
      "outputs": [
        {
          "output_type": "execute_result",
          "data": {
            "text/plain": [
              "'VLTO'"
            ],
            "application/vnd.google.colaboratory.intrinsic+json": {
              "type": "string"
            }
          },
          "metadata": {},
          "execution_count": 217
        }
      ]
    },
    {
      "cell_type": "code",
      "source": [
        "tickers"
      ],
      "metadata": {
        "colab": {
          "base_uri": "https://localhost:8080/"
        },
        "id": "__A_Mm24DcP7",
        "outputId": "94619d8b-0536-45ea-ca3c-e7a693dee11a"
      },
      "execution_count": null,
      "outputs": [
        {
          "output_type": "execute_result",
          "data": {
            "text/plain": [
              "['MMM',\n",
              " 'AOS',\n",
              " 'ABT',\n",
              " 'ABBV',\n",
              " 'ACN',\n",
              " 'ADBE',\n",
              " 'AMD',\n",
              " 'AES',\n",
              " 'AFL',\n",
              " 'A',\n",
              " 'APD',\n",
              " 'ABNB',\n",
              " 'AKAM',\n",
              " 'ALB',\n",
              " 'ARE',\n",
              " 'ALGN',\n",
              " 'ALLE',\n",
              " 'LNT',\n",
              " 'ALL',\n",
              " 'GOOGL',\n",
              " 'GOOG',\n",
              " 'MO',\n",
              " 'AMZN',\n",
              " 'AMCR',\n",
              " 'AEE',\n",
              " 'AAL',\n",
              " 'AEP',\n",
              " 'AXP',\n",
              " 'AIG',\n",
              " 'AMT',\n",
              " 'AWK',\n",
              " 'AMP',\n",
              " 'AME',\n",
              " 'AMGN',\n",
              " 'APH',\n",
              " 'ADI',\n",
              " 'ANSS',\n",
              " 'AON',\n",
              " 'APA',\n",
              " 'AAPL',\n",
              " 'AMAT',\n",
              " 'APTV',\n",
              " 'ACGL',\n",
              " 'ADM',\n",
              " 'ANET',\n",
              " 'AJG',\n",
              " 'AIZ',\n",
              " 'T',\n",
              " 'ATO',\n",
              " 'ADSK',\n",
              " 'ADP',\n",
              " 'AZO',\n",
              " 'AVB',\n",
              " 'AVY',\n",
              " 'AXON',\n",
              " 'BKR',\n",
              " 'BALL',\n",
              " 'BAC',\n",
              " 'BK',\n",
              " 'BBWI',\n",
              " 'BAX',\n",
              " 'BDX',\n",
              " 'BRK-B',\n",
              " 'BBY',\n",
              " 'BIO',\n",
              " 'TECH',\n",
              " 'BIIB',\n",
              " 'BLK',\n",
              " 'BX',\n",
              " 'BA',\n",
              " 'BKNG',\n",
              " 'BWA',\n",
              " 'BXP',\n",
              " 'BSX',\n",
              " 'BMY',\n",
              " 'AVGO',\n",
              " 'BR',\n",
              " 'BRO',\n",
              " 'BF-B',\n",
              " 'BLDR',\n",
              " 'BG',\n",
              " 'CDNS',\n",
              " 'CZR',\n",
              " 'CPT',\n",
              " 'CPB',\n",
              " 'COF',\n",
              " 'CAH',\n",
              " 'KMX',\n",
              " 'CCL',\n",
              " 'CARR',\n",
              " 'CTLT',\n",
              " 'CAT',\n",
              " 'CBOE',\n",
              " 'CBRE',\n",
              " 'CDW',\n",
              " 'CE',\n",
              " 'COR',\n",
              " 'CNC',\n",
              " 'CNP',\n",
              " 'CF',\n",
              " 'CHRW',\n",
              " 'CRL',\n",
              " 'SCHW',\n",
              " 'CHTR',\n",
              " 'CVX',\n",
              " 'CMG',\n",
              " 'CB',\n",
              " 'CHD',\n",
              " 'CI',\n",
              " 'CINF',\n",
              " 'CTAS',\n",
              " 'CSCO',\n",
              " 'C',\n",
              " 'CFG',\n",
              " 'CLX',\n",
              " 'CME',\n",
              " 'CMS',\n",
              " 'KO',\n",
              " 'CTSH',\n",
              " 'CL',\n",
              " 'CMCSA',\n",
              " 'CMA',\n",
              " 'CAG',\n",
              " 'COP',\n",
              " 'ED',\n",
              " 'STZ',\n",
              " 'CEG',\n",
              " 'COO',\n",
              " 'CPRT',\n",
              " 'GLW',\n",
              " 'CPAY',\n",
              " 'CTVA',\n",
              " 'CSGP',\n",
              " 'COST',\n",
              " 'CTRA',\n",
              " 'CCI',\n",
              " 'CSX',\n",
              " 'CMI',\n",
              " 'CVS',\n",
              " 'DHR',\n",
              " 'DRI',\n",
              " 'DVA',\n",
              " 'DAY',\n",
              " 'DECK',\n",
              " 'DE',\n",
              " 'DAL',\n",
              " 'DVN',\n",
              " 'DXCM',\n",
              " 'FANG',\n",
              " 'DLR',\n",
              " 'DFS',\n",
              " 'DG',\n",
              " 'DLTR',\n",
              " 'D',\n",
              " 'DPZ',\n",
              " 'DOV',\n",
              " 'DOW',\n",
              " 'DHI',\n",
              " 'DTE',\n",
              " 'DUK',\n",
              " 'DD',\n",
              " 'EMN',\n",
              " 'ETN',\n",
              " 'EBAY',\n",
              " 'ECL',\n",
              " 'EIX',\n",
              " 'EW',\n",
              " 'EA',\n",
              " 'ELV',\n",
              " 'LLY',\n",
              " 'EMR',\n",
              " 'ENPH',\n",
              " 'ETR',\n",
              " 'EOG',\n",
              " 'EPAM',\n",
              " 'EQT',\n",
              " 'EFX',\n",
              " 'EQIX',\n",
              " 'EQR',\n",
              " 'ESS',\n",
              " 'EL',\n",
              " 'ETSY',\n",
              " 'EG',\n",
              " 'EVRG',\n",
              " 'ES',\n",
              " 'EXC',\n",
              " 'EXPE',\n",
              " 'EXPD',\n",
              " 'EXR',\n",
              " 'XOM',\n",
              " 'FFIV',\n",
              " 'FDS',\n",
              " 'FICO',\n",
              " 'FAST',\n",
              " 'FRT',\n",
              " 'FDX',\n",
              " 'FIS',\n",
              " 'FITB',\n",
              " 'FSLR',\n",
              " 'FE',\n",
              " 'FI',\n",
              " 'FMC',\n",
              " 'F',\n",
              " 'FTNT',\n",
              " 'FTV',\n",
              " 'FOXA',\n",
              " 'FOX',\n",
              " 'BEN',\n",
              " 'FCX',\n",
              " 'GRMN',\n",
              " 'IT',\n",
              " 'GE',\n",
              " 'GEHC',\n",
              " 'GEN',\n",
              " 'GNRC',\n",
              " 'GD',\n",
              " 'GIS',\n",
              " 'GM',\n",
              " 'GPC',\n",
              " 'GILD',\n",
              " 'GPN',\n",
              " 'GL',\n",
              " 'GS',\n",
              " 'HAL',\n",
              " 'HIG',\n",
              " 'HAS',\n",
              " 'HCA',\n",
              " 'DOC',\n",
              " 'HSIC',\n",
              " 'HSY',\n",
              " 'HES',\n",
              " 'HPE',\n",
              " 'HLT',\n",
              " 'HOLX',\n",
              " 'HD',\n",
              " 'HON',\n",
              " 'HRL',\n",
              " 'HST',\n",
              " 'HWM',\n",
              " 'HPQ',\n",
              " 'HUBB',\n",
              " 'HUM',\n",
              " 'HBAN',\n",
              " 'HII',\n",
              " 'IBM',\n",
              " 'IEX',\n",
              " 'IDXX',\n",
              " 'ITW',\n",
              " 'ILMN',\n",
              " 'INCY',\n",
              " 'IR',\n",
              " 'PODD',\n",
              " 'INTC',\n",
              " 'ICE',\n",
              " 'IFF',\n",
              " 'IP',\n",
              " 'IPG',\n",
              " 'INTU',\n",
              " 'ISRG',\n",
              " 'IVZ',\n",
              " 'INVH',\n",
              " 'IQV',\n",
              " 'IRM',\n",
              " 'JBHT',\n",
              " 'JBL',\n",
              " 'JKHY',\n",
              " 'J',\n",
              " 'JNJ',\n",
              " 'JCI',\n",
              " 'JPM',\n",
              " 'JNPR',\n",
              " 'K',\n",
              " 'KVUE',\n",
              " 'KDP',\n",
              " 'KEY',\n",
              " 'KEYS',\n",
              " 'KMB',\n",
              " 'KIM',\n",
              " 'KMI',\n",
              " 'KLAC',\n",
              " 'KHC',\n",
              " 'KR',\n",
              " 'LHX',\n",
              " 'LH',\n",
              " 'LRCX',\n",
              " 'LW',\n",
              " 'LVS',\n",
              " 'LDOS',\n",
              " 'LEN',\n",
              " 'LIN',\n",
              " 'LYV',\n",
              " 'LKQ',\n",
              " 'LMT',\n",
              " 'L',\n",
              " 'LOW',\n",
              " 'LULU',\n",
              " 'LYB',\n",
              " 'MTB',\n",
              " 'MRO',\n",
              " 'MPC',\n",
              " 'MKTX',\n",
              " 'MAR',\n",
              " 'MMC',\n",
              " 'MLM',\n",
              " 'MAS',\n",
              " 'MA',\n",
              " 'MTCH',\n",
              " 'MKC',\n",
              " 'MCD',\n",
              " 'MCK',\n",
              " 'MDT',\n",
              " 'MRK',\n",
              " 'META',\n",
              " 'MET',\n",
              " 'MTD',\n",
              " 'MGM',\n",
              " 'MCHP',\n",
              " 'MU',\n",
              " 'MSFT',\n",
              " 'MAA',\n",
              " 'MRNA',\n",
              " 'MHK',\n",
              " 'MOH',\n",
              " 'TAP',\n",
              " 'MDLZ',\n",
              " 'MPWR',\n",
              " 'MNST',\n",
              " 'MCO',\n",
              " 'MS',\n",
              " 'MOS',\n",
              " 'MSI',\n",
              " 'MSCI',\n",
              " 'NDAQ',\n",
              " 'NTAP',\n",
              " 'NFLX',\n",
              " 'NEM',\n",
              " 'NWSA',\n",
              " 'NWS',\n",
              " 'NEE',\n",
              " 'NKE',\n",
              " 'NI',\n",
              " 'NDSN',\n",
              " 'NSC',\n",
              " 'NTRS',\n",
              " 'NOC',\n",
              " 'NCLH',\n",
              " 'NRG',\n",
              " 'NUE',\n",
              " 'NVDA',\n",
              " 'NVR',\n",
              " 'NXPI',\n",
              " 'ORLY',\n",
              " 'OXY',\n",
              " 'ODFL',\n",
              " 'OMC',\n",
              " 'ON',\n",
              " 'OKE',\n",
              " 'ORCL',\n",
              " 'OTIS',\n",
              " 'PCAR',\n",
              " 'PKG',\n",
              " 'PANW',\n",
              " 'PARA',\n",
              " 'PH',\n",
              " 'PAYX',\n",
              " 'PAYC',\n",
              " 'PYPL',\n",
              " 'PNR',\n",
              " 'PEP',\n",
              " 'PFE',\n",
              " 'PCG',\n",
              " 'PM',\n",
              " 'PSX',\n",
              " 'PNW',\n",
              " 'PNC',\n",
              " 'POOL',\n",
              " 'PPG',\n",
              " 'PPL',\n",
              " 'PFG',\n",
              " 'PG',\n",
              " 'PGR',\n",
              " 'PLD',\n",
              " 'PRU',\n",
              " 'PEG',\n",
              " 'PTC',\n",
              " 'PSA',\n",
              " 'PHM',\n",
              " 'QRVO',\n",
              " 'PWR',\n",
              " 'QCOM',\n",
              " 'DGX',\n",
              " 'RL',\n",
              " 'RJF',\n",
              " 'RTX',\n",
              " 'O',\n",
              " 'REG',\n",
              " 'REGN',\n",
              " 'RF',\n",
              " 'RSG',\n",
              " 'RMD',\n",
              " 'RVTY',\n",
              " 'RHI',\n",
              " 'ROK',\n",
              " 'ROL',\n",
              " 'ROP',\n",
              " 'ROST',\n",
              " 'RCL',\n",
              " 'SPGI',\n",
              " 'CRM',\n",
              " 'SBAC',\n",
              " 'SLB',\n",
              " 'STX',\n",
              " 'SRE',\n",
              " 'NOW',\n",
              " 'SHW',\n",
              " 'SPG',\n",
              " 'SWKS',\n",
              " 'SJM',\n",
              " 'SNA',\n",
              " 'SO',\n",
              " 'LUV',\n",
              " 'SWK',\n",
              " 'SBUX',\n",
              " 'STT',\n",
              " 'STLD',\n",
              " 'STE',\n",
              " 'SYK',\n",
              " 'SMCI',\n",
              " 'SYF',\n",
              " 'SNPS',\n",
              " 'SYY',\n",
              " 'TMUS',\n",
              " 'TROW',\n",
              " 'TTWO',\n",
              " 'TPR',\n",
              " 'TRGP',\n",
              " 'TGT',\n",
              " 'TEL',\n",
              " 'TDY',\n",
              " 'TFX',\n",
              " 'TER',\n",
              " 'TSLA',\n",
              " 'TXN',\n",
              " 'TXT',\n",
              " 'TMO',\n",
              " 'TJX',\n",
              " 'TSCO',\n",
              " 'TT',\n",
              " 'TDG',\n",
              " 'TRV',\n",
              " 'TRMB',\n",
              " 'TFC',\n",
              " 'TYL',\n",
              " 'TSN',\n",
              " 'USB',\n",
              " 'UBER',\n",
              " 'UDR',\n",
              " 'ULTA',\n",
              " 'UNP',\n",
              " 'UAL',\n",
              " 'UPS',\n",
              " 'URI',\n",
              " 'UNH',\n",
              " 'UHS',\n",
              " 'VLO',\n",
              " 'VTR',\n",
              " 'VRSN',\n",
              " 'VRSK',\n",
              " 'VZ',\n",
              " 'VRTX',\n",
              " 'VTRS',\n",
              " 'VICI',\n",
              " 'V',\n",
              " 'VST',\n",
              " 'VMC',\n",
              " 'WRB',\n",
              " 'GWW',\n",
              " 'WAB',\n",
              " 'WBA',\n",
              " 'WMT',\n",
              " 'DIS',\n",
              " 'WBD',\n",
              " 'WM',\n",
              " 'WAT',\n",
              " 'WEC',\n",
              " 'WFC',\n",
              " 'WELL',\n",
              " 'WST',\n",
              " 'WDC',\n",
              " 'WY',\n",
              " 'WMB',\n",
              " 'WTW',\n",
              " 'WYNN',\n",
              " 'XEL',\n",
              " 'XYL',\n",
              " 'YUM',\n",
              " 'ZBRA',\n",
              " 'ZBH',\n",
              " 'ZTS']"
            ]
          },
          "metadata": {},
          "execution_count": 218
        }
      ]
    },
    {
      "cell_type": "code",
      "source": [
        "def RSICalc(asset):\n",
        "  df = yf.download(asset, start = '2014-01-01')\n",
        "  df ['MA200'] = df['Adj Close'].rolling(window=200).mean() #To retrieve the 200 day moving average\n",
        "  df['Price Change'] = df['Adj Close'].pct_change()\n",
        "  df['Upmove'] = df['Price Change'].apply(lambda x: x if x > 0 else 0) #Defining upmove\n",
        "  df['Downmove'] = df['Price Change'].apply(lambda x: abs(x) if x < 0 else 0 ) # Defining downmove\n",
        "  df['Avg Up'] = df['Upmove'].ewm(span =19). mean()\n",
        "  df['Avg Down'] = df['Downmove'].ewm(span =19). mean()\n",
        "  df = df.dropna()\n",
        "  df['RS'] = df['Avg Up']/df['Avg Down']\n",
        "  df['RSI'] = df['RS'].apply(lambda x: 100-(100/(x+1)))\n",
        "  df.loc[(df['Adj Close'] > df['MA200']) & (df['RSI'] < 30), 'Buy'] = 'Yes'\n",
        "  df.loc[(df['Adj Close'] < df['MA200']) | (df['RSI'] > 30), 'Buy'] = 'No'\n",
        "  return df\n",
        "\n",
        "\n"
      ],
      "metadata": {
        "id": "qB53P6aNGG7D"
      },
      "execution_count": null,
      "outputs": []
    },
    {
      "cell_type": "code",
      "source": [
        "def getSignals(df):\n",
        "  Buying_dates = []\n",
        "  Selling_dates = []\n",
        "\n",
        "  for i in range(len(df) - 11):  # Ensure enough rows to check up to 10 days ahead\n",
        "        if \"Yes\" in df['Buy'].iloc[i]:\n",
        "            Buying_dates.append(df.index[i + 1])  # Appending the next date\n",
        "\n",
        "            for j in range(1, 11):\n",
        "                if df['RSI'].iloc[i + j] > 40:\n",
        "                    Selling_dates.append(df.index[i + j + 1])\n",
        "                    break\n",
        "                elif j == 10:\n",
        "                    Selling_dates.append(df.index[i + j + 1])\n",
        "\n",
        "  return Buying_dates,Selling_dates\n",
        "\n"
      ],
      "metadata": {
        "id": "LnaURyXLKu3t"
      },
      "execution_count": null,
      "outputs": []
    },
    {
      "cell_type": "code",
      "source": [
        "frame = RSICalc(tickers[0])\n",
        "buy,sell = getSignals(frame)"
      ],
      "metadata": {
        "colab": {
          "base_uri": "https://localhost:8080/"
        },
        "id": "11AkjJkFGmH-",
        "outputId": "6a37e6fe-1e1e-4cf9-9b4e-0281704fe10a"
      },
      "execution_count": null,
      "outputs": [
        {
          "output_type": "stream",
          "name": "stderr",
          "text": [
            "\r[*********************100%%**********************]  1 of 1 completed\n"
          ]
        }
      ]
    },
    {
      "cell_type": "code",
      "source": [
        "plt.figure(figsize=(12,5))\n",
        "plt.scatter(frame.loc[buy].index, frame.loc[buy]['Adj Close'], marker ='^', c='g')\n",
        "plt.plot(frame['Adj Close'], alpha =0.7)"
      ],
      "metadata": {
        "colab": {
          "base_uri": "https://localhost:8080/",
          "height": 462
        },
        "id": "tNRdqUSacQLd",
        "outputId": "7bf91476-330f-40cf-8f01-4ce24056c988"
      },
      "execution_count": null,
      "outputs": [
        {
          "output_type": "execute_result",
          "data": {
            "text/plain": [
              "[<matplotlib.lines.Line2D at 0x7a86204f7010>]"
            ]
          },
          "metadata": {},
          "execution_count": 204
        },
        {
          "output_type": "display_data",
          "data": {
            "text/plain": [
              "<Figure size 1200x500 with 1 Axes>"
            ],
            "image/png": "[encoded data removed]"
          },
          "metadata": {}
        }
      ]
    },
    {
      "cell_type": "code",
      "source": [
        "profit = (frame.loc[sell].Open.values - frame.loc[buy].Open.values)/ frame.loc[buy].Open.values"
      ],
      "metadata": {
        "id": "kotfjIPXemii"
      },
      "execution_count": null,
      "outputs": []
    },
    {
      "cell_type": "code",
      "source": [
        "profit"
      ],
      "metadata": {
        "colab": {
          "base_uri": "https://localhost:8080/"
        },
        "id": "QaprrES3e8jR",
        "outputId": "ce25c9c7-efa7-4166-cded-94e799981877"
      },
      "execution_count": null,
      "outputs": [
        {
          "output_type": "execute_result",
          "data": {
            "text/plain": [
              "array([ 0.01300845,  0.01320229, -0.00076646,  0.00355307, -0.01841874,\n",
              "        0.01366924,  0.02033738,  0.01195275,  0.01594998,  0.00852708,\n",
              "        0.02154841,  0.00861575,  0.01892713, -0.00528457,  0.01409034,\n",
              "        0.01120923])"
            ]
          },
          "metadata": {},
          "execution_count": 206
        }
      ]
    },
    {
      "cell_type": "code",
      "source": [
        "wins = [i for i in profit if i>0]"
      ],
      "metadata": {
        "id": "4TQOuzAnfAms"
      },
      "execution_count": null,
      "outputs": []
    },
    {
      "cell_type": "code",
      "source": [
        "len(wins)/len(profit)"
      ],
      "metadata": {
        "colab": {
          "base_uri": "https://localhost:8080/"
        },
        "id": "YUelo0eafM5P",
        "outputId": "435a9847-171a-4f20-f0df-cd921952fda6"
      },
      "execution_count": null,
      "outputs": [
        {
          "output_type": "execute_result",
          "data": {
            "text/plain": [
              "0.8125"
            ]
          },
          "metadata": {},
          "execution_count": 208
        }
      ]
    },
    {
      "cell_type": "code",
      "source": [
        "len(profit)"
      ],
      "metadata": {
        "colab": {
          "base_uri": "https://localhost:8080/"
        },
        "id": "YdcuIe9CfRpz",
        "outputId": "acd8d725-93dc-4170-93cb-6cced09b88a9"
      },
      "execution_count": null,
      "outputs": [
        {
          "output_type": "execute_result",
          "data": {
            "text/plain": [
              "16"
            ]
          },
          "metadata": {},
          "execution_count": 209
        }
      ]
    },
    {
      "cell_type": "code",
      "source": [
        "matrixSignals = []\n",
        "matrixProfits = []\n",
        "\n",
        "for i in range(len(tickers)):\n",
        "  print(tickers[i])\n",
        "  frame = RSICalc(tickers[i])\n",
        "  buy,sell = getSignals(frame)\n",
        "  profit = (frame.loc[sell].Open.values - frame.loc[buy].Open.values)/ frame.loc[buy].Open.values\n",
        "  matrixSignals.append(buy)\n",
        "  matrixProfits.append(profit)"
      ],
      "metadata": {
        "colab": {
          "base_uri": "https://localhost:8080/"
        },
        "id": "81vz1pZ8f2fw",
        "outputId": "6bcb88ee-608a-4d48-fcbc-1e78304a1cc0"
      },
      "execution_count": null,
      "outputs": [
        {
          "output_type": "stream",
          "name": "stdout",
          "text": [
            "MMM\n"
          ]
        },
        {
          "output_type": "stream",
          "name": "stderr",
          "text": [
            "\r[*********************100%%**********************]  1 of 1 completed\n"
          ]
        },
        {
          "output_type": "stream",
          "name": "stdout",
          "text": [
            "AOS\n"
          ]
        },
        {
          "output_type": "stream",
          "name": "stderr",
          "text": [
            "\r[*********************100%%**********************]  1 of 1 completed\n"
          ]
        },
        {
          "output_type": "stream",
          "name": "stdout",
          "text": [
            "ABT\n"
          ]
        },
        {
          "output_type": "stream",
          "name": "stderr",
          "text": [
            "[*********************100%%**********************]  1 of 1 completed\n",
            "[*********************100%%**********************]  1 of 1 completed"
          ]
        },
        {
          "output_type": "stream",
          "name": "stdout",
          "text": [
            "ABBV\n"
          ]
        },
        {
          "output_type": "stream",
          "name": "stderr",
          "text": [
            "\n",
            "\r[*********************100%%**********************]  1 of 1 completed\n"
          ]
        },
        {
          "output_type": "stream",
          "name": "stdout",
          "text": [
            "ACN\n",
            "ADBE\n"
          ]
        },
        {
          "output_type": "stream",
          "name": "stderr",
          "text": [
            "[*********************100%%**********************]  1 of 1 completed\n",
            "[*********************100%%**********************]  1 of 1 completed\n"
          ]
        },
        {
          "output_type": "stream",
          "name": "stdout",
          "text": [
            "AMD\n",
            "AES\n"
          ]
        },
        {
          "output_type": "stream",
          "name": "stderr",
          "text": [
            "\r[*********************100%%**********************]  1 of 1 completed\n"
          ]
        },
        {
          "output_type": "stream",
          "name": "stdout",
          "text": [
            "AFL\n"
          ]
        },
        {
          "output_type": "stream",
          "name": "stderr",
          "text": [
            "[*********************100%%**********************]  1 of 1 completed\n",
            "[*********************100%%**********************]  1 of 1 completed"
          ]
        },
        {
          "output_type": "stream",
          "name": "stdout",
          "text": [
            "A\n"
          ]
        },
        {
          "output_type": "stream",
          "name": "stderr",
          "text": [
            "\n"
          ]
        },
        {
          "output_type": "stream",
          "name": "stdout",
          "text": [
            "APD\n"
          ]
        },
        {
          "output_type": "stream",
          "name": "stderr",
          "text": [
            "[*********************100%%**********************]  1 of 1 completed\n",
            "[*********************100%%**********************]  1 of 1 completed\n"
          ]
        },
        {
          "output_type": "stream",
          "name": "stdout",
          "text": [
            "ABNB\n",
            "AKAM\n"
          ]
        },
        {
          "output_type": "stream",
          "name": "stderr",
          "text": [
            "[*********************100%%**********************]  1 of 1 completed\n",
            "[*********************100%%**********************]  1 of 1 completed"
          ]
        },
        {
          "output_type": "stream",
          "name": "stdout",
          "text": [
            "ALB\n"
          ]
        },
        {
          "output_type": "stream",
          "name": "stderr",
          "text": [
            "\n",
            "[*********************100%%**********************]  1 of 1 completed"
          ]
        },
        {
          "output_type": "stream",
          "name": "stdout",
          "text": [
            "ARE\n"
          ]
        },
        {
          "output_type": "stream",
          "name": "stderr",
          "text": [
            "\n",
            "\r[*********************100%%**********************]  1 of 1 completed\n"
          ]
        },
        {
          "output_type": "stream",
          "name": "stdout",
          "text": [
            "ALGN\n",
            "ALLE\n"
          ]
        },
        {
          "output_type": "stream",
          "name": "stderr",
          "text": [
            "\r[*********************100%%**********************]  1 of 1 completed\n"
          ]
        },
        {
          "output_type": "stream",
          "name": "stdout",
          "text": [
            "LNT\n"
          ]
        },
        {
          "output_type": "stream",
          "name": "stderr",
          "text": [
            "\r[*********************100%%**********************]  1 of 1 completed\n"
          ]
        },
        {
          "output_type": "stream",
          "name": "stdout",
          "text": [
            "ALL\n"
          ]
        },
        {
          "output_type": "stream",
          "name": "stderr",
          "text": [
            "[*********************100%%**********************]  1 of 1 completed\n",
            "[*********************100%%**********************]  1 of 1 completed"
          ]
        },
        {
          "output_type": "stream",
          "name": "stdout",
          "text": [
            "GOOGL\n"
          ]
        },
        {
          "output_type": "stream",
          "name": "stderr",
          "text": [
            "\n",
            "[*********************100%%**********************]  1 of 1 completed"
          ]
        },
        {
          "output_type": "stream",
          "name": "stdout",
          "text": [
            "GOOG\n"
          ]
        },
        {
          "output_type": "stream",
          "name": "stderr",
          "text": [
            "\n"
          ]
        },
        {
          "output_type": "stream",
          "name": "stdout",
          "text": [
            "MO\n"
          ]
        },
        {
          "output_type": "stream",
          "name": "stderr",
          "text": [
            "[*********************100%%**********************]  1 of 1 completed\n",
            "[*********************100%%**********************]  1 of 1 completed"
          ]
        },
        {
          "output_type": "stream",
          "name": "stdout",
          "text": [
            "AMZN\n"
          ]
        },
        {
          "output_type": "stream",
          "name": "stderr",
          "text": [
            "\n"
          ]
        },
        {
          "output_type": "stream",
          "name": "stdout",
          "text": [
            "AMCR\n"
          ]
        },
        {
          "output_type": "stream",
          "name": "stderr",
          "text": [
            "\r[*********************100%%**********************]  1 of 1 completed\n"
          ]
        },
        {
          "output_type": "stream",
          "name": "stdout",
          "text": [
            "AEE\n"
          ]
        },
        {
          "output_type": "stream",
          "name": "stderr",
          "text": [
            "[*********************100%%**********************]  1 of 1 completed\n",
            "[*********************100%%**********************]  1 of 1 completed"
          ]
        },
        {
          "output_type": "stream",
          "name": "stdout",
          "text": [
            "AAL\n"
          ]
        },
        {
          "output_type": "stream",
          "name": "stderr",
          "text": [
            "\n"
          ]
        },
        {
          "output_type": "stream",
          "name": "stdout",
          "text": [
            "AEP\n"
          ]
        },
        {
          "output_type": "stream",
          "name": "stderr",
          "text": [
            "\r[*********************100%%**********************]  1 of 1 completed\n"
          ]
        },
        {
          "output_type": "stream",
          "name": "stdout",
          "text": [
            "AXP\n"
          ]
        },
        {
          "output_type": "stream",
          "name": "stderr",
          "text": [
            "\r[*********************100%%**********************]  1 of 1 completed\n"
          ]
        },
        {
          "output_type": "stream",
          "name": "stdout",
          "text": [
            "AIG\n"
          ]
        },
        {
          "output_type": "stream",
          "name": "stderr",
          "text": [
            "\r[*********************100%%**********************]  1 of 1 completed\n"
          ]
        },
        {
          "output_type": "stream",
          "name": "stdout",
          "text": [
            "AMT\n"
          ]
        },
        {
          "output_type": "stream",
          "name": "stderr",
          "text": [
            "[*********************100%%**********************]  1 of 1 completed\n",
            "[*********************100%%**********************]  1 of 1 completed"
          ]
        },
        {
          "output_type": "stream",
          "name": "stdout",
          "text": [
            "AWK\n"
          ]
        },
        {
          "output_type": "stream",
          "name": "stderr",
          "text": [
            "\n",
            "[*********************100%%**********************]  1 of 1 completed"
          ]
        },
        {
          "output_type": "stream",
          "name": "stdout",
          "text": [
            "AMP\n"
          ]
        },
        {
          "output_type": "stream",
          "name": "stderr",
          "text": [
            "\n",
            "[*********************100%%**********************]  1 of 1 completed"
          ]
        },
        {
          "output_type": "stream",
          "name": "stdout",
          "text": [
            "AME\n"
          ]
        },
        {
          "output_type": "stream",
          "name": "stderr",
          "text": [
            "\n",
            "[*********************100%%**********************]  1 of 1 completed"
          ]
        },
        {
          "output_type": "stream",
          "name": "stdout",
          "text": [
            "AMGN\n"
          ]
        },
        {
          "output_type": "stream",
          "name": "stderr",
          "text": [
            "\n"
          ]
        },
        {
          "output_type": "stream",
          "name": "stdout",
          "text": [
            "APH\n"
          ]
        },
        {
          "output_type": "stream",
          "name": "stderr",
          "text": [
            "[*********************100%%**********************]  1 of 1 completed\n",
            "[*********************100%%**********************]  1 of 1 completed"
          ]
        },
        {
          "output_type": "stream",
          "name": "stdout",
          "text": [
            "ADI\n"
          ]
        },
        {
          "output_type": "stream",
          "name": "stderr",
          "text": [
            "\n",
            "\r[*********************100%%**********************]  1 of 1 completed\n"
          ]
        },
        {
          "output_type": "stream",
          "name": "stdout",
          "text": [
            "ANSS\n"
          ]
        },
        {
          "output_type": "stream",
          "name": "stderr",
          "text": [
            "\r[*********************100%%**********************]  1 of 1 completed"
          ]
        },
        {
          "output_type": "stream",
          "name": "stdout",
          "text": [
            "AON\n"
          ]
        },
        {
          "output_type": "stream",
          "name": "stderr",
          "text": [
            "\n",
            "[*********************100%%**********************]  1 of 1 completed"
          ]
        },
        {
          "output_type": "stream",
          "name": "stdout",
          "text": [
            "APA\n"
          ]
        },
        {
          "output_type": "stream",
          "name": "stderr",
          "text": [
            "\n",
            "[*********************100%%**********************]  1 of 1 completed"
          ]
        },
        {
          "output_type": "stream",
          "name": "stdout",
          "text": [
            "AAPL\n"
          ]
        },
        {
          "output_type": "stream",
          "name": "stderr",
          "text": [
            "\n"
          ]
        },
        {
          "output_type": "stream",
          "name": "stdout",
          "text": [
            "AMAT\n"
          ]
        },
        {
          "output_type": "stream",
          "name": "stderr",
          "text": [
            "[*********************100%%**********************]  1 of 1 completed\n",
            "[*********************100%%**********************]  1 of 1 completed"
          ]
        },
        {
          "output_type": "stream",
          "name": "stdout",
          "text": [
            "APTV\n"
          ]
        },
        {
          "output_type": "stream",
          "name": "stderr",
          "text": [
            "\n",
            "\r[*********************100%%**********************]  1 of 1 completed\n"
          ]
        },
        {
          "output_type": "stream",
          "name": "stdout",
          "text": [
            "ACGL\n",
            "ADM\n"
          ]
        },
        {
          "output_type": "stream",
          "name": "stderr",
          "text": [
            "[*********************100%%**********************]  1 of 1 completed\n",
            "[*********************100%%**********************]  1 of 1 completed\n"
          ]
        },
        {
          "output_type": "stream",
          "name": "stdout",
          "text": [
            "ANET\n",
            "AJG\n"
          ]
        },
        {
          "output_type": "stream",
          "name": "stderr",
          "text": [
            "[*********************100%%**********************]  1 of 1 completed\n",
            "[*********************100%%**********************]  1 of 1 completed"
          ]
        },
        {
          "output_type": "stream",
          "name": "stdout",
          "text": [
            "AIZ\n"
          ]
        },
        {
          "output_type": "stream",
          "name": "stderr",
          "text": [
            "\n"
          ]
        },
        {
          "output_type": "stream",
          "name": "stdout",
          "text": [
            "T\n"
          ]
        },
        {
          "output_type": "stream",
          "name": "stderr",
          "text": [
            "\r[*********************100%%**********************]  1 of 1 completed\n"
          ]
        },
        {
          "output_type": "stream",
          "name": "stdout",
          "text": [
            "ATO\n"
          ]
        },
        {
          "output_type": "stream",
          "name": "stderr",
          "text": [
            "[*********************100%%**********************]  1 of 1 completed\n",
            "[*********************100%%**********************]  1 of 1 completed\n"
          ]
        },
        {
          "output_type": "stream",
          "name": "stdout",
          "text": [
            "ADSK\n",
            "ADP\n"
          ]
        },
        {
          "output_type": "stream",
          "name": "stderr",
          "text": [
            "[*********************100%%**********************]  1 of 1 completed\n",
            "[*********************100%%**********************]  1 of 1 completed\n"
          ]
        },
        {
          "output_type": "stream",
          "name": "stdout",
          "text": [
            "AZO\n"
          ]
        },
        {
          "output_type": "stream",
          "name": "stderr",
          "text": [
            "\r[*********************100%%**********************]  1 of 1 completed"
          ]
        },
        {
          "output_type": "stream",
          "name": "stdout",
          "text": [
            "AVB\n"
          ]
        },
        {
          "output_type": "stream",
          "name": "stderr",
          "text": [
            "\n",
            "[*********************100%%**********************]  1 of 1 completed"
          ]
        },
        {
          "output_type": "stream",
          "name": "stdout",
          "text": [
            "AVY\n"
          ]
        },
        {
          "output_type": "stream",
          "name": "stderr",
          "text": [
            "\n",
            "\r[*********************100%%**********************]  1 of 1 completed\n"
          ]
        },
        {
          "output_type": "stream",
          "name": "stdout",
          "text": [
            "AXON\n",
            "BKR\n"
          ]
        },
        {
          "output_type": "stream",
          "name": "stderr",
          "text": [
            "\r[*********************100%%**********************]  1 of 1 completed\n"
          ]
        },
        {
          "output_type": "stream",
          "name": "stdout",
          "text": [
            "BALL\n"
          ]
        },
        {
          "output_type": "stream",
          "name": "stderr",
          "text": [
            "\r[*********************100%%**********************]  1 of 1 completed\n"
          ]
        },
        {
          "output_type": "stream",
          "name": "stdout",
          "text": [
            "BAC\n"
          ]
        },
        {
          "output_type": "stream",
          "name": "stderr",
          "text": [
            "\r[*********************100%%**********************]  1 of 1 completed\n"
          ]
        },
        {
          "output_type": "stream",
          "name": "stdout",
          "text": [
            "BK\n"
          ]
        },
        {
          "output_type": "stream",
          "name": "stderr",
          "text": [
            "\r[*********************100%%**********************]  1 of 1 completed\n"
          ]
        },
        {
          "output_type": "stream",
          "name": "stdout",
          "text": [
            "BBWI\n"
          ]
        },
        {
          "output_type": "stream",
          "name": "stderr",
          "text": [
            "\r[*********************100%%**********************]  1 of 1 completed\n"
          ]
        },
        {
          "output_type": "stream",
          "name": "stdout",
          "text": [
            "BAX\n"
          ]
        },
        {
          "output_type": "stream",
          "name": "stderr",
          "text": [
            "\r[*********************100%%**********************]  1 of 1 completed\n"
          ]
        },
        {
          "output_type": "stream",
          "name": "stdout",
          "text": [
            "BDX\n"
          ]
        },
        {
          "output_type": "stream",
          "name": "stderr",
          "text": [
            "[*********************100%%**********************]  1 of 1 completed\n",
            "[*********************100%%**********************]  1 of 1 completed\n"
          ]
        },
        {
          "output_type": "stream",
          "name": "stdout",
          "text": [
            "BRK-B\n",
            "BBY\n"
          ]
        },
        {
          "output_type": "stream",
          "name": "stderr",
          "text": [
            "[*********************100%%**********************]  1 of 1 completed\n",
            "[*********************100%%**********************]  1 of 1 completed\n"
          ]
        },
        {
          "output_type": "stream",
          "name": "stdout",
          "text": [
            "BIO\n",
            "TECH\n"
          ]
        },
        {
          "output_type": "stream",
          "name": "stderr",
          "text": [
            "[*********************100%%**********************]  1 of 1 completed\n",
            "[*********************100%%**********************]  1 of 1 completed\n"
          ]
        },
        {
          "output_type": "stream",
          "name": "stdout",
          "text": [
            "BIIB\n",
            "BLK\n"
          ]
        },
        {
          "output_type": "stream",
          "name": "stderr",
          "text": [
            "[*********************100%%**********************]  1 of 1 completed\n",
            "[*********************100%%**********************]  1 of 1 completed\n"
          ]
        },
        {
          "output_type": "stream",
          "name": "stdout",
          "text": [
            "BX\n",
            "BA\n"
          ]
        },
        {
          "output_type": "stream",
          "name": "stderr",
          "text": [
            "[*********************100%%**********************]  1 of 1 completed\n",
            "[*********************100%%**********************]  1 of 1 completed\n"
          ]
        },
        {
          "output_type": "stream",
          "name": "stdout",
          "text": [
            "BKNG\n",
            "BWA\n"
          ]
        },
        {
          "output_type": "stream",
          "name": "stderr",
          "text": [
            "[*********************100%%**********************]  1 of 1 completed\n",
            "[*********************100%%**********************]  1 of 1 completed"
          ]
        },
        {
          "output_type": "stream",
          "name": "stdout",
          "text": [
            "BXP\n"
          ]
        },
        {
          "output_type": "stream",
          "name": "stderr",
          "text": [
            "\n",
            "\r[*********************100%%**********************]  1 of 1 completed\n"
          ]
        },
        {
          "output_type": "stream",
          "name": "stdout",
          "text": [
            "BSX\n",
            "BMY\n"
          ]
        },
        {
          "output_type": "stream",
          "name": "stderr",
          "text": [
            "[*********************100%%**********************]  1 of 1 completed\n",
            "[*********************100%%**********************]  1 of 1 completed"
          ]
        },
        {
          "output_type": "stream",
          "name": "stdout",
          "text": [
            "AVGO\n"
          ]
        },
        {
          "output_type": "stream",
          "name": "stderr",
          "text": [
            "\n"
          ]
        },
        {
          "output_type": "stream",
          "name": "stdout",
          "text": [
            "BR\n"
          ]
        },
        {
          "output_type": "stream",
          "name": "stderr",
          "text": [
            "\r[*********************100%%**********************]  1 of 1 completed\n"
          ]
        },
        {
          "output_type": "stream",
          "name": "stdout",
          "text": [
            "BRO\n"
          ]
        },
        {
          "output_type": "stream",
          "name": "stderr",
          "text": [
            "\r[*********************100%%**********************]  1 of 1 completed\n"
          ]
        },
        {
          "output_type": "stream",
          "name": "stdout",
          "text": [
            "BF-B\n"
          ]
        },
        {
          "output_type": "stream",
          "name": "stderr",
          "text": [
            "[*********************100%%**********************]  1 of 1 completed\n",
            "[*********************100%%**********************]  1 of 1 completed"
          ]
        },
        {
          "output_type": "stream",
          "name": "stdout",
          "text": [
            "BLDR\n"
          ]
        },
        {
          "output_type": "stream",
          "name": "stderr",
          "text": [
            "\n"
          ]
        },
        {
          "output_type": "stream",
          "name": "stdout",
          "text": [
            "BG\n"
          ]
        },
        {
          "output_type": "stream",
          "name": "stderr",
          "text": [
            "[*********************100%%**********************]  1 of 1 completed\n",
            "[*********************100%%**********************]  1 of 1 completed"
          ]
        },
        {
          "output_type": "stream",
          "name": "stdout",
          "text": [
            "CDNS\n"
          ]
        },
        {
          "output_type": "stream",
          "name": "stderr",
          "text": [
            "\n",
            "[*********************100%%**********************]  1 of 1 completed\n"
          ]
        },
        {
          "output_type": "stream",
          "name": "stdout",
          "text": [
            "CZR\n",
            "CPT\n"
          ]
        },
        {
          "output_type": "stream",
          "name": "stderr",
          "text": [
            "\r[*********************100%%**********************]  1 of 1 completed\n"
          ]
        },
        {
          "output_type": "stream",
          "name": "stdout",
          "text": [
            "CPB\n"
          ]
        },
        {
          "output_type": "stream",
          "name": "stderr",
          "text": [
            "[*********************100%%**********************]  1 of 1 completed\n",
            "[*********************100%%**********************]  1 of 1 completed"
          ]
        },
        {
          "output_type": "stream",
          "name": "stdout",
          "text": [
            "COF\n"
          ]
        },
        {
          "output_type": "stream",
          "name": "stderr",
          "text": [
            "\n"
          ]
        },
        {
          "output_type": "stream",
          "name": "stdout",
          "text": [
            "CAH\n"
          ]
        },
        {
          "output_type": "stream",
          "name": "stderr",
          "text": [
            "[*********************100%%**********************]  1 of 1 completed\n",
            "[*********************100%%**********************]  1 of 1 completed\n"
          ]
        },
        {
          "output_type": "stream",
          "name": "stdout",
          "text": [
            "KMX\n",
            "CCL\n"
          ]
        },
        {
          "output_type": "stream",
          "name": "stderr",
          "text": [
            "[*********************100%%**********************]  1 of 1 completed\n",
            "[*********************100%%**********************]  1 of 1 completed\n"
          ]
        },
        {
          "output_type": "stream",
          "name": "stdout",
          "text": [
            "CARR\n",
            "CTLT\n"
          ]
        },
        {
          "output_type": "stream",
          "name": "stderr",
          "text": [
            "[*********************100%%**********************]  1 of 1 completed\n",
            "[*********************100%%**********************]  1 of 1 completed"
          ]
        },
        {
          "output_type": "stream",
          "name": "stdout",
          "text": [
            "CAT\n"
          ]
        },
        {
          "output_type": "stream",
          "name": "stderr",
          "text": [
            "\n",
            "\r[*********************100%%**********************]  1 of 1 completed\n"
          ]
        },
        {
          "output_type": "stream",
          "name": "stdout",
          "text": [
            "CBOE\n",
            "CBRE\n"
          ]
        },
        {
          "output_type": "stream",
          "name": "stderr",
          "text": [
            "[*********************100%%**********************]  1 of 1 completed\n",
            "[*********************100%%**********************]  1 of 1 completed\n"
          ]
        },
        {
          "output_type": "stream",
          "name": "stdout",
          "text": [
            "CDW\n",
            "CE\n"
          ]
        },
        {
          "output_type": "stream",
          "name": "stderr",
          "text": [
            "[*********************100%%**********************]  1 of 1 completed\n",
            "[*********************100%%**********************]  1 of 1 completed"
          ]
        },
        {
          "output_type": "stream",
          "name": "stdout",
          "text": [
            "COR\n"
          ]
        },
        {
          "output_type": "stream",
          "name": "stderr",
          "text": [
            "\n",
            "\r[*********************100%%**********************]  1 of 1 completed\n"
          ]
        },
        {
          "output_type": "stream",
          "name": "stdout",
          "text": [
            "CNC\n",
            "CNP\n"
          ]
        },
        {
          "output_type": "stream",
          "name": "stderr",
          "text": [
            "\r[*********************100%%**********************]  1 of 1 completed\n"
          ]
        },
        {
          "output_type": "stream",
          "name": "stdout",
          "text": [
            "CF\n"
          ]
        },
        {
          "output_type": "stream",
          "name": "stderr",
          "text": [
            "[*********************100%%**********************]  1 of 1 completed\n",
            "[*********************100%%**********************]  1 of 1 completed"
          ]
        },
        {
          "output_type": "stream",
          "name": "stdout",
          "text": [
            "CHRW\n"
          ]
        },
        {
          "output_type": "stream",
          "name": "stderr",
          "text": [
            "\n",
            "[*********************100%%**********************]  1 of 1 completed"
          ]
        },
        {
          "output_type": "stream",
          "name": "stdout",
          "text": [
            "CRL\n"
          ]
        },
        {
          "output_type": "stream",
          "name": "stderr",
          "text": [
            "\n",
            "[*********************100%%**********************]  1 of 1 completed"
          ]
        },
        {
          "output_type": "stream",
          "name": "stdout",
          "text": [
            "SCHW\n"
          ]
        },
        {
          "output_type": "stream",
          "name": "stderr",
          "text": [
            "\n",
            "\r[*********************100%%**********************]  1 of 1 completed\n"
          ]
        },
        {
          "output_type": "stream",
          "name": "stdout",
          "text": [
            "CHTR\n",
            "CVX\n"
          ]
        },
        {
          "output_type": "stream",
          "name": "stderr",
          "text": [
            "[*********************100%%**********************]  1 of 1 completed\n",
            "[*********************100%%**********************]  1 of 1 completed\n"
          ]
        },
        {
          "output_type": "stream",
          "name": "stdout",
          "text": [
            "CMG\n",
            "CB\n"
          ]
        },
        {
          "output_type": "stream",
          "name": "stderr",
          "text": [
            "\r[*********************100%%**********************]  1 of 1 completed\n"
          ]
        },
        {
          "output_type": "stream",
          "name": "stdout",
          "text": [
            "CHD\n"
          ]
        },
        {
          "output_type": "stream",
          "name": "stderr",
          "text": [
            "[*********************100%%**********************]  1 of 1 completed\n",
            "[*********************100%%**********************]  1 of 1 completed"
          ]
        },
        {
          "output_type": "stream",
          "name": "stdout",
          "text": [
            "CI\n"
          ]
        },
        {
          "output_type": "stream",
          "name": "stderr",
          "text": [
            "\n",
            "[*********************100%%**********************]  1 of 1 completed"
          ]
        },
        {
          "output_type": "stream",
          "name": "stdout",
          "text": [
            "CINF\n"
          ]
        },
        {
          "output_type": "stream",
          "name": "stderr",
          "text": [
            "\n",
            "[*********************100%%**********************]  1 of 1 completed"
          ]
        },
        {
          "output_type": "stream",
          "name": "stdout",
          "text": [
            "CTAS\n"
          ]
        },
        {
          "output_type": "stream",
          "name": "stderr",
          "text": [
            "\n",
            "[*********************100%%**********************]  1 of 1 completed"
          ]
        },
        {
          "output_type": "stream",
          "name": "stdout",
          "text": [
            "CSCO\n"
          ]
        },
        {
          "output_type": "stream",
          "name": "stderr",
          "text": [
            "\n",
            "[*********************100%%**********************]  1 of 1 completed"
          ]
        },
        {
          "output_type": "stream",
          "name": "stdout",
          "text": [
            "C\n"
          ]
        },
        {
          "output_type": "stream",
          "name": "stderr",
          "text": [
            "\n",
            "\r[*********************100%%**********************]  1 of 1 completed\n"
          ]
        },
        {
          "output_type": "stream",
          "name": "stdout",
          "text": [
            "CFG\n",
            "CLX\n"
          ]
        },
        {
          "output_type": "stream",
          "name": "stderr",
          "text": [
            "[*********************100%%**********************]  1 of 1 completed\n",
            "[*********************100%%**********************]  1 of 1 completed"
          ]
        },
        {
          "output_type": "stream",
          "name": "stdout",
          "text": [
            "CME\n"
          ]
        },
        {
          "output_type": "stream",
          "name": "stderr",
          "text": [
            "\n"
          ]
        },
        {
          "output_type": "stream",
          "name": "stdout",
          "text": [
            "CMS\n"
          ]
        },
        {
          "output_type": "stream",
          "name": "stderr",
          "text": [
            "\r[*********************100%%**********************]  1 of 1 completed\n"
          ]
        },
        {
          "output_type": "stream",
          "name": "stdout",
          "text": [
            "KO\n"
          ]
        },
        {
          "output_type": "stream",
          "name": "stderr",
          "text": [
            "[*********************100%%**********************]  1 of 1 completed\n",
            "[*********************100%%**********************]  1 of 1 completed"
          ]
        },
        {
          "output_type": "stream",
          "name": "stdout",
          "text": [
            "CTSH\n"
          ]
        },
        {
          "output_type": "stream",
          "name": "stderr",
          "text": [
            "\n"
          ]
        },
        {
          "output_type": "stream",
          "name": "stdout",
          "text": [
            "CL\n"
          ]
        },
        {
          "output_type": "stream",
          "name": "stderr",
          "text": [
            "\r[*********************100%%**********************]  1 of 1 completed\n"
          ]
        },
        {
          "output_type": "stream",
          "name": "stdout",
          "text": [
            "CMCSA\n"
          ]
        },
        {
          "output_type": "stream",
          "name": "stderr",
          "text": [
            "[*********************100%%**********************]  1 of 1 completed\n",
            "[*********************100%%**********************]  1 of 1 completed"
          ]
        },
        {
          "output_type": "stream",
          "name": "stdout",
          "text": [
            "CMA\n"
          ]
        },
        {
          "output_type": "stream",
          "name": "stderr",
          "text": [
            "\n"
          ]
        },
        {
          "output_type": "stream",
          "name": "stdout",
          "text": [
            "CAG\n"
          ]
        },
        {
          "output_type": "stream",
          "name": "stderr",
          "text": [
            "[*********************100%%**********************]  1 of 1 completed\n",
            "[*********************100%%**********************]  1 of 1 completed"
          ]
        },
        {
          "output_type": "stream",
          "name": "stdout",
          "text": [
            "COP\n"
          ]
        },
        {
          "output_type": "stream",
          "name": "stderr",
          "text": [
            "\n"
          ]
        },
        {
          "output_type": "stream",
          "name": "stdout",
          "text": [
            "ED\n"
          ]
        },
        {
          "output_type": "stream",
          "name": "stderr",
          "text": [
            "[*********************100%%**********************]  1 of 1 completed\n",
            "[*********************100%%**********************]  1 of 1 completed"
          ]
        },
        {
          "output_type": "stream",
          "name": "stdout",
          "text": [
            "STZ\n"
          ]
        },
        {
          "output_type": "stream",
          "name": "stderr",
          "text": [
            "\n",
            "\r[*********************100%%**********************]  1 of 1 completed\n"
          ]
        },
        {
          "output_type": "stream",
          "name": "stdout",
          "text": [
            "CEG\n",
            "COO\n"
          ]
        },
        {
          "output_type": "stream",
          "name": "stderr",
          "text": [
            "\r[*********************100%%**********************]  1 of 1 completed\n"
          ]
        },
        {
          "output_type": "stream",
          "name": "stdout",
          "text": [
            "CPRT\n"
          ]
        },
        {
          "output_type": "stream",
          "name": "stderr",
          "text": [
            "\r[*********************100%%**********************]  1 of 1 completed\n"
          ]
        },
        {
          "output_type": "stream",
          "name": "stdout",
          "text": [
            "GLW\n"
          ]
        },
        {
          "output_type": "stream",
          "name": "stderr",
          "text": [
            "[*********************100%%**********************]  1 of 1 completed\n",
            "[*********************100%%**********************]  1 of 1 completed"
          ]
        },
        {
          "output_type": "stream",
          "name": "stdout",
          "text": [
            "CPAY\n"
          ]
        },
        {
          "output_type": "stream",
          "name": "stderr",
          "text": [
            "\n",
            "[*********************100%%**********************]  1 of 1 completed"
          ]
        },
        {
          "output_type": "stream",
          "name": "stdout",
          "text": [
            "CTVA\n",
            "CSGP\n"
          ]
        },
        {
          "output_type": "stream",
          "name": "stderr",
          "text": [
            "\n",
            "[*********************100%%**********************]  1 of 1 completed\n",
            "[*********************100%%**********************]  1 of 1 completed"
          ]
        },
        {
          "output_type": "stream",
          "name": "stdout",
          "text": [
            "COST\n"
          ]
        },
        {
          "output_type": "stream",
          "name": "stderr",
          "text": [
            "\n",
            "[*********************100%%**********************]  1 of 1 completed"
          ]
        },
        {
          "output_type": "stream",
          "name": "stdout",
          "text": [
            "CTRA\n"
          ]
        },
        {
          "output_type": "stream",
          "name": "stderr",
          "text": [
            "\n",
            "[*********************100%%**********************]  1 of 1 completed"
          ]
        },
        {
          "output_type": "stream",
          "name": "stdout",
          "text": [
            "CCI\n"
          ]
        },
        {
          "output_type": "stream",
          "name": "stderr",
          "text": [
            "\n"
          ]
        },
        {
          "output_type": "stream",
          "name": "stdout",
          "text": [
            "CSX\n"
          ]
        },
        {
          "output_type": "stream",
          "name": "stderr",
          "text": [
            "\r[*********************100%%**********************]  1 of 1 completed\n"
          ]
        },
        {
          "output_type": "stream",
          "name": "stdout",
          "text": [
            "CMI\n"
          ]
        },
        {
          "output_type": "stream",
          "name": "stderr",
          "text": [
            "[*********************100%%**********************]  1 of 1 completed\n",
            "[*********************100%%**********************]  1 of 1 completed"
          ]
        },
        {
          "output_type": "stream",
          "name": "stdout",
          "text": [
            "CVS\n"
          ]
        },
        {
          "output_type": "stream",
          "name": "stderr",
          "text": [
            "\n",
            "[*********************100%%**********************]  1 of 1 completed"
          ]
        },
        {
          "output_type": "stream",
          "name": "stdout",
          "text": [
            "DHR\n"
          ]
        },
        {
          "output_type": "stream",
          "name": "stderr",
          "text": [
            "\n",
            "[*********************100%%**********************]  1 of 1 completed"
          ]
        },
        {
          "output_type": "stream",
          "name": "stdout",
          "text": [
            "DRI\n"
          ]
        },
        {
          "output_type": "stream",
          "name": "stderr",
          "text": [
            "\n",
            "\r[*********************100%%**********************]  1 of 1 completed\n"
          ]
        },
        {
          "output_type": "stream",
          "name": "stdout",
          "text": [
            "DVA\n",
            "DAY\n"
          ]
        },
        {
          "output_type": "stream",
          "name": "stderr",
          "text": [
            "[*********************100%%**********************]  1 of 1 completed\n",
            "[*********************100%%**********************]  1 of 1 completed\n"
          ]
        },
        {
          "output_type": "stream",
          "name": "stdout",
          "text": [
            "DECK\n",
            "DE\n"
          ]
        },
        {
          "output_type": "stream",
          "name": "stderr",
          "text": [
            "[*********************100%%**********************]  1 of 1 completed\n",
            "[*********************100%%**********************]  1 of 1 completed\n"
          ]
        },
        {
          "output_type": "stream",
          "name": "stdout",
          "text": [
            "DAL\n",
            "DVN\n"
          ]
        },
        {
          "output_type": "stream",
          "name": "stderr",
          "text": [
            "[*********************100%%**********************]  1 of 1 completed\n",
            "[*********************100%%**********************]  1 of 1 completed"
          ]
        },
        {
          "output_type": "stream",
          "name": "stdout",
          "text": [
            "DXCM\n"
          ]
        },
        {
          "output_type": "stream",
          "name": "stderr",
          "text": [
            "\n",
            "\r[*********************100%%**********************]  1 of 1 completed\n"
          ]
        },
        {
          "output_type": "stream",
          "name": "stdout",
          "text": [
            "FANG\n",
            "DLR\n"
          ]
        },
        {
          "output_type": "stream",
          "name": "stderr",
          "text": [
            "[*********************100%%**********************]  1 of 1 completed\n",
            "[*********************100%%**********************]  1 of 1 completed"
          ]
        },
        {
          "output_type": "stream",
          "name": "stdout",
          "text": [
            "DFS\n"
          ]
        },
        {
          "output_type": "stream",
          "name": "stderr",
          "text": [
            "\n",
            "\r[*********************100%%**********************]  1 of 1 completed\n"
          ]
        },
        {
          "output_type": "stream",
          "name": "stdout",
          "text": [
            "DG\n",
            "DLTR\n"
          ]
        },
        {
          "output_type": "stream",
          "name": "stderr",
          "text": [
            "[*********************100%%**********************]  1 of 1 completed\n",
            "[*********************100%%**********************]  1 of 1 completed"
          ]
        },
        {
          "output_type": "stream",
          "name": "stdout",
          "text": [
            "D\n"
          ]
        },
        {
          "output_type": "stream",
          "name": "stderr",
          "text": [
            "\n",
            "[*********************100%%**********************]  1 of 1 completed"
          ]
        },
        {
          "output_type": "stream",
          "name": "stdout",
          "text": [
            "DPZ\n"
          ]
        },
        {
          "output_type": "stream",
          "name": "stderr",
          "text": [
            "\n",
            "[*********************100%%**********************]  1 of 1 completed"
          ]
        },
        {
          "output_type": "stream",
          "name": "stdout",
          "text": [
            "DOV\n"
          ]
        },
        {
          "output_type": "stream",
          "name": "stderr",
          "text": [
            "\n",
            "\r[*********************100%%**********************]  1 of 1 completed\n"
          ]
        },
        {
          "output_type": "stream",
          "name": "stdout",
          "text": [
            "DOW\n",
            "DHI\n"
          ]
        },
        {
          "output_type": "stream",
          "name": "stderr",
          "text": [
            "\r[*********************100%%**********************]  1 of 1 completed\n"
          ]
        },
        {
          "output_type": "stream",
          "name": "stdout",
          "text": [
            "DTE\n"
          ]
        },
        {
          "output_type": "stream",
          "name": "stderr",
          "text": [
            "\r[*********************100%%**********************]  1 of 1 completed\n"
          ]
        },
        {
          "output_type": "stream",
          "name": "stdout",
          "text": [
            "DUK\n"
          ]
        },
        {
          "output_type": "stream",
          "name": "stderr",
          "text": [
            "\r[*********************100%%**********************]  1 of 1 completed\n"
          ]
        },
        {
          "output_type": "stream",
          "name": "stdout",
          "text": [
            "DD\n"
          ]
        },
        {
          "output_type": "stream",
          "name": "stderr",
          "text": [
            "[*********************100%%**********************]  1 of 1 completed\n",
            "[*********************100%%**********************]  1 of 1 completed"
          ]
        },
        {
          "output_type": "stream",
          "name": "stdout",
          "text": [
            "EMN\n"
          ]
        },
        {
          "output_type": "stream",
          "name": "stderr",
          "text": [
            "\n",
            "[*********************100%%**********************]  1 of 1 completed"
          ]
        },
        {
          "output_type": "stream",
          "name": "stdout",
          "text": [
            "ETN\n"
          ]
        },
        {
          "output_type": "stream",
          "name": "stderr",
          "text": [
            "\n",
            "[*********************100%%**********************]  1 of 1 completed"
          ]
        },
        {
          "output_type": "stream",
          "name": "stdout",
          "text": [
            "EBAY\n"
          ]
        },
        {
          "output_type": "stream",
          "name": "stderr",
          "text": [
            "\n"
          ]
        },
        {
          "output_type": "stream",
          "name": "stdout",
          "text": [
            "ECL\n"
          ]
        },
        {
          "output_type": "stream",
          "name": "stderr",
          "text": [
            "\r[*********************100%%**********************]  1 of 1 completed\n"
          ]
        },
        {
          "output_type": "stream",
          "name": "stdout",
          "text": [
            "EIX\n"
          ]
        },
        {
          "output_type": "stream",
          "name": "stderr",
          "text": [
            "[*********************100%%**********************]  1 of 1 completed\n",
            "[*********************100%%**********************]  1 of 1 completed"
          ]
        },
        {
          "output_type": "stream",
          "name": "stdout",
          "text": [
            "EW\n"
          ]
        },
        {
          "output_type": "stream",
          "name": "stderr",
          "text": [
            "\n",
            "[*********************100%%**********************]  1 of 1 completed"
          ]
        },
        {
          "output_type": "stream",
          "name": "stdout",
          "text": [
            "EA\n"
          ]
        },
        {
          "output_type": "stream",
          "name": "stderr",
          "text": [
            "\n",
            "[*********************100%%**********************]  1 of 1 completed"
          ]
        },
        {
          "output_type": "stream",
          "name": "stdout",
          "text": [
            "ELV\n"
          ]
        },
        {
          "output_type": "stream",
          "name": "stderr",
          "text": [
            "\n"
          ]
        },
        {
          "output_type": "stream",
          "name": "stdout",
          "text": [
            "LLY\n"
          ]
        },
        {
          "output_type": "stream",
          "name": "stderr",
          "text": [
            "\r[*********************100%%**********************]  1 of 1 completed\n"
          ]
        },
        {
          "output_type": "stream",
          "name": "stdout",
          "text": [
            "EMR\n"
          ]
        },
        {
          "output_type": "stream",
          "name": "stderr",
          "text": [
            "[*********************100%%**********************]  1 of 1 completed\n",
            "[*********************100%%**********************]  1 of 1 completed\n"
          ]
        },
        {
          "output_type": "stream",
          "name": "stdout",
          "text": [
            "ENPH\n",
            "ETR\n"
          ]
        },
        {
          "output_type": "stream",
          "name": "stderr",
          "text": [
            "\r[*********************100%%**********************]  1 of 1 completed\n"
          ]
        },
        {
          "output_type": "stream",
          "name": "stdout",
          "text": [
            "EOG\n"
          ]
        },
        {
          "output_type": "stream",
          "name": "stderr",
          "text": [
            "[*********************100%%**********************]  1 of 1 completed\n",
            "[*********************100%%**********************]  1 of 1 completed\n"
          ]
        },
        {
          "output_type": "stream",
          "name": "stdout",
          "text": [
            "EPAM\n"
          ]
        },
        {
          "output_type": "stream",
          "name": "stderr",
          "text": [
            "\r[*********************100%%**********************]  1 of 1 completed"
          ]
        },
        {
          "output_type": "stream",
          "name": "stdout",
          "text": [
            "EQT\n"
          ]
        },
        {
          "output_type": "stream",
          "name": "stderr",
          "text": [
            "\n",
            "[*********************100%%**********************]  1 of 1 completed"
          ]
        },
        {
          "output_type": "stream",
          "name": "stdout",
          "text": [
            "EFX\n"
          ]
        },
        {
          "output_type": "stream",
          "name": "stderr",
          "text": [
            "\n"
          ]
        },
        {
          "output_type": "stream",
          "name": "stdout",
          "text": [
            "EQIX\n"
          ]
        },
        {
          "output_type": "stream",
          "name": "stderr",
          "text": [
            "\r[*********************100%%**********************]  1 of 1 completed\n"
          ]
        },
        {
          "output_type": "stream",
          "name": "stdout",
          "text": [
            "EQR\n"
          ]
        },
        {
          "output_type": "stream",
          "name": "stderr",
          "text": [
            "[*********************100%%**********************]  1 of 1 completed\n",
            "[*********************100%%**********************]  1 of 1 completed"
          ]
        },
        {
          "output_type": "stream",
          "name": "stdout",
          "text": [
            "ESS\n"
          ]
        },
        {
          "output_type": "stream",
          "name": "stderr",
          "text": [
            "\n"
          ]
        },
        {
          "output_type": "stream",
          "name": "stdout",
          "text": [
            "EL\n"
          ]
        },
        {
          "output_type": "stream",
          "name": "stderr",
          "text": [
            "[*********************100%%**********************]  1 of 1 completed\n",
            "[*********************100%%**********************]  1 of 1 completed"
          ]
        },
        {
          "output_type": "stream",
          "name": "stdout",
          "text": [
            "ETSY\n"
          ]
        },
        {
          "output_type": "stream",
          "name": "stderr",
          "text": [
            "\n"
          ]
        },
        {
          "output_type": "stream",
          "name": "stdout",
          "text": [
            "EG\n"
          ]
        },
        {
          "output_type": "stream",
          "name": "stderr",
          "text": [
            "\r[*********************100%%**********************]  1 of 1 completed\n"
          ]
        },
        {
          "output_type": "stream",
          "name": "stdout",
          "text": [
            "EVRG\n"
          ]
        },
        {
          "output_type": "stream",
          "name": "stderr",
          "text": [
            "\r[*********************100%%**********************]  1 of 1 completed\n"
          ]
        },
        {
          "output_type": "stream",
          "name": "stdout",
          "text": [
            "ES\n"
          ]
        },
        {
          "output_type": "stream",
          "name": "stderr",
          "text": [
            "\r[*********************100%%**********************]  1 of 1 completed\n"
          ]
        },
        {
          "output_type": "stream",
          "name": "stdout",
          "text": [
            "EXC\n"
          ]
        },
        {
          "output_type": "stream",
          "name": "stderr",
          "text": [
            "[*********************100%%**********************]  1 of 1 completed\n",
            "[*********************100%%**********************]  1 of 1 completed"
          ]
        },
        {
          "output_type": "stream",
          "name": "stdout",
          "text": [
            "EXPE\n"
          ]
        },
        {
          "output_type": "stream",
          "name": "stderr",
          "text": [
            "\n",
            "[*********************100%%**********************]  1 of 1 completed"
          ]
        },
        {
          "output_type": "stream",
          "name": "stdout",
          "text": [
            "EXPD\n"
          ]
        },
        {
          "output_type": "stream",
          "name": "stderr",
          "text": [
            "\n",
            "[*********************100%%**********************]  1 of 1 completed"
          ]
        },
        {
          "output_type": "stream",
          "name": "stdout",
          "text": [
            "EXR\n"
          ]
        },
        {
          "output_type": "stream",
          "name": "stderr",
          "text": [
            "\n"
          ]
        },
        {
          "output_type": "stream",
          "name": "stdout",
          "text": [
            "XOM\n"
          ]
        },
        {
          "output_type": "stream",
          "name": "stderr",
          "text": [
            "[*********************100%%**********************]  1 of 1 completed\n",
            "[*********************100%%**********************]  1 of 1 completed\n"
          ]
        },
        {
          "output_type": "stream",
          "name": "stdout",
          "text": [
            "FFIV\n",
            "FDS\n"
          ]
        },
        {
          "output_type": "stream",
          "name": "stderr",
          "text": [
            "[*********************100%%**********************]  1 of 1 completed\n",
            "[*********************100%%**********************]  1 of 1 completed"
          ]
        },
        {
          "output_type": "stream",
          "name": "stdout",
          "text": [
            "FICO\n"
          ]
        },
        {
          "output_type": "stream",
          "name": "stderr",
          "text": [
            "\n"
          ]
        },
        {
          "output_type": "stream",
          "name": "stdout",
          "text": [
            "FAST\n"
          ]
        },
        {
          "output_type": "stream",
          "name": "stderr",
          "text": [
            "\r[*********************100%%**********************]  1 of 1 completed\n"
          ]
        },
        {
          "output_type": "stream",
          "name": "stdout",
          "text": [
            "FRT\n"
          ]
        },
        {
          "output_type": "stream",
          "name": "stderr",
          "text": [
            "[*********************100%%**********************]  1 of 1 completed\n",
            "[*********************100%%**********************]  1 of 1 completed"
          ]
        },
        {
          "output_type": "stream",
          "name": "stdout",
          "text": [
            "FDX\n"
          ]
        },
        {
          "output_type": "stream",
          "name": "stderr",
          "text": [
            "\n",
            "[*********************100%%**********************]  1 of 1 completed"
          ]
        },
        {
          "output_type": "stream",
          "name": "stdout",
          "text": [
            "FIS\n"
          ]
        },
        {
          "output_type": "stream",
          "name": "stderr",
          "text": [
            "\n"
          ]
        },
        {
          "output_type": "stream",
          "name": "stdout",
          "text": [
            "FITB\n"
          ]
        },
        {
          "output_type": "stream",
          "name": "stderr",
          "text": [
            "[*********************100%%**********************]  1 of 1 completed\n",
            "[*********************100%%**********************]  1 of 1 completed\n"
          ]
        },
        {
          "output_type": "stream",
          "name": "stdout",
          "text": [
            "FSLR\n",
            "FE\n"
          ]
        },
        {
          "output_type": "stream",
          "name": "stderr",
          "text": [
            "[*********************100%%**********************]  1 of 1 completed\n",
            "[*********************100%%**********************]  1 of 1 completed\n"
          ]
        },
        {
          "output_type": "stream",
          "name": "stdout",
          "text": [
            "FI\n",
            "FMC\n"
          ]
        },
        {
          "output_type": "stream",
          "name": "stderr",
          "text": [
            "\r[*********************100%%**********************]  1 of 1 completed\n"
          ]
        },
        {
          "output_type": "stream",
          "name": "stdout",
          "text": [
            "F\n"
          ]
        },
        {
          "output_type": "stream",
          "name": "stderr",
          "text": [
            "[*********************100%%**********************]  1 of 1 completed\n",
            "[*********************100%%**********************]  1 of 1 completed\n"
          ]
        },
        {
          "output_type": "stream",
          "name": "stdout",
          "text": [
            "FTNT\n",
            "FTV\n"
          ]
        },
        {
          "output_type": "stream",
          "name": "stderr",
          "text": [
            "[*********************100%%**********************]  1 of 1 completed\n",
            "[*********************100%%**********************]  1 of 1 completed\n"
          ]
        },
        {
          "output_type": "stream",
          "name": "stdout",
          "text": [
            "FOXA\n",
            "FOX\n"
          ]
        },
        {
          "output_type": "stream",
          "name": "stderr",
          "text": [
            "[*********************100%%**********************]  1 of 1 completed\n",
            "[*********************100%%**********************]  1 of 1 completed"
          ]
        },
        {
          "output_type": "stream",
          "name": "stdout",
          "text": [
            "BEN\n"
          ]
        },
        {
          "output_type": "stream",
          "name": "stderr",
          "text": [
            "\n",
            "[*********************100%%**********************]  1 of 1 completed"
          ]
        },
        {
          "output_type": "stream",
          "name": "stdout",
          "text": [
            "FCX\n"
          ]
        },
        {
          "output_type": "stream",
          "name": "stderr",
          "text": [
            "\n",
            "[*********************100%%**********************]  1 of 1 completed"
          ]
        },
        {
          "output_type": "stream",
          "name": "stdout",
          "text": [
            "GRMN\n"
          ]
        },
        {
          "output_type": "stream",
          "name": "stderr",
          "text": [
            "\n",
            "[*********************100%%**********************]  1 of 1 completed"
          ]
        },
        {
          "output_type": "stream",
          "name": "stdout",
          "text": [
            "IT\n"
          ]
        },
        {
          "output_type": "stream",
          "name": "stderr",
          "text": [
            "\n"
          ]
        },
        {
          "output_type": "stream",
          "name": "stdout",
          "text": [
            "GE\n"
          ]
        },
        {
          "output_type": "stream",
          "name": "stderr",
          "text": [
            "[*********************100%%**********************]  1 of 1 completed\n",
            "[*********************100%%**********************]  1 of 1 completed\n"
          ]
        },
        {
          "output_type": "stream",
          "name": "stdout",
          "text": [
            "GEHC\n",
            "GEN\n"
          ]
        },
        {
          "output_type": "stream",
          "name": "stderr",
          "text": [
            "[*********************100%%**********************]  1 of 1 completed\n",
            "[*********************100%%**********************]  1 of 1 completed\n"
          ]
        },
        {
          "output_type": "stream",
          "name": "stdout",
          "text": [
            "GNRC\n",
            "GD\n"
          ]
        },
        {
          "output_type": "stream",
          "name": "stderr",
          "text": [
            "[*********************100%%**********************]  1 of 1 completed\n",
            "[*********************100%%**********************]  1 of 1 completed"
          ]
        },
        {
          "output_type": "stream",
          "name": "stdout",
          "text": [
            "GIS\n"
          ]
        },
        {
          "output_type": "stream",
          "name": "stderr",
          "text": [
            "\n",
            "\r[*********************100%%**********************]  1 of 1 completed\n"
          ]
        },
        {
          "output_type": "stream",
          "name": "stdout",
          "text": [
            "GM\n",
            "GPC\n"
          ]
        },
        {
          "output_type": "stream",
          "name": "stderr",
          "text": [
            "[*********************100%%**********************]  1 of 1 completed\n",
            "[*********************100%%**********************]  1 of 1 completed"
          ]
        },
        {
          "output_type": "stream",
          "name": "stdout",
          "text": [
            "GILD\n"
          ]
        },
        {
          "output_type": "stream",
          "name": "stderr",
          "text": [
            "\n",
            "[*********************100%%**********************]  1 of 1 completed"
          ]
        },
        {
          "output_type": "stream",
          "name": "stdout",
          "text": [
            "GPN\n"
          ]
        },
        {
          "output_type": "stream",
          "name": "stderr",
          "text": [
            "\n",
            "[*********************100%%**********************]  1 of 1 completed"
          ]
        },
        {
          "output_type": "stream",
          "name": "stdout",
          "text": [
            "GL\n"
          ]
        },
        {
          "output_type": "stream",
          "name": "stderr",
          "text": [
            "\n",
            "[*********************100%%**********************]  1 of 1 completed"
          ]
        },
        {
          "output_type": "stream",
          "name": "stdout",
          "text": [
            "GS\n",
            "HAL"
          ]
        },
        {
          "output_type": "stream",
          "name": "stderr",
          "text": [
            "\n"
          ]
        },
        {
          "output_type": "stream",
          "name": "stdout",
          "text": [
            "\n"
          ]
        },
        {
          "output_type": "stream",
          "name": "stderr",
          "text": [
            "[*********************100%%**********************]  1 of 1 completed\n",
            "[*********************100%%**********************]  1 of 1 completed"
          ]
        },
        {
          "output_type": "stream",
          "name": "stdout",
          "text": [
            "HIG\n"
          ]
        },
        {
          "output_type": "stream",
          "name": "stderr",
          "text": [
            "\n",
            "[*********************100%%**********************]  1 of 1 completed"
          ]
        },
        {
          "output_type": "stream",
          "name": "stdout",
          "text": [
            "HAS\n"
          ]
        },
        {
          "output_type": "stream",
          "name": "stderr",
          "text": [
            "\n",
            "[*********************100%%**********************]  1 of 1 completed"
          ]
        },
        {
          "output_type": "stream",
          "name": "stdout",
          "text": [
            "HCA\n"
          ]
        },
        {
          "output_type": "stream",
          "name": "stderr",
          "text": [
            "\n"
          ]
        },
        {
          "output_type": "stream",
          "name": "stdout",
          "text": [
            "DOC\n"
          ]
        },
        {
          "output_type": "stream",
          "name": "stderr",
          "text": [
            "\r[*********************100%%**********************]  1 of 1 completed\n"
          ]
        },
        {
          "output_type": "stream",
          "name": "stdout",
          "text": [
            "HSIC\n"
          ]
        },
        {
          "output_type": "stream",
          "name": "stderr",
          "text": [
            "\r[*********************100%%**********************]  1 of 1 completed\n"
          ]
        },
        {
          "output_type": "stream",
          "name": "stdout",
          "text": [
            "HSY\n"
          ]
        },
        {
          "output_type": "stream",
          "name": "stderr",
          "text": [
            "\r[*********************100%%**********************]  1 of 1 completed\n"
          ]
        },
        {
          "output_type": "stream",
          "name": "stdout",
          "text": [
            "HES\n"
          ]
        },
        {
          "output_type": "stream",
          "name": "stderr",
          "text": [
            "[*********************100%%**********************]  1 of 1 completed\n",
            "[*********************100%%**********************]  1 of 1 completed"
          ]
        },
        {
          "output_type": "stream",
          "name": "stdout",
          "text": [
            "HPE\n"
          ]
        },
        {
          "output_type": "stream",
          "name": "stderr",
          "text": [
            "\n"
          ]
        },
        {
          "output_type": "stream",
          "name": "stdout",
          "text": [
            "HLT\n"
          ]
        },
        {
          "output_type": "stream",
          "name": "stderr",
          "text": [
            "[*********************100%%**********************]  1 of 1 completed\n",
            "[*********************100%%**********************]  1 of 1 completed"
          ]
        },
        {
          "output_type": "stream",
          "name": "stdout",
          "text": [
            "HOLX\n"
          ]
        },
        {
          "output_type": "stream",
          "name": "stderr",
          "text": [
            "\n"
          ]
        },
        {
          "output_type": "stream",
          "name": "stdout",
          "text": [
            "HD\n"
          ]
        },
        {
          "output_type": "stream",
          "name": "stderr",
          "text": [
            "\r[*********************100%%**********************]  1 of 1 completed\n"
          ]
        },
        {
          "output_type": "stream",
          "name": "stdout",
          "text": [
            "HON\n"
          ]
        },
        {
          "output_type": "stream",
          "name": "stderr",
          "text": [
            "\r[*********************100%%**********************]  1 of 1 completed\n"
          ]
        },
        {
          "output_type": "stream",
          "name": "stdout",
          "text": [
            "HRL\n"
          ]
        },
        {
          "output_type": "stream",
          "name": "stderr",
          "text": [
            "[*********************100%%**********************]  1 of 1 completed\n",
            "[*********************100%%**********************]  1 of 1 completed"
          ]
        },
        {
          "output_type": "stream",
          "name": "stdout",
          "text": [
            "HST\n"
          ]
        },
        {
          "output_type": "stream",
          "name": "stderr",
          "text": [
            "\n",
            "\r[*********************100%%**********************]  1 of 1 completed\n"
          ]
        },
        {
          "output_type": "stream",
          "name": "stdout",
          "text": [
            "HWM\n",
            "HPQ\n"
          ]
        },
        {
          "output_type": "stream",
          "name": "stderr",
          "text": [
            "\r[*********************100%%**********************]  1 of 1 completed\n"
          ]
        },
        {
          "output_type": "stream",
          "name": "stdout",
          "text": [
            "HUBB\n"
          ]
        },
        {
          "output_type": "stream",
          "name": "stderr",
          "text": [
            "\r[*********************100%%**********************]  1 of 1 completed\n"
          ]
        },
        {
          "output_type": "stream",
          "name": "stdout",
          "text": [
            "HUM\n"
          ]
        },
        {
          "output_type": "stream",
          "name": "stderr",
          "text": [
            "[*********************100%%**********************]  1 of 1 completed\n",
            "[*********************100%%**********************]  1 of 1 completed"
          ]
        },
        {
          "output_type": "stream",
          "name": "stdout",
          "text": [
            "HBAN\n"
          ]
        },
        {
          "output_type": "stream",
          "name": "stderr",
          "text": [
            "\n",
            "\r[*********************100%%**********************]  1 of 1 completed\n"
          ]
        },
        {
          "output_type": "stream",
          "name": "stdout",
          "text": [
            "HII\n",
            "IBM\n"
          ]
        },
        {
          "output_type": "stream",
          "name": "stderr",
          "text": [
            "\r[*********************100%%**********************]  1 of 1 completed\n"
          ]
        },
        {
          "output_type": "stream",
          "name": "stdout",
          "text": [
            "IEX\n"
          ]
        },
        {
          "output_type": "stream",
          "name": "stderr",
          "text": [
            "[*********************100%%**********************]  1 of 1 completed\n",
            "[*********************100%%**********************]  1 of 1 completed"
          ]
        },
        {
          "output_type": "stream",
          "name": "stdout",
          "text": [
            "IDXX\n"
          ]
        },
        {
          "output_type": "stream",
          "name": "stderr",
          "text": [
            "\n"
          ]
        },
        {
          "output_type": "stream",
          "name": "stdout",
          "text": [
            "ITW\n"
          ]
        },
        {
          "output_type": "stream",
          "name": "stderr",
          "text": [
            "[*********************100%%**********************]  1 of 1 completed\n",
            "[*********************100%%**********************]  1 of 1 completed\n"
          ]
        },
        {
          "output_type": "stream",
          "name": "stdout",
          "text": [
            "ILMN\n",
            "INCY\n"
          ]
        },
        {
          "output_type": "stream",
          "name": "stderr",
          "text": [
            "[*********************100%%**********************]  1 of 1 completed\n",
            "[*********************100%%**********************]  1 of 1 completed\n"
          ]
        },
        {
          "output_type": "stream",
          "name": "stdout",
          "text": [
            "IR\n",
            "PODD\n"
          ]
        },
        {
          "output_type": "stream",
          "name": "stderr",
          "text": [
            "[*********************100%%**********************]  1 of 1 completed\n",
            "[*********************100%%**********************]  1 of 1 completed"
          ]
        },
        {
          "output_type": "stream",
          "name": "stdout",
          "text": [
            "INTC\n"
          ]
        },
        {
          "output_type": "stream",
          "name": "stderr",
          "text": [
            "\n",
            "[*********************100%%**********************]  1 of 1 completed"
          ]
        },
        {
          "output_type": "stream",
          "name": "stdout",
          "text": [
            "ICE\n"
          ]
        },
        {
          "output_type": "stream",
          "name": "stderr",
          "text": [
            "\n"
          ]
        },
        {
          "output_type": "stream",
          "name": "stdout",
          "text": [
            "IFF\n"
          ]
        },
        {
          "output_type": "stream",
          "name": "stderr",
          "text": [
            "\r[*********************100%%**********************]  1 of 1 completed\n"
          ]
        },
        {
          "output_type": "stream",
          "name": "stdout",
          "text": [
            "IP\n"
          ]
        },
        {
          "output_type": "stream",
          "name": "stderr",
          "text": [
            "[*********************100%%**********************]  1 of 1 completed\n",
            "[*********************100%%**********************]  1 of 1 completed"
          ]
        },
        {
          "output_type": "stream",
          "name": "stdout",
          "text": [
            "IPG\n"
          ]
        },
        {
          "output_type": "stream",
          "name": "stderr",
          "text": [
            "\n",
            "[*********************100%%**********************]  1 of 1 completed"
          ]
        },
        {
          "output_type": "stream",
          "name": "stdout",
          "text": [
            "INTU\n"
          ]
        },
        {
          "output_type": "stream",
          "name": "stderr",
          "text": [
            "\n",
            "\r[*********************100%%**********************]  1 of 1 completed\n"
          ]
        },
        {
          "output_type": "stream",
          "name": "stdout",
          "text": [
            "ISRG\n",
            "IVZ\n"
          ]
        },
        {
          "output_type": "stream",
          "name": "stderr",
          "text": [
            "[*********************100%%**********************]  1 of 1 completed\n",
            "[*********************100%%**********************]  1 of 1 completed\n"
          ]
        },
        {
          "output_type": "stream",
          "name": "stdout",
          "text": [
            "INVH\n",
            "IQV\n"
          ]
        },
        {
          "output_type": "stream",
          "name": "stderr",
          "text": [
            "[*********************100%%**********************]  1 of 1 completed\n",
            "[*********************100%%**********************]  1 of 1 completed"
          ]
        },
        {
          "output_type": "stream",
          "name": "stdout",
          "text": [
            "IRM\n"
          ]
        },
        {
          "output_type": "stream",
          "name": "stderr",
          "text": [
            "\n"
          ]
        },
        {
          "output_type": "stream",
          "name": "stdout",
          "text": [
            "JBHT\n"
          ]
        },
        {
          "output_type": "stream",
          "name": "stderr",
          "text": [
            "[*********************100%%**********************]  1 of 1 completed\n",
            "[*********************100%%**********************]  1 of 1 completed"
          ]
        },
        {
          "output_type": "stream",
          "name": "stdout",
          "text": [
            "JBL\n"
          ]
        },
        {
          "output_type": "stream",
          "name": "stderr",
          "text": [
            "\n"
          ]
        },
        {
          "output_type": "stream",
          "name": "stdout",
          "text": [
            "JKHY\n"
          ]
        },
        {
          "output_type": "stream",
          "name": "stderr",
          "text": [
            "[*********************100%%**********************]  1 of 1 completed\n",
            "[*********************100%%**********************]  1 of 1 completed\n"
          ]
        },
        {
          "output_type": "stream",
          "name": "stdout",
          "text": [
            "J\n",
            "JNJ\n"
          ]
        },
        {
          "output_type": "stream",
          "name": "stderr",
          "text": [
            "\r[*********************100%%**********************]  1 of 1 completed\n"
          ]
        },
        {
          "output_type": "stream",
          "name": "stdout",
          "text": [
            "JCI\n"
          ]
        },
        {
          "output_type": "stream",
          "name": "stderr",
          "text": [
            "\r[*********************100%%**********************]  1 of 1 completed\n"
          ]
        },
        {
          "output_type": "stream",
          "name": "stdout",
          "text": [
            "JPM\n"
          ]
        },
        {
          "output_type": "stream",
          "name": "stderr",
          "text": [
            "[*********************100%%**********************]  1 of 1 completed\n",
            "[*********************100%%**********************]  1 of 1 completed"
          ]
        },
        {
          "output_type": "stream",
          "name": "stdout",
          "text": [
            "JNPR\n"
          ]
        },
        {
          "output_type": "stream",
          "name": "stderr",
          "text": [
            "\n"
          ]
        },
        {
          "output_type": "stream",
          "name": "stdout",
          "text": [
            "K\n"
          ]
        },
        {
          "output_type": "stream",
          "name": "stderr",
          "text": [
            "[*********************100%%**********************]  1 of 1 completed\n",
            "[*********************100%%**********************]  1 of 1 completed\n"
          ]
        },
        {
          "output_type": "stream",
          "name": "stdout",
          "text": [
            "KVUE\n",
            "KDP\n"
          ]
        },
        {
          "output_type": "stream",
          "name": "stderr",
          "text": [
            "[*********************100%%**********************]  1 of 1 completed\n",
            "[*********************100%%**********************]  1 of 1 completed"
          ]
        },
        {
          "output_type": "stream",
          "name": "stdout",
          "text": [
            "KEY\n"
          ]
        },
        {
          "output_type": "stream",
          "name": "stderr",
          "text": [
            "\n",
            "\r[*********************100%%**********************]  1 of 1 completed\n"
          ]
        },
        {
          "output_type": "stream",
          "name": "stdout",
          "text": [
            "KEYS\n",
            "KMB\n"
          ]
        },
        {
          "output_type": "stream",
          "name": "stderr",
          "text": [
            "\r[*********************100%%**********************]  1 of 1 completed\n"
          ]
        },
        {
          "output_type": "stream",
          "name": "stdout",
          "text": [
            "KIM\n"
          ]
        },
        {
          "output_type": "stream",
          "name": "stderr",
          "text": [
            "[*********************100%%**********************]  1 of 1 completed\n",
            "[*********************100%%**********************]  1 of 1 completed"
          ]
        },
        {
          "output_type": "stream",
          "name": "stdout",
          "text": [
            "KMI\n"
          ]
        },
        {
          "output_type": "stream",
          "name": "stderr",
          "text": [
            "\n",
            "[*********************100%%**********************]  1 of 1 completed"
          ]
        },
        {
          "output_type": "stream",
          "name": "stdout",
          "text": [
            "KLAC\n"
          ]
        },
        {
          "output_type": "stream",
          "name": "stderr",
          "text": [
            "\n"
          ]
        },
        {
          "output_type": "stream",
          "name": "stdout",
          "text": [
            "KHC\n"
          ]
        },
        {
          "output_type": "stream",
          "name": "stderr",
          "text": [
            "\r[*********************100%%**********************]  1 of 1 completed\n"
          ]
        },
        {
          "output_type": "stream",
          "name": "stdout",
          "text": [
            "KR\n"
          ]
        },
        {
          "output_type": "stream",
          "name": "stderr",
          "text": [
            "\r[*********************100%%**********************]  1 of 1 completed\n"
          ]
        },
        {
          "output_type": "stream",
          "name": "stdout",
          "text": [
            "LHX\n"
          ]
        },
        {
          "output_type": "stream",
          "name": "stderr",
          "text": [
            "\r[*********************100%%**********************]  1 of 1 completed\n"
          ]
        },
        {
          "output_type": "stream",
          "name": "stdout",
          "text": [
            "LH\n"
          ]
        },
        {
          "output_type": "stream",
          "name": "stderr",
          "text": [
            "[*********************100%%**********************]  1 of 1 completed\n",
            "[*********************100%%**********************]  1 of 1 completed"
          ]
        },
        {
          "output_type": "stream",
          "name": "stdout",
          "text": [
            "LRCX\n"
          ]
        },
        {
          "output_type": "stream",
          "name": "stderr",
          "text": [
            "\n",
            "[*********************100%%**********************]  1 of 1 completed"
          ]
        },
        {
          "output_type": "stream",
          "name": "stdout",
          "text": [
            "LW\n"
          ]
        },
        {
          "output_type": "stream",
          "name": "stderr",
          "text": [
            "\n",
            "[*********************100%%**********************]  1 of 1 completed"
          ]
        },
        {
          "output_type": "stream",
          "name": "stdout",
          "text": [
            "LVS\n"
          ]
        },
        {
          "output_type": "stream",
          "name": "stderr",
          "text": [
            "\n",
            "[*********************100%%**********************]  1 of 1 completed"
          ]
        },
        {
          "output_type": "stream",
          "name": "stdout",
          "text": [
            "LDOS\n"
          ]
        },
        {
          "output_type": "stream",
          "name": "stderr",
          "text": [
            "\n"
          ]
        },
        {
          "output_type": "stream",
          "name": "stdout",
          "text": [
            "LEN\n"
          ]
        },
        {
          "output_type": "stream",
          "name": "stderr",
          "text": [
            "\r[*********************100%%**********************]  1 of 1 completed\n"
          ]
        },
        {
          "output_type": "stream",
          "name": "stdout",
          "text": [
            "LIN\n"
          ]
        },
        {
          "output_type": "stream",
          "name": "stderr",
          "text": [
            "[*********************100%%**********************]  1 of 1 completed\n",
            "[*********************100%%**********************]  1 of 1 completed\n"
          ]
        },
        {
          "output_type": "stream",
          "name": "stdout",
          "text": [
            "LYV\n",
            "LKQ\n"
          ]
        },
        {
          "output_type": "stream",
          "name": "stderr",
          "text": [
            "\r[*********************100%%**********************]  1 of 1 completed\n"
          ]
        },
        {
          "output_type": "stream",
          "name": "stdout",
          "text": [
            "LMT\n"
          ]
        },
        {
          "output_type": "stream",
          "name": "stderr",
          "text": [
            "[*********************100%%**********************]  1 of 1 completed\n",
            "[*********************100%%**********************]  1 of 1 completed"
          ]
        },
        {
          "output_type": "stream",
          "name": "stdout",
          "text": [
            "L\n"
          ]
        },
        {
          "output_type": "stream",
          "name": "stderr",
          "text": [
            "\n"
          ]
        },
        {
          "output_type": "stream",
          "name": "stdout",
          "text": [
            "LOW\n"
          ]
        },
        {
          "output_type": "stream",
          "name": "stderr",
          "text": [
            "[*********************100%%**********************]  1 of 1 completed\n",
            "[*********************100%%**********************]  1 of 1 completed\n"
          ]
        },
        {
          "output_type": "stream",
          "name": "stdout",
          "text": [
            "LULU\n",
            "LYB\n"
          ]
        },
        {
          "output_type": "stream",
          "name": "stderr",
          "text": [
            "\r[*********************100%%**********************]  1 of 1 completed\n"
          ]
        },
        {
          "output_type": "stream",
          "name": "stdout",
          "text": [
            "MTB\n"
          ]
        },
        {
          "output_type": "stream",
          "name": "stderr",
          "text": [
            "\r[*********************100%%**********************]  1 of 1 completed\n"
          ]
        },
        {
          "output_type": "stream",
          "name": "stdout",
          "text": [
            "MRO\n"
          ]
        },
        {
          "output_type": "stream",
          "name": "stderr",
          "text": [
            "[*********************100%%**********************]  1 of 1 completed\n",
            "[*********************100%%**********************]  1 of 1 completed"
          ]
        },
        {
          "output_type": "stream",
          "name": "stdout",
          "text": [
            "MPC\n"
          ]
        },
        {
          "output_type": "stream",
          "name": "stderr",
          "text": [
            "\n",
            "[*********************100%%**********************]  1 of 1 completed\n"
          ]
        },
        {
          "output_type": "stream",
          "name": "stdout",
          "text": [
            "MKTX\n"
          ]
        },
        {
          "output_type": "stream",
          "name": "stderr",
          "text": [
            "\r[*********************100%%**********************]  1 of 1 completed"
          ]
        },
        {
          "output_type": "stream",
          "name": "stdout",
          "text": [
            "MAR\n"
          ]
        },
        {
          "output_type": "stream",
          "name": "stderr",
          "text": [
            "\n"
          ]
        },
        {
          "output_type": "stream",
          "name": "stdout",
          "text": [
            "MMC\n"
          ]
        },
        {
          "output_type": "stream",
          "name": "stderr",
          "text": [
            "[*********************100%%**********************]  1 of 1 completed\n",
            "[*********************100%%**********************]  1 of 1 completed"
          ]
        },
        {
          "output_type": "stream",
          "name": "stdout",
          "text": [
            "MLM\n"
          ]
        },
        {
          "output_type": "stream",
          "name": "stderr",
          "text": [
            "\n"
          ]
        },
        {
          "output_type": "stream",
          "name": "stdout",
          "text": [
            "MAS\n"
          ]
        },
        {
          "output_type": "stream",
          "name": "stderr",
          "text": [
            "[*********************100%%**********************]  1 of 1 completed\n",
            "[*********************100%%**********************]  1 of 1 completed"
          ]
        },
        {
          "output_type": "stream",
          "name": "stdout",
          "text": [
            "MA\n"
          ]
        },
        {
          "output_type": "stream",
          "name": "stderr",
          "text": [
            "\n",
            "[*********************100%%**********************]  1 of 1 completed"
          ]
        },
        {
          "output_type": "stream",
          "name": "stdout",
          "text": [
            "MTCH\n"
          ]
        },
        {
          "output_type": "stream",
          "name": "stderr",
          "text": [
            "\n"
          ]
        },
        {
          "output_type": "stream",
          "name": "stdout",
          "text": [
            "MKC\n"
          ]
        },
        {
          "output_type": "stream",
          "name": "stderr",
          "text": [
            "[*********************100%%**********************]  1 of 1 completed\n",
            "[*********************100%%**********************]  1 of 1 completed"
          ]
        },
        {
          "output_type": "stream",
          "name": "stdout",
          "text": [
            "MCD\n"
          ]
        },
        {
          "output_type": "stream",
          "name": "stderr",
          "text": [
            "\n",
            "[*********************100%%**********************]  1 of 1 completed"
          ]
        },
        {
          "output_type": "stream",
          "name": "stdout",
          "text": [
            "MCK\n"
          ]
        },
        {
          "output_type": "stream",
          "name": "stderr",
          "text": [
            "\n",
            "[*********************100%%**********************]  1 of 1 completed"
          ]
        },
        {
          "output_type": "stream",
          "name": "stdout",
          "text": [
            "MDT\n"
          ]
        },
        {
          "output_type": "stream",
          "name": "stderr",
          "text": [
            "\n"
          ]
        },
        {
          "output_type": "stream",
          "name": "stdout",
          "text": [
            "MRK\n"
          ]
        },
        {
          "output_type": "stream",
          "name": "stderr",
          "text": [
            "[*********************100%%**********************]  1 of 1 completed\n",
            "[*********************100%%**********************]  1 of 1 completed\n"
          ]
        },
        {
          "output_type": "stream",
          "name": "stdout",
          "text": [
            "META\n",
            "MET\n"
          ]
        },
        {
          "output_type": "stream",
          "name": "stderr",
          "text": [
            "[*********************100%%**********************]  1 of 1 completed\n",
            "[*********************100%%**********************]  1 of 1 completed\n"
          ]
        },
        {
          "output_type": "stream",
          "name": "stdout",
          "text": [
            "MTD\n"
          ]
        },
        {
          "output_type": "stream",
          "name": "stderr",
          "text": [
            "\r[*********************100%%**********************]  1 of 1 completed"
          ]
        },
        {
          "output_type": "stream",
          "name": "stdout",
          "text": [
            "MGM\n"
          ]
        },
        {
          "output_type": "stream",
          "name": "stderr",
          "text": [
            "\n"
          ]
        },
        {
          "output_type": "stream",
          "name": "stdout",
          "text": [
            "MCHP\n"
          ]
        },
        {
          "output_type": "stream",
          "name": "stderr",
          "text": [
            "[*********************100%%**********************]  1 of 1 completed\n",
            "[*********************100%%**********************]  1 of 1 completed\n"
          ]
        },
        {
          "output_type": "stream",
          "name": "stdout",
          "text": [
            "MU\n"
          ]
        },
        {
          "output_type": "stream",
          "name": "stderr",
          "text": [
            "\r[*********************100%%**********************]  1 of 1 completed\n"
          ]
        },
        {
          "output_type": "stream",
          "name": "stdout",
          "text": [
            "MSFT\n"
          ]
        },
        {
          "output_type": "stream",
          "name": "stderr",
          "text": [
            "\r[*********************100%%**********************]  1 of 1 completed"
          ]
        },
        {
          "output_type": "stream",
          "name": "stdout",
          "text": [
            "MAA\n"
          ]
        },
        {
          "output_type": "stream",
          "name": "stderr",
          "text": [
            "\n",
            "\r[*********************100%%**********************]  1 of 1 completed\n"
          ]
        },
        {
          "output_type": "stream",
          "name": "stdout",
          "text": [
            "MRNA\n",
            "MHK\n"
          ]
        },
        {
          "output_type": "stream",
          "name": "stderr",
          "text": [
            "[*********************100%%**********************]  1 of 1 completed\n",
            "[*********************100%%**********************]  1 of 1 completed\n"
          ]
        },
        {
          "output_type": "stream",
          "name": "stdout",
          "text": [
            "MOH\n",
            "TAP\n"
          ]
        },
        {
          "output_type": "stream",
          "name": "stderr",
          "text": [
            "\r[*********************100%%**********************]  1 of 1 completed\n"
          ]
        },
        {
          "output_type": "stream",
          "name": "stdout",
          "text": [
            "MDLZ\n"
          ]
        },
        {
          "output_type": "stream",
          "name": "stderr",
          "text": [
            "[*********************100%%**********************]  1 of 1 completed\n",
            "[*********************100%%**********************]  1 of 1 completed\n"
          ]
        },
        {
          "output_type": "stream",
          "name": "stdout",
          "text": [
            "MPWR\n",
            "MNST\n"
          ]
        },
        {
          "output_type": "stream",
          "name": "stderr",
          "text": [
            "[*********************100%%**********************]  1 of 1 completed\n",
            "[*********************100%%**********************]  1 of 1 completed\n"
          ]
        },
        {
          "output_type": "stream",
          "name": "stdout",
          "text": [
            "MCO\n",
            "MS\n"
          ]
        },
        {
          "output_type": "stream",
          "name": "stderr",
          "text": [
            "\r[*********************100%%**********************]  1 of 1 completed\n"
          ]
        },
        {
          "output_type": "stream",
          "name": "stdout",
          "text": [
            "MOS\n"
          ]
        },
        {
          "output_type": "stream",
          "name": "stderr",
          "text": [
            "\r[*********************100%%**********************]  1 of 1 completed\n"
          ]
        },
        {
          "output_type": "stream",
          "name": "stdout",
          "text": [
            "MSI\n"
          ]
        },
        {
          "output_type": "stream",
          "name": "stderr",
          "text": [
            "[*********************100%%**********************]  1 of 1 completed\n",
            "[*********************100%%**********************]  1 of 1 completed"
          ]
        },
        {
          "output_type": "stream",
          "name": "stdout",
          "text": [
            "MSCI\n"
          ]
        },
        {
          "output_type": "stream",
          "name": "stderr",
          "text": [
            "\n"
          ]
        },
        {
          "output_type": "stream",
          "name": "stdout",
          "text": [
            "NDAQ\n"
          ]
        },
        {
          "output_type": "stream",
          "name": "stderr",
          "text": [
            "\r[*********************100%%**********************]  1 of 1 completed\n"
          ]
        },
        {
          "output_type": "stream",
          "name": "stdout",
          "text": [
            "NTAP\n"
          ]
        },
        {
          "output_type": "stream",
          "name": "stderr",
          "text": [
            "[*********************100%%**********************]  1 of 1 completed\n",
            "[*********************100%%**********************]  1 of 1 completed"
          ]
        },
        {
          "output_type": "stream",
          "name": "stdout",
          "text": [
            "NFLX\n"
          ]
        },
        {
          "output_type": "stream",
          "name": "stderr",
          "text": [
            "\n"
          ]
        },
        {
          "output_type": "stream",
          "name": "stdout",
          "text": [
            "NEM\n"
          ]
        },
        {
          "output_type": "stream",
          "name": "stderr",
          "text": [
            "[*********************100%%**********************]  1 of 1 completed\n",
            "[*********************100%%**********************]  1 of 1 completed"
          ]
        },
        {
          "output_type": "stream",
          "name": "stdout",
          "text": [
            "NWSA\n"
          ]
        },
        {
          "output_type": "stream",
          "name": "stderr",
          "text": [
            "\n",
            "[*********************100%%**********************]  1 of 1 completed"
          ]
        },
        {
          "output_type": "stream",
          "name": "stdout",
          "text": [
            "NWS\n"
          ]
        },
        {
          "output_type": "stream",
          "name": "stderr",
          "text": [
            "\n"
          ]
        },
        {
          "output_type": "stream",
          "name": "stdout",
          "text": [
            "NEE\n"
          ]
        },
        {
          "output_type": "stream",
          "name": "stderr",
          "text": [
            "\r[*********************100%%**********************]  1 of 1 completed\n"
          ]
        },
        {
          "output_type": "stream",
          "name": "stdout",
          "text": [
            "NKE\n"
          ]
        },
        {
          "output_type": "stream",
          "name": "stderr",
          "text": [
            "\r[*********************100%%**********************]  1 of 1 completed\n"
          ]
        },
        {
          "output_type": "stream",
          "name": "stdout",
          "text": [
            "NI\n"
          ]
        },
        {
          "output_type": "stream",
          "name": "stderr",
          "text": [
            "\r[*********************100%%**********************]  1 of 1 completed\n"
          ]
        },
        {
          "output_type": "stream",
          "name": "stdout",
          "text": [
            "NDSN\n"
          ]
        },
        {
          "output_type": "stream",
          "name": "stderr",
          "text": [
            "\r[*********************100%%**********************]  1 of 1 completed\n"
          ]
        },
        {
          "output_type": "stream",
          "name": "stdout",
          "text": [
            "NSC\n"
          ]
        },
        {
          "output_type": "stream",
          "name": "stderr",
          "text": [
            "\r[*********************100%%**********************]  1 of 1 completed\n"
          ]
        },
        {
          "output_type": "stream",
          "name": "stdout",
          "text": [
            "NTRS\n"
          ]
        },
        {
          "output_type": "stream",
          "name": "stderr",
          "text": [
            "[*********************100%%**********************]  1 of 1 completed\n",
            "[*********************100%%**********************]  1 of 1 completed"
          ]
        },
        {
          "output_type": "stream",
          "name": "stdout",
          "text": [
            "NOC\n"
          ]
        },
        {
          "output_type": "stream",
          "name": "stderr",
          "text": [
            "\n",
            "\r[*********************100%%**********************]  1 of 1 completed\n"
          ]
        },
        {
          "output_type": "stream",
          "name": "stdout",
          "text": [
            "NCLH\n",
            "NRG\n"
          ]
        },
        {
          "output_type": "stream",
          "name": "stderr",
          "text": [
            "[*********************100%%**********************]  1 of 1 completed\n",
            "[*********************100%%**********************]  1 of 1 completed"
          ]
        },
        {
          "output_type": "stream",
          "name": "stdout",
          "text": [
            "NUE\n"
          ]
        },
        {
          "output_type": "stream",
          "name": "stderr",
          "text": [
            "\n",
            "[*********************100%%**********************]  1 of 1 completed"
          ]
        },
        {
          "output_type": "stream",
          "name": "stdout",
          "text": [
            "NVDA\n"
          ]
        },
        {
          "output_type": "stream",
          "name": "stderr",
          "text": [
            "\n",
            "\r[*********************100%%**********************]  1 of 1 completed\n"
          ]
        },
        {
          "output_type": "stream",
          "name": "stdout",
          "text": [
            "NVR\n",
            "NXPI\n"
          ]
        },
        {
          "output_type": "stream",
          "name": "stderr",
          "text": [
            "[*********************100%%**********************]  1 of 1 completed\n",
            "[*********************100%%**********************]  1 of 1 completed\n"
          ]
        },
        {
          "output_type": "stream",
          "name": "stdout",
          "text": [
            "ORLY\n",
            "OXY\n"
          ]
        },
        {
          "output_type": "stream",
          "name": "stderr",
          "text": [
            "[*********************100%%**********************]  1 of 1 completed\n",
            "[*********************100%%**********************]  1 of 1 completed"
          ]
        },
        {
          "output_type": "stream",
          "name": "stdout",
          "text": [
            "ODFL\n"
          ]
        },
        {
          "output_type": "stream",
          "name": "stderr",
          "text": [
            "\n",
            "[*********************100%%**********************]  1 of 1 completed"
          ]
        },
        {
          "output_type": "stream",
          "name": "stdout",
          "text": [
            "OMC\n"
          ]
        },
        {
          "output_type": "stream",
          "name": "stderr",
          "text": [
            "\n",
            "\r[*********************100%%**********************]  1 of 1 completed\n"
          ]
        },
        {
          "output_type": "stream",
          "name": "stdout",
          "text": [
            "ON\n",
            "OKE\n"
          ]
        },
        {
          "output_type": "stream",
          "name": "stderr",
          "text": [
            "[*********************100%%**********************]  1 of 1 completed\n",
            "[*********************100%%**********************]  1 of 1 completed"
          ]
        },
        {
          "output_type": "stream",
          "name": "stdout",
          "text": [
            "ORCL\n"
          ]
        },
        {
          "output_type": "stream",
          "name": "stderr",
          "text": [
            "\n",
            "\r[*********************100%%**********************]  1 of 1 completed\n"
          ]
        },
        {
          "output_type": "stream",
          "name": "stdout",
          "text": [
            "OTIS\n",
            "PCAR\n"
          ]
        },
        {
          "output_type": "stream",
          "name": "stderr",
          "text": [
            "[*********************100%%**********************]  1 of 1 completed\n",
            "[*********************100%%**********************]  1 of 1 completed\n"
          ]
        },
        {
          "output_type": "stream",
          "name": "stdout",
          "text": [
            "PKG\n"
          ]
        },
        {
          "output_type": "stream",
          "name": "stderr",
          "text": [
            "\r[*********************100%%**********************]  1 of 1 completed"
          ]
        },
        {
          "output_type": "stream",
          "name": "stdout",
          "text": [
            "PANW\n"
          ]
        },
        {
          "output_type": "stream",
          "name": "stderr",
          "text": [
            "\n",
            "[*********************100%%**********************]  1 of 1 completed"
          ]
        },
        {
          "output_type": "stream",
          "name": "stdout",
          "text": [
            "PARA\n"
          ]
        },
        {
          "output_type": "stream",
          "name": "stderr",
          "text": [
            "\n",
            "[*********************100%%**********************]  1 of 1 completed"
          ]
        },
        {
          "output_type": "stream",
          "name": "stdout",
          "text": [
            "PH\n"
          ]
        },
        {
          "output_type": "stream",
          "name": "stderr",
          "text": [
            "\n",
            "[*********************100%%**********************]  1 of 1 completed"
          ]
        },
        {
          "output_type": "stream",
          "name": "stdout",
          "text": [
            "PAYX\n"
          ]
        },
        {
          "output_type": "stream",
          "name": "stderr",
          "text": [
            "\n",
            "\r[*********************100%%**********************]  1 of 1 completed\n"
          ]
        },
        {
          "output_type": "stream",
          "name": "stdout",
          "text": [
            "PAYC\n",
            "PYPL\n"
          ]
        },
        {
          "output_type": "stream",
          "name": "stderr",
          "text": [
            "\r[*********************100%%**********************]  1 of 1 completed\n"
          ]
        },
        {
          "output_type": "stream",
          "name": "stdout",
          "text": [
            "PNR\n"
          ]
        },
        {
          "output_type": "stream",
          "name": "stderr",
          "text": [
            "\r[*********************100%%**********************]  1 of 1 completed\n"
          ]
        },
        {
          "output_type": "stream",
          "name": "stdout",
          "text": [
            "PEP\n"
          ]
        },
        {
          "output_type": "stream",
          "name": "stderr",
          "text": [
            "\r[*********************100%%**********************]  1 of 1 completed\n"
          ]
        },
        {
          "output_type": "stream",
          "name": "stdout",
          "text": [
            "PFE\n"
          ]
        },
        {
          "output_type": "stream",
          "name": "stderr",
          "text": [
            "\r[*********************100%%**********************]  1 of 1 completed\n"
          ]
        },
        {
          "output_type": "stream",
          "name": "stdout",
          "text": [
            "PCG\n"
          ]
        },
        {
          "output_type": "stream",
          "name": "stderr",
          "text": [
            "[*********************100%%**********************]  1 of 1 completed\n",
            "[*********************100%%**********************]  1 of 1 completed\n"
          ]
        },
        {
          "output_type": "stream",
          "name": "stdout",
          "text": [
            "PM\n",
            "PSX"
          ]
        },
        {
          "output_type": "stream",
          "name": "stderr",
          "text": [
            "\r[*********************100%%**********************]  1 of 1 completed"
          ]
        },
        {
          "output_type": "stream",
          "name": "stdout",
          "text": [
            "\n"
          ]
        },
        {
          "output_type": "stream",
          "name": "stderr",
          "text": [
            "\n"
          ]
        },
        {
          "output_type": "stream",
          "name": "stdout",
          "text": [
            "PNW\n"
          ]
        },
        {
          "output_type": "stream",
          "name": "stderr",
          "text": [
            "[*********************100%%**********************]  1 of 1 completed\n",
            "[*********************100%%**********************]  1 of 1 completed"
          ]
        },
        {
          "output_type": "stream",
          "name": "stdout",
          "text": [
            "PNC\n"
          ]
        },
        {
          "output_type": "stream",
          "name": "stderr",
          "text": [
            "\n",
            "[*********************100%%**********************]  1 of 1 completed"
          ]
        },
        {
          "output_type": "stream",
          "name": "stdout",
          "text": [
            "POOL\n"
          ]
        },
        {
          "output_type": "stream",
          "name": "stderr",
          "text": [
            "\n"
          ]
        },
        {
          "output_type": "stream",
          "name": "stdout",
          "text": [
            "PPG\n"
          ]
        },
        {
          "output_type": "stream",
          "name": "stderr",
          "text": [
            "\r[*********************100%%**********************]  1 of 1 completed\n"
          ]
        },
        {
          "output_type": "stream",
          "name": "stdout",
          "text": [
            "PPL\n"
          ]
        },
        {
          "output_type": "stream",
          "name": "stderr",
          "text": [
            "[*********************100%%**********************]  1 of 1 completed\n",
            "[*********************100%%**********************]  1 of 1 completed"
          ]
        },
        {
          "output_type": "stream",
          "name": "stdout",
          "text": [
            "PFG\n"
          ]
        },
        {
          "output_type": "stream",
          "name": "stderr",
          "text": [
            "\n"
          ]
        },
        {
          "output_type": "stream",
          "name": "stdout",
          "text": [
            "PG\n"
          ]
        },
        {
          "output_type": "stream",
          "name": "stderr",
          "text": [
            "\r[*********************100%%**********************]  1 of 1 completed\n"
          ]
        },
        {
          "output_type": "stream",
          "name": "stdout",
          "text": [
            "PGR\n"
          ]
        },
        {
          "output_type": "stream",
          "name": "stderr",
          "text": [
            "\r[*********************100%%**********************]  1 of 1 completed\n"
          ]
        },
        {
          "output_type": "stream",
          "name": "stdout",
          "text": [
            "PLD\n"
          ]
        },
        {
          "output_type": "stream",
          "name": "stderr",
          "text": [
            "[*********************100%%**********************]  1 of 1 completed\n",
            "[*********************100%%**********************]  1 of 1 completed"
          ]
        },
        {
          "output_type": "stream",
          "name": "stdout",
          "text": [
            "PRU\n"
          ]
        },
        {
          "output_type": "stream",
          "name": "stderr",
          "text": [
            "\n"
          ]
        },
        {
          "output_type": "stream",
          "name": "stdout",
          "text": [
            "PEG\n"
          ]
        },
        {
          "output_type": "stream",
          "name": "stderr",
          "text": [
            "[*********************100%%**********************]  1 of 1 completed\n",
            "[*********************100%%**********************]  1 of 1 completed"
          ]
        },
        {
          "output_type": "stream",
          "name": "stdout",
          "text": [
            "PTC\n"
          ]
        },
        {
          "output_type": "stream",
          "name": "stderr",
          "text": [
            "\n"
          ]
        },
        {
          "output_type": "stream",
          "name": "stdout",
          "text": [
            "PSA\n"
          ]
        },
        {
          "output_type": "stream",
          "name": "stderr",
          "text": [
            "\r[*********************100%%**********************]  1 of 1 completed\n"
          ]
        },
        {
          "output_type": "stream",
          "name": "stdout",
          "text": [
            "PHM\n"
          ]
        },
        {
          "output_type": "stream",
          "name": "stderr",
          "text": [
            "[*********************100%%**********************]  1 of 1 completed\n",
            "[*********************100%%**********************]  1 of 1 completed\n"
          ]
        },
        {
          "output_type": "stream",
          "name": "stdout",
          "text": [
            "QRVO\n",
            "PWR\n"
          ]
        },
        {
          "output_type": "stream",
          "name": "stderr",
          "text": [
            "\r[*********************100%%**********************]  1 of 1 completed\n"
          ]
        },
        {
          "output_type": "stream",
          "name": "stdout",
          "text": [
            "QCOM\n"
          ]
        },
        {
          "output_type": "stream",
          "name": "stderr",
          "text": [
            "[*********************100%%**********************]  1 of 1 completed\n",
            "[*********************100%%**********************]  1 of 1 completed"
          ]
        },
        {
          "output_type": "stream",
          "name": "stdout",
          "text": [
            "DGX\n"
          ]
        },
        {
          "output_type": "stream",
          "name": "stderr",
          "text": [
            "\n",
            "[*********************100%%**********************]  1 of 1 completed"
          ]
        },
        {
          "output_type": "stream",
          "name": "stdout",
          "text": [
            "RL\n"
          ]
        },
        {
          "output_type": "stream",
          "name": "stderr",
          "text": [
            "\n"
          ]
        },
        {
          "output_type": "stream",
          "name": "stdout",
          "text": [
            "RJF\n"
          ]
        },
        {
          "output_type": "stream",
          "name": "stderr",
          "text": [
            "\r[*********************100%%**********************]  1 of 1 completed\n"
          ]
        },
        {
          "output_type": "stream",
          "name": "stdout",
          "text": [
            "RTX\n"
          ]
        },
        {
          "output_type": "stream",
          "name": "stderr",
          "text": [
            "\r[*********************100%%**********************]  1 of 1 completed\n"
          ]
        },
        {
          "output_type": "stream",
          "name": "stdout",
          "text": [
            "O\n"
          ]
        },
        {
          "output_type": "stream",
          "name": "stderr",
          "text": [
            "[*********************100%%**********************]  1 of 1 completed\n",
            "[*********************100%%**********************]  1 of 1 completed"
          ]
        },
        {
          "output_type": "stream",
          "name": "stdout",
          "text": [
            "REG\n"
          ]
        },
        {
          "output_type": "stream",
          "name": "stderr",
          "text": [
            "\n",
            "[*********************100%%**********************]  1 of 1 completed"
          ]
        },
        {
          "output_type": "stream",
          "name": "stdout",
          "text": [
            "REGN\n"
          ]
        },
        {
          "output_type": "stream",
          "name": "stderr",
          "text": [
            "\n"
          ]
        },
        {
          "output_type": "stream",
          "name": "stdout",
          "text": [
            "RF\n"
          ]
        },
        {
          "output_type": "stream",
          "name": "stderr",
          "text": [
            "[*********************100%%**********************]  1 of 1 completed\n",
            "[*********************100%%**********************]  1 of 1 completed"
          ]
        },
        {
          "output_type": "stream",
          "name": "stdout",
          "text": [
            "RSG\n"
          ]
        },
        {
          "output_type": "stream",
          "name": "stderr",
          "text": [
            "\n",
            "[*********************100%%**********************]  1 of 1 completed"
          ]
        },
        {
          "output_type": "stream",
          "name": "stdout",
          "text": [
            "RMD\n"
          ]
        },
        {
          "output_type": "stream",
          "name": "stderr",
          "text": [
            "\n",
            "[*********************100%%**********************]  1 of 1 completed"
          ]
        },
        {
          "output_type": "stream",
          "name": "stdout",
          "text": [
            "RVTY\n"
          ]
        },
        {
          "output_type": "stream",
          "name": "stderr",
          "text": [
            "\n"
          ]
        },
        {
          "output_type": "stream",
          "name": "stdout",
          "text": [
            "RHI\n"
          ]
        },
        {
          "output_type": "stream",
          "name": "stderr",
          "text": [
            "\r[*********************100%%**********************]  1 of 1 completed\n"
          ]
        },
        {
          "output_type": "stream",
          "name": "stdout",
          "text": [
            "ROK\n"
          ]
        },
        {
          "output_type": "stream",
          "name": "stderr",
          "text": [
            "\r[*********************100%%**********************]  1 of 1 completed\n"
          ]
        },
        {
          "output_type": "stream",
          "name": "stdout",
          "text": [
            "ROL\n"
          ]
        },
        {
          "output_type": "stream",
          "name": "stderr",
          "text": [
            "[*********************100%%**********************]  1 of 1 completed\n",
            "[*********************100%%**********************]  1 of 1 completed"
          ]
        },
        {
          "output_type": "stream",
          "name": "stdout",
          "text": [
            "ROP\n"
          ]
        },
        {
          "output_type": "stream",
          "name": "stderr",
          "text": [
            "\n",
            "[*********************100%%**********************]  1 of 1 completed"
          ]
        },
        {
          "output_type": "stream",
          "name": "stdout",
          "text": [
            "ROST\n"
          ]
        },
        {
          "output_type": "stream",
          "name": "stderr",
          "text": [
            "\n",
            "[*********************100%%**********************]  1 of 1 completed"
          ]
        },
        {
          "output_type": "stream",
          "name": "stdout",
          "text": [
            "RCL\n"
          ]
        },
        {
          "output_type": "stream",
          "name": "stderr",
          "text": [
            "\n"
          ]
        },
        {
          "output_type": "stream",
          "name": "stdout",
          "text": [
            "SPGI\n"
          ]
        },
        {
          "output_type": "stream",
          "name": "stderr",
          "text": [
            "[*********************100%%**********************]  1 of 1 completed\n",
            "[*********************100%%**********************]  1 of 1 completed\n"
          ]
        },
        {
          "output_type": "stream",
          "name": "stdout",
          "text": [
            "CRM\n",
            "SBAC\n"
          ]
        },
        {
          "output_type": "stream",
          "name": "stderr",
          "text": [
            "\r[*********************100%%**********************]  1 of 1 completed\n"
          ]
        },
        {
          "output_type": "stream",
          "name": "stdout",
          "text": [
            "SLB\n"
          ]
        },
        {
          "output_type": "stream",
          "name": "stderr",
          "text": [
            "[*********************100%%**********************]  1 of 1 completed\n",
            "[*********************100%%**********************]  1 of 1 completed"
          ]
        },
        {
          "output_type": "stream",
          "name": "stdout",
          "text": [
            "STX\n"
          ]
        },
        {
          "output_type": "stream",
          "name": "stderr",
          "text": [
            "\n",
            "[*********************100%%**********************]  1 of 1 completed"
          ]
        },
        {
          "output_type": "stream",
          "name": "stdout",
          "text": [
            "SRE\n"
          ]
        },
        {
          "output_type": "stream",
          "name": "stderr",
          "text": [
            "\n",
            "\r[*********************100%%**********************]  1 of 1 completed\n"
          ]
        },
        {
          "output_type": "stream",
          "name": "stdout",
          "text": [
            "NOW\n",
            "SHW\n"
          ]
        },
        {
          "output_type": "stream",
          "name": "stderr",
          "text": [
            "[*********************100%%**********************]  1 of 1 completed\n",
            "[*********************100%%**********************]  1 of 1 completed"
          ]
        },
        {
          "output_type": "stream",
          "name": "stdout",
          "text": [
            "SPG\n"
          ]
        },
        {
          "output_type": "stream",
          "name": "stderr",
          "text": [
            "\n",
            "[*********************100%%**********************]  1 of 1 completed\n"
          ]
        },
        {
          "output_type": "stream",
          "name": "stdout",
          "text": [
            "SWKS\n"
          ]
        },
        {
          "output_type": "stream",
          "name": "stderr",
          "text": [
            "\r[*********************100%%**********************]  1 of 1 completed"
          ]
        },
        {
          "output_type": "stream",
          "name": "stdout",
          "text": [
            "SJM\n"
          ]
        },
        {
          "output_type": "stream",
          "name": "stderr",
          "text": [
            "\n"
          ]
        },
        {
          "output_type": "stream",
          "name": "stdout",
          "text": [
            "SNA\n"
          ]
        },
        {
          "output_type": "stream",
          "name": "stderr",
          "text": [
            "[*********************100%%**********************]  1 of 1 completed\n",
            "[*********************100%%**********************]  1 of 1 completed"
          ]
        },
        {
          "output_type": "stream",
          "name": "stdout",
          "text": [
            "SO\n"
          ]
        },
        {
          "output_type": "stream",
          "name": "stderr",
          "text": [
            "\n",
            "[*********************100%%**********************]  1 of 1 completed"
          ]
        },
        {
          "output_type": "stream",
          "name": "stdout",
          "text": [
            "LUV\n"
          ]
        },
        {
          "output_type": "stream",
          "name": "stderr",
          "text": [
            "\n",
            "[*********************100%%**********************]  1 of 1 completed"
          ]
        },
        {
          "output_type": "stream",
          "name": "stdout",
          "text": [
            "SWK\n"
          ]
        },
        {
          "output_type": "stream",
          "name": "stderr",
          "text": [
            "\n"
          ]
        },
        {
          "output_type": "stream",
          "name": "stdout",
          "text": [
            "SBUX\n"
          ]
        },
        {
          "output_type": "stream",
          "name": "stderr",
          "text": [
            "[*********************100%%**********************]  1 of 1 completed\n",
            "[*********************100%%**********************]  1 of 1 completed"
          ]
        },
        {
          "output_type": "stream",
          "name": "stdout",
          "text": [
            "STT\n"
          ]
        },
        {
          "output_type": "stream",
          "name": "stderr",
          "text": [
            "\n",
            "[*********************100%%**********************]  1 of 1 completed"
          ]
        },
        {
          "output_type": "stream",
          "name": "stdout",
          "text": [
            "STLD\n"
          ]
        },
        {
          "output_type": "stream",
          "name": "stderr",
          "text": [
            "\n",
            "[*********************100%%**********************]  1 of 1 completed"
          ]
        },
        {
          "output_type": "stream",
          "name": "stdout",
          "text": [
            "STE\n"
          ]
        },
        {
          "output_type": "stream",
          "name": "stderr",
          "text": [
            "\n",
            "[*********************100%%**********************]  1 of 1 completed"
          ]
        },
        {
          "output_type": "stream",
          "name": "stdout",
          "text": [
            "SYK\n"
          ]
        },
        {
          "output_type": "stream",
          "name": "stderr",
          "text": [
            "\n",
            "[*********************100%%**********************]  1 of 1 completed"
          ]
        },
        {
          "output_type": "stream",
          "name": "stdout",
          "text": [
            "SMCI\n"
          ]
        },
        {
          "output_type": "stream",
          "name": "stderr",
          "text": [
            "\n",
            "[*********************100%%**********************]  1 of 1 completed"
          ]
        },
        {
          "output_type": "stream",
          "name": "stdout",
          "text": [
            "SYF\n"
          ]
        },
        {
          "output_type": "stream",
          "name": "stderr",
          "text": [
            "\n",
            "[*********************100%%**********************]  1 of 1 completed"
          ]
        },
        {
          "output_type": "stream",
          "name": "stdout",
          "text": [
            "SNPS\n"
          ]
        },
        {
          "output_type": "stream",
          "name": "stderr",
          "text": [
            "\n"
          ]
        },
        {
          "output_type": "stream",
          "name": "stdout",
          "text": [
            "SYY\n"
          ]
        },
        {
          "output_type": "stream",
          "name": "stderr",
          "text": [
            "\r[*********************100%%**********************]  1 of 1 completed\n"
          ]
        },
        {
          "output_type": "stream",
          "name": "stdout",
          "text": [
            "TMUS\n"
          ]
        },
        {
          "output_type": "stream",
          "name": "stderr",
          "text": [
            "\r[*********************100%%**********************]  1 of 1 completed\n"
          ]
        },
        {
          "output_type": "stream",
          "name": "stdout",
          "text": [
            "TROW\n"
          ]
        },
        {
          "output_type": "stream",
          "name": "stderr",
          "text": [
            "[*********************100%%**********************]  1 of 1 completed\n",
            "[*********************100%%**********************]  1 of 1 completed"
          ]
        },
        {
          "output_type": "stream",
          "name": "stdout",
          "text": [
            "TTWO\n"
          ]
        },
        {
          "output_type": "stream",
          "name": "stderr",
          "text": [
            "\n",
            "[*********************100%%**********************]  1 of 1 completed"
          ]
        },
        {
          "output_type": "stream",
          "name": "stdout",
          "text": [
            "TPR\n"
          ]
        },
        {
          "output_type": "stream",
          "name": "stderr",
          "text": [
            "\n",
            "[*********************100%%**********************]  1 of 1 completed"
          ]
        },
        {
          "output_type": "stream",
          "name": "stdout",
          "text": [
            "TRGP\n"
          ]
        },
        {
          "output_type": "stream",
          "name": "stderr",
          "text": [
            "\n",
            "[*********************100%%**********************]  1 of 1 completed"
          ]
        },
        {
          "output_type": "stream",
          "name": "stdout",
          "text": [
            "TGT\n"
          ]
        },
        {
          "output_type": "stream",
          "name": "stderr",
          "text": [
            "\n",
            "[*********************100%%**********************]  1 of 1 completed"
          ]
        },
        {
          "output_type": "stream",
          "name": "stdout",
          "text": [
            "TEL\n"
          ]
        },
        {
          "output_type": "stream",
          "name": "stderr",
          "text": [
            "\n",
            "\r[*********************100%%**********************]  1 of 1 completed\n"
          ]
        },
        {
          "output_type": "stream",
          "name": "stdout",
          "text": [
            "TDY\n",
            "TFX\n"
          ]
        },
        {
          "output_type": "stream",
          "name": "stderr",
          "text": [
            "[*********************100%%**********************]  1 of 1 completed\n",
            "[*********************100%%**********************]  1 of 1 completed"
          ]
        },
        {
          "output_type": "stream",
          "name": "stdout",
          "text": [
            "TER\n"
          ]
        },
        {
          "output_type": "stream",
          "name": "stderr",
          "text": [
            "\n",
            "[*********************100%%**********************]  1 of 1 completed"
          ]
        },
        {
          "output_type": "stream",
          "name": "stdout",
          "text": [
            "TSLA\n"
          ]
        },
        {
          "output_type": "stream",
          "name": "stderr",
          "text": [
            "\n"
          ]
        },
        {
          "output_type": "stream",
          "name": "stdout",
          "text": [
            "TXN\n"
          ]
        },
        {
          "output_type": "stream",
          "name": "stderr",
          "text": [
            "[*********************100%%**********************]  1 of 1 completed\n",
            "[*********************100%%**********************]  1 of 1 completed"
          ]
        },
        {
          "output_type": "stream",
          "name": "stdout",
          "text": [
            "TXT\n"
          ]
        },
        {
          "output_type": "stream",
          "name": "stderr",
          "text": [
            "\n",
            "[*********************100%%**********************]  1 of 1 completed"
          ]
        },
        {
          "output_type": "stream",
          "name": "stdout",
          "text": [
            "TMO\n"
          ]
        },
        {
          "output_type": "stream",
          "name": "stderr",
          "text": [
            "\n"
          ]
        },
        {
          "output_type": "stream",
          "name": "stdout",
          "text": [
            "TJX\n"
          ]
        },
        {
          "output_type": "stream",
          "name": "stderr",
          "text": [
            "[*********************100%%**********************]  1 of 1 completed\n",
            "[*********************100%%**********************]  1 of 1 completed"
          ]
        },
        {
          "output_type": "stream",
          "name": "stdout",
          "text": [
            "TSCO\n"
          ]
        },
        {
          "output_type": "stream",
          "name": "stderr",
          "text": [
            "\n"
          ]
        },
        {
          "output_type": "stream",
          "name": "stdout",
          "text": [
            "TT\n"
          ]
        },
        {
          "output_type": "stream",
          "name": "stderr",
          "text": [
            "[*********************100%%**********************]  1 of 1 completed\n",
            "[*********************100%%**********************]  1 of 1 completed\n"
          ]
        },
        {
          "output_type": "stream",
          "name": "stdout",
          "text": [
            "TDG\n",
            "TRV\n"
          ]
        },
        {
          "output_type": "stream",
          "name": "stderr",
          "text": [
            "[*********************100%%**********************]  1 of 1 completed\n",
            "[*********************100%%**********************]  1 of 1 completed"
          ]
        },
        {
          "output_type": "stream",
          "name": "stdout",
          "text": [
            "TRMB\n"
          ]
        },
        {
          "output_type": "stream",
          "name": "stderr",
          "text": [
            "\n",
            "[*********************100%%**********************]  1 of 1 completed"
          ]
        },
        {
          "output_type": "stream",
          "name": "stdout",
          "text": [
            "TFC\n"
          ]
        },
        {
          "output_type": "stream",
          "name": "stderr",
          "text": [
            "\n",
            "\r[*********************100%%**********************]  1 of 1 completed\n"
          ]
        },
        {
          "output_type": "stream",
          "name": "stdout",
          "text": [
            "TYL\n",
            "TSN\n"
          ]
        },
        {
          "output_type": "stream",
          "name": "stderr",
          "text": [
            "[*********************100%%**********************]  1 of 1 completed\n",
            "[*********************100%%**********************]  1 of 1 completed"
          ]
        },
        {
          "output_type": "stream",
          "name": "stdout",
          "text": [
            "USB\n"
          ]
        },
        {
          "output_type": "stream",
          "name": "stderr",
          "text": [
            "\n",
            "\r[*********************100%%**********************]  1 of 1 completed\n"
          ]
        },
        {
          "output_type": "stream",
          "name": "stdout",
          "text": [
            "UBER\n",
            "UDR\n"
          ]
        },
        {
          "output_type": "stream",
          "name": "stderr",
          "text": [
            "[*********************100%%**********************]  1 of 1 completed\n",
            "[*********************100%%**********************]  1 of 1 completed\n"
          ]
        },
        {
          "output_type": "stream",
          "name": "stdout",
          "text": [
            "ULTA\n",
            "UNP\n"
          ]
        },
        {
          "output_type": "stream",
          "name": "stderr",
          "text": [
            "[*********************100%%**********************]  1 of 1 completed\n",
            "[*********************100%%**********************]  1 of 1 completed\n"
          ]
        },
        {
          "output_type": "stream",
          "name": "stdout",
          "text": [
            "UAL\n",
            "UPS\n"
          ]
        },
        {
          "output_type": "stream",
          "name": "stderr",
          "text": [
            "[*********************100%%**********************]  1 of 1 completed\n",
            "[*********************100%%**********************]  1 of 1 completed"
          ]
        },
        {
          "output_type": "stream",
          "name": "stdout",
          "text": [
            "URI\n"
          ]
        },
        {
          "output_type": "stream",
          "name": "stderr",
          "text": [
            "\n",
            "[*********************100%%**********************]  1 of 1 completed"
          ]
        },
        {
          "output_type": "stream",
          "name": "stdout",
          "text": [
            "UNH\n"
          ]
        },
        {
          "output_type": "stream",
          "name": "stderr",
          "text": [
            "\n",
            "[*********************100%%**********************]  1 of 1 completed"
          ]
        },
        {
          "output_type": "stream",
          "name": "stdout",
          "text": [
            "UHS\n"
          ]
        },
        {
          "output_type": "stream",
          "name": "stderr",
          "text": [
            "\n"
          ]
        },
        {
          "output_type": "stream",
          "name": "stdout",
          "text": [
            "VLO\n"
          ]
        },
        {
          "output_type": "stream",
          "name": "stderr",
          "text": [
            "[*********************100%%**********************]  1 of 1 completed\n",
            "[*********************100%%**********************]  1 of 1 completed"
          ]
        },
        {
          "output_type": "stream",
          "name": "stdout",
          "text": [
            "VTR\n"
          ]
        },
        {
          "output_type": "stream",
          "name": "stderr",
          "text": [
            "\n",
            "[*********************100%%**********************]  1 of 1 completed"
          ]
        },
        {
          "output_type": "stream",
          "name": "stdout",
          "text": [
            "VRSN\n"
          ]
        },
        {
          "output_type": "stream",
          "name": "stderr",
          "text": [
            "\n"
          ]
        },
        {
          "output_type": "stream",
          "name": "stdout",
          "text": [
            "VRSK\n"
          ]
        },
        {
          "output_type": "stream",
          "name": "stderr",
          "text": [
            "\r[*********************100%%**********************]  1 of 1 completed\n"
          ]
        },
        {
          "output_type": "stream",
          "name": "stdout",
          "text": [
            "VZ\n"
          ]
        },
        {
          "output_type": "stream",
          "name": "stderr",
          "text": [
            "[*********************100%%**********************]  1 of 1 completed\n",
            "[*********************100%%**********************]  1 of 1 completed"
          ]
        },
        {
          "output_type": "stream",
          "name": "stdout",
          "text": [
            "VRTX\n"
          ]
        },
        {
          "output_type": "stream",
          "name": "stderr",
          "text": [
            "\n"
          ]
        },
        {
          "output_type": "stream",
          "name": "stdout",
          "text": [
            "VTRS\n"
          ]
        },
        {
          "output_type": "stream",
          "name": "stderr",
          "text": [
            "\r[*********************100%%**********************]  1 of 1 completed\n"
          ]
        },
        {
          "output_type": "stream",
          "name": "stdout",
          "text": [
            "VICI\n"
          ]
        },
        {
          "output_type": "stream",
          "name": "stderr",
          "text": [
            "\r[*********************100%%**********************]  1 of 1 completed\n"
          ]
        },
        {
          "output_type": "stream",
          "name": "stdout",
          "text": [
            "V\n"
          ]
        },
        {
          "output_type": "stream",
          "name": "stderr",
          "text": [
            "\r[*********************100%%**********************]  1 of 1 completed\n"
          ]
        },
        {
          "output_type": "stream",
          "name": "stdout",
          "text": [
            "VST\n"
          ]
        },
        {
          "output_type": "stream",
          "name": "stderr",
          "text": [
            "\r[*********************100%%**********************]  1 of 1 completed\n"
          ]
        },
        {
          "output_type": "stream",
          "name": "stdout",
          "text": [
            "VMC\n"
          ]
        },
        {
          "output_type": "stream",
          "name": "stderr",
          "text": [
            "\r[*********************100%%**********************]  1 of 1 completed\n"
          ]
        },
        {
          "output_type": "stream",
          "name": "stdout",
          "text": [
            "WRB\n"
          ]
        },
        {
          "output_type": "stream",
          "name": "stderr",
          "text": [
            "\r[*********************100%%**********************]  1 of 1 completed\n"
          ]
        },
        {
          "output_type": "stream",
          "name": "stdout",
          "text": [
            "GWW\n"
          ]
        },
        {
          "output_type": "stream",
          "name": "stderr",
          "text": [
            "\r[*********************100%%**********************]  1 of 1 completed\n"
          ]
        },
        {
          "output_type": "stream",
          "name": "stdout",
          "text": [
            "WAB\n"
          ]
        },
        {
          "output_type": "stream",
          "name": "stderr",
          "text": [
            "\r[*********************100%%**********************]  1 of 1 completed\n"
          ]
        },
        {
          "output_type": "stream",
          "name": "stdout",
          "text": [
            "WBA\n"
          ]
        },
        {
          "output_type": "stream",
          "name": "stderr",
          "text": [
            "\r[*********************100%%**********************]  1 of 1 completed\n"
          ]
        },
        {
          "output_type": "stream",
          "name": "stdout",
          "text": [
            "WMT\n"
          ]
        },
        {
          "output_type": "stream",
          "name": "stderr",
          "text": [
            "\r[*********************100%%**********************]  1 of 1 completed\n"
          ]
        },
        {
          "output_type": "stream",
          "name": "stdout",
          "text": [
            "DIS\n"
          ]
        },
        {
          "output_type": "stream",
          "name": "stderr",
          "text": [
            "\r[*********************100%%**********************]  1 of 1 completed\n"
          ]
        },
        {
          "output_type": "stream",
          "name": "stdout",
          "text": [
            "WBD\n"
          ]
        },
        {
          "output_type": "stream",
          "name": "stderr",
          "text": [
            "\r[*********************100%%**********************]  1 of 1 completed\n"
          ]
        },
        {
          "output_type": "stream",
          "name": "stdout",
          "text": [
            "WM\n"
          ]
        },
        {
          "output_type": "stream",
          "name": "stderr",
          "text": [
            "[*********************100%%**********************]  1 of 1 completed\n",
            "[*********************100%%**********************]  1 of 1 completed"
          ]
        },
        {
          "output_type": "stream",
          "name": "stdout",
          "text": [
            "WAT\n"
          ]
        },
        {
          "output_type": "stream",
          "name": "stderr",
          "text": [
            "\n"
          ]
        },
        {
          "output_type": "stream",
          "name": "stdout",
          "text": [
            "WEC\n"
          ]
        },
        {
          "output_type": "stream",
          "name": "stderr",
          "text": [
            "\r[*********************100%%**********************]  1 of 1 completed\n"
          ]
        },
        {
          "output_type": "stream",
          "name": "stdout",
          "text": [
            "WFC\n"
          ]
        },
        {
          "output_type": "stream",
          "name": "stderr",
          "text": [
            "\r[*********************100%%**********************]  1 of 1 completed\n"
          ]
        },
        {
          "output_type": "stream",
          "name": "stdout",
          "text": [
            "WELL\n"
          ]
        },
        {
          "output_type": "stream",
          "name": "stderr",
          "text": [
            "\r[*********************100%%**********************]  1 of 1 completed\n"
          ]
        },
        {
          "output_type": "stream",
          "name": "stdout",
          "text": [
            "WST\n"
          ]
        },
        {
          "output_type": "stream",
          "name": "stderr",
          "text": [
            "\r[*********************100%%**********************]  1 of 1 completed\n"
          ]
        },
        {
          "output_type": "stream",
          "name": "stdout",
          "text": [
            "WDC\n"
          ]
        },
        {
          "output_type": "stream",
          "name": "stderr",
          "text": [
            "\r[*********************100%%**********************]  1 of 1 completed\n"
          ]
        },
        {
          "output_type": "stream",
          "name": "stdout",
          "text": [
            "WY\n"
          ]
        },
        {
          "output_type": "stream",
          "name": "stderr",
          "text": [
            "\r[*********************100%%**********************]  1 of 1 completed\n"
          ]
        },
        {
          "output_type": "stream",
          "name": "stdout",
          "text": [
            "WMB\n"
          ]
        },
        {
          "output_type": "stream",
          "name": "stderr",
          "text": [
            "\r[*********************100%%**********************]  1 of 1 completed\n"
          ]
        },
        {
          "output_type": "stream",
          "name": "stdout",
          "text": [
            "WTW\n"
          ]
        },
        {
          "output_type": "stream",
          "name": "stderr",
          "text": [
            "\r[*********************100%%**********************]  1 of 1 completed\n"
          ]
        },
        {
          "output_type": "stream",
          "name": "stdout",
          "text": [
            "WYNN\n"
          ]
        },
        {
          "output_type": "stream",
          "name": "stderr",
          "text": [
            "\r[*********************100%%**********************]  1 of 1 completed\n"
          ]
        },
        {
          "output_type": "stream",
          "name": "stdout",
          "text": [
            "XEL\n"
          ]
        },
        {
          "output_type": "stream",
          "name": "stderr",
          "text": [
            "\r[*********************100%%**********************]  1 of 1 completed\n"
          ]
        },
        {
          "output_type": "stream",
          "name": "stdout",
          "text": [
            "XYL\n"
          ]
        },
        {
          "output_type": "stream",
          "name": "stderr",
          "text": [
            "\r[*********************100%%**********************]  1 of 1 completed\n"
          ]
        },
        {
          "output_type": "stream",
          "name": "stdout",
          "text": [
            "YUM\n"
          ]
        },
        {
          "output_type": "stream",
          "name": "stderr",
          "text": [
            "\r[*********************100%%**********************]  1 of 1 completed\n"
          ]
        },
        {
          "output_type": "stream",
          "name": "stdout",
          "text": [
            "ZBRA\n"
          ]
        },
        {
          "output_type": "stream",
          "name": "stderr",
          "text": [
            "\r[*********************100%%**********************]  1 of 1 completed\n"
          ]
        },
        {
          "output_type": "stream",
          "name": "stdout",
          "text": [
            "ZBH\n"
          ]
        },
        {
          "output_type": "stream",
          "name": "stderr",
          "text": [
            "\r[*********************100%%**********************]  1 of 1 completed\n"
          ]
        },
        {
          "output_type": "stream",
          "name": "stdout",
          "text": [
            "ZTS\n"
          ]
        },
        {
          "output_type": "stream",
          "name": "stderr",
          "text": [
            "\r[*********************100%%**********************]  1 of 1 completed\n"
          ]
        }
      ]
    },
    {
      "cell_type": "code",
      "source": [
        "allProfit = []\n",
        "\n",
        "for i in matrixProfits:\n",
        "  for e in i :\n",
        "    allProfit.append(e)"
      ],
      "metadata": {
        "id": "9nFrlP38sMnS"
      },
      "execution_count": null,
      "outputs": []
    },
    {
      "cell_type": "code",
      "source": [
        "wins = [i for i in allProfit if i>0]"
      ],
      "metadata": {
        "id": "HniLIra1sUF5"
      },
      "execution_count": null,
      "outputs": []
    },
    {
      "cell_type": "code",
      "source": [
        "len(wins)/len(allProfit)"
      ],
      "metadata": {
        "colab": {
          "base_uri": "https://localhost:8080/"
        },
        "id": "ELMU0Vbus-Vt",
        "outputId": "00b8f8f7-d8c4-497e-a0d2-ce1d80ed940b"
      },
      "execution_count": null,
      "outputs": [
        {
          "output_type": "execute_result",
          "data": {
            "text/plain": [
              "0.7102898452807243"
            ]
          },
          "metadata": {},
          "execution_count": 225
        }
      ]
    },
    {
      "cell_type": "code",
      "source": [
        "plt.hist(allProfit, bins =100)\n",
        "plt.show()"
      ],
      "metadata": {
        "colab": {
          "base_uri": "https://localhost:8080/",
          "height": 430
        },
        "id": "fX5VAXT0tS5Y",
        "outputId": "629727b6-f7f7-48a6-e52f-c8da0e21b983"
      },
      "execution_count": null,
      "outputs": [
        {
          "output_type": "display_data",
          "data": {
            "text/plain": [
              "<Figure size 640x480 with 1 Axes>"
            ],
            "image/png": "[encoded data removed]"
          },
          "metadata": {}
        }
      ]
    },
    {
      "cell_type": "code",
      "source": [
        "for i in matrixSignals:\n",
        "  for e in i:\n",
        "    if e.year == 2021:\n",
        "      print(e)"
      ],
      "metadata": {
        "colab": {
          "base_uri": "https://localhost:8080/"
        },
        "id": "-x4l_AaDtgf0",
        "outputId": "c5e31a6d-9fbb-4331-85ed-116026fce786"
      },
      "execution_count": null,
      "outputs": [
        {
          "output_type": "stream",
          "name": "stdout",
          "text": [
            "2021-01-12 00:00:00\n",
            "2021-06-17 00:00:00\n",
            "2021-06-18 00:00:00\n",
            "2021-06-21 00:00:00\n",
            "2021-09-15 00:00:00\n",
            "2021-09-16 00:00:00\n",
            "2021-09-17 00:00:00\n",
            "2021-09-20 00:00:00\n",
            "2021-09-28 00:00:00\n",
            "2021-09-29 00:00:00\n",
            "2021-09-30 00:00:00\n",
            "2021-10-01 00:00:00\n",
            "2021-09-03 00:00:00\n",
            "2021-09-07 00:00:00\n",
            "2021-09-08 00:00:00\n",
            "2021-09-28 00:00:00\n",
            "2021-09-29 00:00:00\n",
            "2021-09-30 00:00:00\n",
            "2021-10-01 00:00:00\n",
            "2021-10-04 00:00:00\n",
            "2021-10-05 00:00:00\n",
            "2021-10-06 00:00:00\n",
            "2021-10-07 00:00:00\n",
            "2021-05-06 00:00:00\n",
            "2021-05-07 00:00:00\n",
            "2021-05-10 00:00:00\n",
            "2021-05-11 00:00:00\n",
            "2021-05-12 00:00:00\n",
            "2021-05-13 00:00:00\n",
            "2021-05-14 00:00:00\n",
            "2021-06-18 00:00:00\n",
            "2021-06-21 00:00:00\n",
            "2021-06-23 00:00:00\n",
            "2021-06-24 00:00:00\n",
            "2021-09-21 00:00:00\n",
            "2021-09-22 00:00:00\n",
            "2021-09-23 00:00:00\n",
            "2021-03-05 00:00:00\n",
            "2021-09-29 00:00:00\n",
            "2021-09-30 00:00:00\n",
            "2021-10-01 00:00:00\n",
            "2021-10-04 00:00:00\n",
            "2021-10-05 00:00:00\n",
            "2021-10-06 00:00:00\n",
            "2021-10-07 00:00:00\n",
            "2021-10-08 00:00:00\n",
            "2021-10-11 00:00:00\n",
            "2021-10-12 00:00:00\n",
            "2021-10-13 00:00:00\n",
            "2021-10-14 00:00:00\n",
            "2021-12-02 00:00:00\n",
            "2021-12-01 00:00:00\n",
            "2021-12-02 00:00:00\n",
            "2021-08-05 00:00:00\n",
            "2021-09-20 00:00:00\n",
            "2021-02-19 00:00:00\n",
            "2021-12-17 00:00:00\n",
            "2021-12-20 00:00:00\n",
            "2021-12-21 00:00:00\n",
            "2021-09-20 00:00:00\n",
            "2021-09-22 00:00:00\n",
            "2021-09-28 00:00:00\n",
            "2021-09-29 00:00:00\n",
            "2021-03-09 00:00:00\n",
            "2021-10-01 00:00:00\n",
            "2021-10-04 00:00:00\n",
            "2021-10-05 00:00:00\n",
            "2021-10-06 00:00:00\n",
            "2021-10-12 00:00:00\n",
            "2021-10-13 00:00:00\n",
            "2021-02-01 00:00:00\n",
            "2021-10-05 00:00:00\n",
            "2021-10-06 00:00:00\n",
            "2021-10-07 00:00:00\n",
            "2021-09-20 00:00:00\n",
            "2021-09-21 00:00:00\n",
            "2021-09-22 00:00:00\n",
            "2021-09-23 00:00:00\n",
            "2021-09-24 00:00:00\n",
            "2021-09-27 00:00:00\n",
            "2021-09-28 00:00:00\n",
            "2021-09-29 00:00:00\n",
            "2021-10-01 00:00:00\n",
            "2021-10-04 00:00:00\n",
            "2021-02-17 00:00:00\n",
            "2021-06-18 00:00:00\n",
            "2021-06-21 00:00:00\n",
            "2021-09-29 00:00:00\n",
            "2021-09-30 00:00:00\n",
            "2021-10-01 00:00:00\n",
            "2021-09-30 00:00:00\n",
            "2021-10-01 00:00:00\n",
            "2021-04-21 00:00:00\n",
            "2021-04-23 00:00:00\n",
            "2021-06-18 00:00:00\n",
            "2021-06-21 00:00:00\n",
            "2021-08-02 00:00:00\n",
            "2021-08-03 00:00:00\n",
            "2021-08-12 00:00:00\n",
            "2021-08-16 00:00:00\n",
            "2021-06-21 00:00:00\n",
            "2021-09-22 00:00:00\n",
            "2021-06-30 00:00:00\n",
            "2021-09-20 00:00:00\n",
            "2021-09-21 00:00:00\n",
            "2021-09-22 00:00:00\n",
            "2021-09-28 00:00:00\n",
            "2021-09-29 00:00:00\n",
            "2021-10-01 00:00:00\n",
            "2021-10-04 00:00:00\n",
            "2021-04-21 00:00:00\n",
            "2021-04-23 00:00:00\n",
            "2021-06-29 00:00:00\n",
            "2021-06-30 00:00:00\n",
            "2021-07-01 00:00:00\n",
            "2021-07-08 00:00:00\n",
            "2021-07-09 00:00:00\n",
            "2021-07-14 00:00:00\n",
            "2021-07-20 00:00:00\n",
            "2021-06-09 00:00:00\n",
            "2021-09-17 00:00:00\n",
            "2021-09-20 00:00:00\n",
            "2021-08-19 00:00:00\n",
            "2021-08-20 00:00:00\n",
            "2021-08-23 00:00:00\n",
            "2021-06-21 00:00:00\n",
            "2021-07-09 00:00:00\n",
            "2021-11-19 00:00:00\n",
            "2021-11-22 00:00:00\n",
            "2021-12-01 00:00:00\n",
            "2021-12-02 00:00:00\n",
            "2021-09-28 00:00:00\n",
            "2021-09-29 00:00:00\n",
            "2021-09-30 00:00:00\n",
            "2021-10-01 00:00:00\n",
            "2021-10-04 00:00:00\n",
            "2021-10-05 00:00:00\n",
            "2021-10-06 00:00:00\n",
            "2021-10-08 00:00:00\n",
            "2021-10-11 00:00:00\n",
            "2021-10-12 00:00:00\n",
            "2021-11-16 00:00:00\n",
            "2021-02-23 00:00:00\n",
            "2021-02-25 00:00:00\n",
            "2021-02-26 00:00:00\n",
            "2021-09-28 00:00:00\n",
            "2021-09-29 00:00:00\n",
            "2021-10-01 00:00:00\n",
            "2021-10-04 00:00:00\n",
            "2021-06-18 00:00:00\n",
            "2021-06-21 00:00:00\n",
            "2021-09-22 00:00:00\n",
            "2021-12-02 00:00:00\n",
            "2021-01-27 00:00:00\n",
            "2021-01-28 00:00:00\n",
            "2021-06-21 00:00:00\n",
            "2021-09-13 00:00:00\n",
            "2021-09-14 00:00:00\n",
            "2021-01-28 00:00:00\n",
            "2021-12-21 00:00:00\n",
            "2021-02-26 00:00:00\n",
            "2021-06-18 00:00:00\n",
            "2021-06-21 00:00:00\n",
            "2021-07-20 00:00:00\n",
            "2021-11-05 00:00:00\n",
            "2021-11-08 00:00:00\n",
            "2021-07-15 00:00:00\n",
            "2021-07-16 00:00:00\n",
            "2021-07-19 00:00:00\n",
            "2021-07-20 00:00:00\n",
            "2021-07-21 00:00:00\n",
            "2021-02-23 00:00:00\n",
            "2021-02-24 00:00:00\n",
            "2021-02-25 00:00:00\n",
            "2021-02-26 00:00:00\n",
            "2021-03-01 00:00:00\n",
            "2021-03-09 00:00:00\n",
            "2021-05-13 00:00:00\n",
            "2021-09-21 00:00:00\n",
            "2021-05-13 00:00:00\n",
            "2021-08-13 00:00:00\n",
            "2021-09-13 00:00:00\n",
            "2021-11-29 00:00:00\n",
            "2021-12-01 00:00:00\n",
            "2021-12-02 00:00:00\n",
            "2021-01-28 00:00:00\n",
            "2021-01-29 00:00:00\n",
            "2021-02-01 00:00:00\n",
            "2021-06-21 00:00:00\n",
            "2021-09-07 00:00:00\n",
            "2021-09-08 00:00:00\n",
            "2021-06-17 00:00:00\n",
            "2021-06-18 00:00:00\n",
            "2021-06-21 00:00:00\n",
            "2021-06-22 00:00:00\n",
            "2021-06-23 00:00:00\n",
            "2021-06-24 00:00:00\n",
            "2021-06-28 00:00:00\n",
            "2021-06-29 00:00:00\n",
            "2021-06-30 00:00:00\n",
            "2021-07-01 00:00:00\n",
            "2021-07-02 00:00:00\n",
            "2021-07-06 00:00:00\n",
            "2021-07-07 00:00:00\n",
            "2021-07-08 00:00:00\n",
            "2021-07-09 00:00:00\n",
            "2021-07-15 00:00:00\n",
            "2021-07-19 00:00:00\n",
            "2021-07-20 00:00:00\n",
            "2021-07-23 00:00:00\n",
            "2021-02-23 00:00:00\n",
            "2021-02-24 00:00:00\n",
            "2021-02-25 00:00:00\n",
            "2021-02-26 00:00:00\n",
            "2021-03-01 00:00:00\n",
            "2021-03-04 00:00:00\n",
            "2021-03-05 00:00:00\n",
            "2021-03-08 00:00:00\n",
            "2021-03-09 00:00:00\n",
            "2021-09-13 00:00:00\n",
            "2021-01-28 00:00:00\n",
            "2021-06-18 00:00:00\n",
            "2021-06-21 00:00:00\n",
            "2021-02-19 00:00:00\n",
            "2021-06-21 00:00:00\n",
            "2021-09-21 00:00:00\n",
            "2021-09-22 00:00:00\n",
            "2021-05-19 00:00:00\n",
            "2021-05-20 00:00:00\n",
            "2021-01-28 00:00:00\n",
            "2021-01-15 00:00:00\n",
            "2021-01-19 00:00:00\n",
            "2021-01-20 00:00:00\n",
            "2021-01-22 00:00:00\n",
            "2021-09-08 00:00:00\n",
            "2021-09-17 00:00:00\n",
            "2021-09-22 00:00:00\n",
            "2021-05-27 00:00:00\n",
            "2021-06-01 00:00:00\n",
            "2021-06-03 00:00:00\n",
            "2021-06-04 00:00:00\n",
            "2021-06-07 00:00:00\n",
            "2021-06-08 00:00:00\n",
            "2021-06-10 00:00:00\n",
            "2021-06-11 00:00:00\n",
            "2021-09-03 00:00:00\n",
            "2021-06-21 00:00:00\n",
            "2021-07-20 00:00:00\n",
            "2021-09-20 00:00:00\n",
            "2021-09-21 00:00:00\n",
            "2021-09-22 00:00:00\n",
            "2021-10-01 00:00:00\n",
            "2021-03-08 00:00:00\n",
            "2021-03-09 00:00:00\n",
            "2021-05-07 00:00:00\n",
            "2021-05-11 00:00:00\n",
            "2021-10-06 00:00:00\n",
            "2021-02-01 00:00:00\n",
            "2021-04-12 00:00:00\n",
            "2021-04-13 00:00:00\n",
            "2021-04-14 00:00:00\n",
            "2021-04-21 00:00:00\n",
            "2021-04-22 00:00:00\n",
            "2021-06-21 00:00:00\n",
            "2021-01-28 00:00:00\n",
            "2021-03-05 00:00:00\n",
            "2021-09-29 00:00:00\n",
            "2021-09-30 00:00:00\n",
            "2021-06-18 00:00:00\n",
            "2021-06-21 00:00:00\n",
            "2021-07-20 00:00:00\n",
            "2021-01-28 00:00:00\n",
            "2021-09-15 00:00:00\n",
            "2021-09-21 00:00:00\n",
            "2021-09-22 00:00:00\n",
            "2021-12-01 00:00:00\n",
            "2021-12-02 00:00:00\n",
            "2021-01-28 00:00:00\n",
            "2021-06-18 00:00:00\n",
            "2021-06-21 00:00:00\n",
            "2021-06-24 00:00:00\n",
            "2021-09-08 00:00:00\n",
            "2021-09-13 00:00:00\n",
            "2021-09-21 00:00:00\n",
            "2021-09-22 00:00:00\n",
            "2021-02-26 00:00:00\n",
            "2021-01-28 00:00:00\n",
            "2021-05-13 00:00:00\n",
            "2021-10-04 00:00:00\n",
            "2021-10-05 00:00:00\n",
            "2021-10-06 00:00:00\n",
            "2021-10-07 00:00:00\n",
            "2021-10-11 00:00:00\n",
            "2021-10-12 00:00:00\n",
            "2021-10-13 00:00:00\n",
            "2021-10-14 00:00:00\n",
            "2021-11-24 00:00:00\n",
            "2021-12-02 00:00:00\n",
            "2021-12-06 00:00:00\n",
            "2021-09-09 00:00:00\n",
            "2021-09-10 00:00:00\n",
            "2021-09-13 00:00:00\n",
            "2021-09-14 00:00:00\n",
            "2021-09-15 00:00:00\n",
            "2021-09-16 00:00:00\n",
            "2021-09-17 00:00:00\n",
            "2021-09-20 00:00:00\n",
            "2021-09-21 00:00:00\n",
            "2021-09-20 00:00:00\n",
            "2021-09-21 00:00:00\n",
            "2021-09-22 00:00:00\n",
            "2021-09-23 00:00:00\n",
            "2021-10-01 00:00:00\n",
            "2021-10-05 00:00:00\n",
            "2021-10-05 00:00:00\n",
            "2021-12-17 00:00:00\n",
            "2021-12-20 00:00:00\n",
            "2021-12-21 00:00:00\n",
            "2021-01-05 00:00:00\n",
            "2021-01-28 00:00:00\n",
            "2021-05-13 00:00:00\n",
            "2021-07-16 00:00:00\n",
            "2021-01-27 00:00:00\n",
            "2021-01-28 00:00:00\n",
            "2021-05-13 00:00:00\n",
            "2021-06-30 00:00:00\n",
            "2021-06-21 00:00:00\n",
            "2021-07-09 00:00:00\n",
            "2021-07-20 00:00:00\n",
            "2021-09-13 00:00:00\n",
            "2021-07-20 00:00:00\n",
            "2021-09-09 00:00:00\n",
            "2021-05-13 00:00:00\n",
            "2021-01-28 00:00:00\n",
            "2021-02-01 00:00:00\n",
            "2021-09-21 00:00:00\n",
            "2021-09-22 00:00:00\n",
            "2021-01-15 00:00:00\n",
            "2021-01-19 00:00:00\n",
            "2021-01-21 00:00:00\n",
            "2021-01-22 00:00:00\n",
            "2021-01-25 00:00:00\n",
            "2021-01-26 00:00:00\n",
            "2021-06-03 00:00:00\n",
            "2021-06-04 00:00:00\n",
            "2021-06-08 00:00:00\n",
            "2021-06-15 00:00:00\n",
            "2021-06-16 00:00:00\n",
            "2021-06-17 00:00:00\n",
            "2021-06-18 00:00:00\n",
            "2021-06-21 00:00:00\n",
            "2021-07-09 00:00:00\n",
            "2021-07-19 00:00:00\n",
            "2021-07-20 00:00:00\n",
            "2021-12-01 00:00:00\n",
            "2021-12-02 00:00:00\n",
            "2021-03-09 00:00:00\n",
            "2021-05-05 00:00:00\n",
            "2021-05-06 00:00:00\n",
            "2021-05-07 00:00:00\n",
            "2021-05-11 00:00:00\n",
            "2021-09-29 00:00:00\n",
            "2021-09-30 00:00:00\n",
            "2021-10-01 00:00:00\n",
            "2021-10-05 00:00:00\n",
            "2021-01-28 00:00:00\n",
            "2021-07-08 00:00:00\n",
            "2021-07-09 00:00:00\n",
            "2021-07-19 00:00:00\n",
            "2021-07-20 00:00:00\n",
            "2021-11-05 00:00:00\n",
            "2021-11-11 00:00:00\n",
            "2021-09-09 00:00:00\n",
            "2021-11-01 00:00:00\n",
            "2021-05-12 00:00:00\n",
            "2021-05-13 00:00:00\n",
            "2021-05-20 00:00:00\n",
            "2021-05-25 00:00:00\n",
            "2021-05-26 00:00:00\n",
            "2021-01-27 00:00:00\n",
            "2021-06-30 00:00:00\n",
            "2021-07-07 00:00:00\n",
            "2021-07-08 00:00:00\n",
            "2021-07-09 00:00:00\n",
            "2021-07-12 00:00:00\n",
            "2021-07-13 00:00:00\n",
            "2021-01-28 00:00:00\n",
            "2021-09-22 00:00:00\n",
            "2021-12-21 00:00:00\n",
            "2021-03-05 00:00:00\n",
            "2021-03-09 00:00:00\n",
            "2021-11-08 00:00:00\n",
            "2021-06-11 00:00:00\n",
            "2021-06-14 00:00:00\n",
            "2021-06-15 00:00:00\n",
            "2021-06-16 00:00:00\n",
            "2021-06-17 00:00:00\n",
            "2021-06-18 00:00:00\n",
            "2021-06-21 00:00:00\n",
            "2021-06-22 00:00:00\n",
            "2021-06-23 00:00:00\n",
            "2021-06-24 00:00:00\n",
            "2021-07-20 00:00:00\n",
            "2021-07-20 00:00:00\n",
            "2021-11-23 00:00:00\n",
            "2021-05-13 00:00:00\n",
            "2021-09-21 00:00:00\n",
            "2021-09-22 00:00:00\n",
            "2021-09-30 00:00:00\n",
            "2021-10-01 00:00:00\n",
            "2021-10-07 00:00:00\n",
            "2021-10-12 00:00:00\n",
            "2021-10-13 00:00:00\n",
            "2021-10-14 00:00:00\n",
            "2021-01-28 00:00:00\n",
            "2021-06-15 00:00:00\n",
            "2021-06-16 00:00:00\n",
            "2021-06-17 00:00:00\n",
            "2021-06-18 00:00:00\n",
            "2021-06-21 00:00:00\n",
            "2021-06-22 00:00:00\n",
            "2021-06-23 00:00:00\n",
            "2021-06-24 00:00:00\n",
            "2021-06-29 00:00:00\n",
            "2021-06-30 00:00:00\n",
            "2021-07-30 00:00:00\n",
            "2021-08-02 00:00:00\n",
            "2021-08-06 00:00:00\n",
            "2021-08-09 00:00:00\n",
            "2021-08-10 00:00:00\n",
            "2021-09-20 00:00:00\n",
            "2021-06-21 00:00:00\n",
            "2021-07-20 00:00:00\n",
            "2021-12-02 00:00:00\n",
            "2021-11-05 00:00:00\n",
            "2021-11-08 00:00:00\n",
            "2021-11-09 00:00:00\n",
            "2021-02-01 00:00:00\n",
            "2021-07-09 00:00:00\n",
            "2021-09-21 00:00:00\n",
            "2021-09-22 00:00:00\n",
            "2021-09-24 00:00:00\n",
            "2021-09-27 00:00:00\n",
            "2021-09-28 00:00:00\n",
            "2021-09-29 00:00:00\n",
            "2021-09-30 00:00:00\n",
            "2021-10-01 00:00:00\n",
            "2021-10-11 00:00:00\n",
            "2021-10-12 00:00:00\n",
            "2021-10-13 00:00:00\n",
            "2021-10-14 00:00:00\n",
            "2021-07-19 00:00:00\n",
            "2021-07-20 00:00:00\n",
            "2021-07-21 00:00:00\n",
            "2021-05-07 00:00:00\n",
            "2021-05-11 00:00:00\n",
            "2021-05-12 00:00:00\n",
            "2021-11-23 00:00:00\n",
            "2021-11-24 00:00:00\n",
            "2021-11-26 00:00:00\n",
            "2021-11-29 00:00:00\n",
            "2021-11-30 00:00:00\n",
            "2021-12-01 00:00:00\n",
            "2021-01-28 00:00:00\n",
            "2021-06-21 00:00:00\n",
            "2021-12-01 00:00:00\n",
            "2021-12-02 00:00:00\n",
            "2021-06-08 00:00:00\n",
            "2021-06-09 00:00:00\n",
            "2021-06-10 00:00:00\n",
            "2021-06-11 00:00:00\n",
            "2021-06-14 00:00:00\n",
            "2021-06-15 00:00:00\n",
            "2021-06-16 00:00:00\n",
            "2021-06-17 00:00:00\n",
            "2021-06-18 00:00:00\n",
            "2021-06-21 00:00:00\n",
            "2021-06-24 00:00:00\n",
            "2021-07-20 00:00:00\n",
            "2021-06-21 00:00:00\n",
            "2021-09-22 00:00:00\n",
            "2021-01-20 00:00:00\n",
            "2021-09-21 00:00:00\n",
            "2021-09-22 00:00:00\n",
            "2021-09-23 00:00:00\n",
            "2021-10-01 00:00:00\n",
            "2021-11-19 00:00:00\n",
            "2021-11-22 00:00:00\n",
            "2021-06-16 00:00:00\n",
            "2021-06-17 00:00:00\n",
            "2021-06-18 00:00:00\n",
            "2021-06-21 00:00:00\n",
            "2021-06-22 00:00:00\n",
            "2021-06-23 00:00:00\n",
            "2021-06-24 00:00:00\n",
            "2021-07-09 00:00:00\n",
            "2021-07-20 00:00:00\n",
            "2021-06-18 00:00:00\n",
            "2021-06-21 00:00:00\n",
            "2021-07-09 00:00:00\n",
            "2021-07-20 00:00:00\n",
            "2021-08-19 00:00:00\n",
            "2021-08-20 00:00:00\n",
            "2021-08-23 00:00:00\n",
            "2021-06-09 00:00:00\n",
            "2021-09-24 00:00:00\n",
            "2021-09-27 00:00:00\n",
            "2021-01-07 00:00:00\n",
            "2021-01-08 00:00:00\n",
            "2021-01-15 00:00:00\n",
            "2021-01-19 00:00:00\n",
            "2021-01-20 00:00:00\n",
            "2021-01-21 00:00:00\n",
            "2021-01-25 00:00:00\n",
            "2021-09-27 00:00:00\n",
            "2021-09-28 00:00:00\n",
            "2021-09-30 00:00:00\n",
            "2021-01-28 00:00:00\n",
            "2021-05-10 00:00:00\n",
            "2021-01-08 00:00:00\n",
            "2021-01-20 00:00:00\n",
            "2021-01-21 00:00:00\n",
            "2021-01-22 00:00:00\n",
            "2021-01-25 00:00:00\n",
            "2021-01-26 00:00:00\n",
            "2021-01-27 00:00:00\n",
            "2021-01-28 00:00:00\n",
            "2021-09-15 00:00:00\n",
            "2021-06-15 00:00:00\n",
            "2021-06-18 00:00:00\n",
            "2021-06-21 00:00:00\n",
            "2021-07-09 00:00:00\n",
            "2021-07-20 00:00:00\n",
            "2021-12-02 00:00:00\n",
            "2021-06-18 00:00:00\n",
            "2021-07-20 00:00:00\n",
            "2021-06-21 00:00:00\n",
            "2021-06-18 00:00:00\n",
            "2021-06-21 00:00:00\n",
            "2021-07-20 00:00:00\n",
            "2021-05-13 00:00:00\n",
            "2021-05-20 00:00:00\n",
            "2021-06-08 00:00:00\n",
            "2021-06-09 00:00:00\n",
            "2021-06-10 00:00:00\n",
            "2021-06-11 00:00:00\n",
            "2021-10-01 00:00:00\n",
            "2021-10-05 00:00:00\n",
            "2021-10-12 00:00:00\n",
            "2021-10-13 00:00:00\n",
            "2021-10-14 00:00:00\n",
            "2021-10-15 00:00:00\n",
            "2021-01-26 00:00:00\n",
            "2021-01-27 00:00:00\n",
            "2021-01-28 00:00:00\n",
            "2021-01-29 00:00:00\n",
            "2021-02-01 00:00:00\n",
            "2021-02-26 00:00:00\n",
            "2021-08-18 00:00:00\n",
            "2021-08-19 00:00:00\n",
            "2021-08-20 00:00:00\n",
            "2021-06-16 00:00:00\n",
            "2021-06-17 00:00:00\n",
            "2021-06-18 00:00:00\n",
            "2021-06-21 00:00:00\n",
            "2021-06-22 00:00:00\n",
            "2021-05-13 00:00:00\n",
            "2021-05-14 00:00:00\n",
            "2021-06-18 00:00:00\n",
            "2021-06-21 00:00:00\n",
            "2021-02-25 00:00:00\n",
            "2021-02-26 00:00:00\n",
            "2021-03-01 00:00:00\n",
            "2021-01-20 00:00:00\n",
            "2021-02-24 00:00:00\n",
            "2021-02-25 00:00:00\n",
            "2021-09-27 00:00:00\n",
            "2021-09-28 00:00:00\n",
            "2021-01-28 00:00:00\n",
            "2021-06-11 00:00:00\n",
            "2021-06-21 00:00:00\n",
            "2021-07-07 00:00:00\n",
            "2021-07-08 00:00:00\n",
            "2021-07-09 00:00:00\n",
            "2021-02-26 00:00:00\n",
            "2021-03-01 00:00:00\n",
            "2021-03-05 00:00:00\n",
            "2021-09-29 00:00:00\n",
            "2021-09-30 00:00:00\n",
            "2021-10-01 00:00:00\n",
            "2021-10-04 00:00:00\n",
            "2021-10-05 00:00:00\n",
            "2021-10-06 00:00:00\n",
            "2021-10-07 00:00:00\n",
            "2021-10-11 00:00:00\n",
            "2021-10-12 00:00:00\n",
            "2021-10-13 00:00:00\n",
            "2021-10-14 00:00:00\n",
            "2021-05-13 00:00:00\n",
            "2021-10-21 00:00:00\n",
            "2021-02-03 00:00:00\n",
            "2021-02-04 00:00:00\n",
            "2021-02-05 00:00:00\n",
            "2021-02-08 00:00:00\n",
            "2021-02-16 00:00:00\n",
            "2021-02-17 00:00:00\n",
            "2021-02-18 00:00:00\n",
            "2021-02-19 00:00:00\n",
            "2021-02-22 00:00:00\n",
            "2021-02-23 00:00:00\n",
            "2021-09-13 00:00:00\n",
            "2021-09-15 00:00:00\n",
            "2021-09-16 00:00:00\n",
            "2021-09-17 00:00:00\n",
            "2021-09-20 00:00:00\n",
            "2021-09-21 00:00:00\n",
            "2021-09-22 00:00:00\n",
            "2021-02-26 00:00:00\n",
            "2021-11-23 00:00:00\n",
            "2021-11-24 00:00:00\n",
            "2021-12-02 00:00:00\n",
            "2021-12-07 00:00:00\n",
            "2021-01-28 00:00:00\n",
            "2021-09-09 00:00:00\n",
            "2021-09-27 00:00:00\n",
            "2021-09-28 00:00:00\n",
            "2021-09-29 00:00:00\n",
            "2021-09-30 00:00:00\n",
            "2021-10-01 00:00:00\n",
            "2021-10-04 00:00:00\n",
            "2021-10-05 00:00:00\n",
            "2021-10-06 00:00:00\n",
            "2021-10-07 00:00:00\n",
            "2021-06-11 00:00:00\n",
            "2021-06-14 00:00:00\n",
            "2021-06-15 00:00:00\n",
            "2021-06-16 00:00:00\n",
            "2021-06-17 00:00:00\n",
            "2021-06-18 00:00:00\n",
            "2021-06-21 00:00:00\n",
            "2021-04-21 00:00:00\n",
            "2021-06-29 00:00:00\n",
            "2021-06-30 00:00:00\n",
            "2021-07-09 00:00:00\n",
            "2021-07-20 00:00:00\n",
            "2021-12-01 00:00:00\n",
            "2021-12-02 00:00:00\n",
            "2021-12-06 00:00:00\n",
            "2021-12-07 00:00:00\n",
            "2021-07-19 00:00:00\n",
            "2021-07-20 00:00:00\n",
            "2021-07-21 00:00:00\n",
            "2021-09-28 00:00:00\n",
            "2021-09-29 00:00:00\n",
            "2021-09-30 00:00:00\n",
            "2021-01-28 00:00:00\n",
            "2021-09-09 00:00:00\n",
            "2021-10-28 00:00:00\n",
            "2021-10-29 00:00:00\n",
            "2021-11-01 00:00:00\n",
            "2021-01-28 00:00:00\n",
            "2021-09-01 00:00:00\n",
            "2021-09-02 00:00:00\n",
            "2021-09-13 00:00:00\n",
            "2021-09-14 00:00:00\n",
            "2021-09-15 00:00:00\n",
            "2021-09-16 00:00:00\n",
            "2021-09-29 00:00:00\n",
            "2021-10-01 00:00:00\n",
            "2021-01-28 00:00:00\n",
            "2021-02-01 00:00:00\n",
            "2021-02-02 00:00:00\n",
            "2021-02-25 00:00:00\n",
            "2021-02-26 00:00:00\n",
            "2021-03-01 00:00:00\n",
            "2021-03-02 00:00:00\n",
            "2021-03-03 00:00:00\n",
            "2021-05-13 00:00:00\n",
            "2021-05-14 00:00:00\n",
            "2021-05-25 00:00:00\n",
            "2021-05-26 00:00:00\n",
            "2021-09-27 00:00:00\n",
            "2021-09-28 00:00:00\n",
            "2021-09-29 00:00:00\n",
            "2021-09-30 00:00:00\n",
            "2021-10-01 00:00:00\n",
            "2021-10-04 00:00:00\n",
            "2021-10-05 00:00:00\n",
            "2021-10-06 00:00:00\n",
            "2021-10-18 00:00:00\n",
            "2021-10-19 00:00:00\n",
            "2021-01-28 00:00:00\n",
            "2021-01-29 00:00:00\n",
            "2021-02-01 00:00:00\n",
            "2021-02-02 00:00:00\n",
            "2021-06-21 00:00:00\n",
            "2021-09-17 00:00:00\n",
            "2021-09-20 00:00:00\n",
            "2021-09-21 00:00:00\n",
            "2021-09-22 00:00:00\n",
            "2021-09-23 00:00:00\n",
            "2021-09-29 00:00:00\n",
            "2021-09-30 00:00:00\n",
            "2021-10-01 00:00:00\n",
            "2021-10-04 00:00:00\n",
            "2021-10-05 00:00:00\n",
            "2021-12-01 00:00:00\n",
            "2021-12-02 00:00:00\n",
            "2021-02-01 00:00:00\n",
            "2021-06-18 00:00:00\n",
            "2021-06-21 00:00:00\n",
            "2021-07-07 00:00:00\n",
            "2021-07-09 00:00:00\n",
            "2021-07-19 00:00:00\n",
            "2021-07-21 00:00:00\n",
            "2021-01-06 00:00:00\n",
            "2021-01-07 00:00:00\n",
            "2021-09-13 00:00:00\n",
            "2021-09-14 00:00:00\n",
            "2021-09-15 00:00:00\n",
            "2021-06-21 00:00:00\n",
            "2021-06-23 00:00:00\n",
            "2021-06-24 00:00:00\n",
            "2021-06-25 00:00:00\n",
            "2021-06-30 00:00:00\n",
            "2021-07-01 00:00:00\n",
            "2021-09-20 00:00:00\n",
            "2021-09-21 00:00:00\n",
            "2021-09-22 00:00:00\n",
            "2021-09-28 00:00:00\n",
            "2021-09-29 00:00:00\n",
            "2021-09-20 00:00:00\n",
            "2021-09-21 00:00:00\n",
            "2021-09-22 00:00:00\n",
            "2021-09-23 00:00:00\n",
            "2021-09-24 00:00:00\n",
            "2021-09-27 00:00:00\n",
            "2021-09-28 00:00:00\n",
            "2021-09-29 00:00:00\n",
            "2021-06-18 00:00:00\n",
            "2021-06-21 00:00:00\n",
            "2021-06-22 00:00:00\n",
            "2021-06-23 00:00:00\n",
            "2021-06-24 00:00:00\n",
            "2021-06-25 00:00:00\n",
            "2021-06-28 00:00:00\n",
            "2021-07-20 00:00:00\n",
            "2021-06-18 00:00:00\n",
            "2021-06-21 00:00:00\n",
            "2021-07-07 00:00:00\n",
            "2021-07-09 00:00:00\n",
            "2021-07-19 00:00:00\n",
            "2021-01-28 00:00:00\n",
            "2021-06-21 00:00:00\n",
            "2021-09-13 00:00:00\n",
            "2021-09-14 00:00:00\n",
            "2021-09-15 00:00:00\n",
            "2021-09-22 00:00:00\n",
            "2021-10-01 00:00:00\n",
            "2021-10-05 00:00:00\n",
            "2021-12-01 00:00:00\n",
            "2021-12-02 00:00:00\n",
            "2021-03-05 00:00:00\n",
            "2021-03-09 00:00:00\n",
            "2021-04-30 00:00:00\n",
            "2021-05-03 00:00:00\n",
            "2021-10-05 00:00:00\n",
            "2021-12-01 00:00:00\n",
            "2021-09-21 00:00:00\n",
            "2021-01-28 00:00:00\n",
            "2021-02-01 00:00:00\n",
            "2021-02-02 00:00:00\n",
            "2021-10-01 00:00:00\n",
            "2021-10-04 00:00:00\n",
            "2021-10-05 00:00:00\n",
            "2021-10-06 00:00:00\n",
            "2021-03-01 00:00:00\n",
            "2021-01-28 00:00:00\n",
            "2021-06-21 00:00:00\n",
            "2021-12-06 00:00:00\n",
            "2021-03-16 00:00:00\n",
            "2021-03-18 00:00:00\n",
            "2021-03-19 00:00:00\n",
            "2021-03-22 00:00:00\n",
            "2021-03-24 00:00:00\n",
            "2021-03-25 00:00:00\n",
            "2021-09-10 00:00:00\n",
            "2021-09-13 00:00:00\n",
            "2021-09-14 00:00:00\n",
            "2021-09-15 00:00:00\n",
            "2021-09-16 00:00:00\n",
            "2021-09-17 00:00:00\n",
            "2021-09-20 00:00:00\n",
            "2021-09-21 00:00:00\n",
            "2021-09-22 00:00:00\n",
            "2021-09-23 00:00:00\n",
            "2021-09-28 00:00:00\n",
            "2021-09-29 00:00:00\n",
            "2021-12-09 00:00:00\n",
            "2021-12-10 00:00:00\n",
            "2021-09-15 00:00:00\n",
            "2021-09-20 00:00:00\n",
            "2021-09-21 00:00:00\n",
            "2021-09-22 00:00:00\n",
            "2021-03-09 00:00:00\n",
            "2021-12-17 00:00:00\n",
            "2021-12-20 00:00:00\n",
            "2021-12-21 00:00:00\n",
            "2021-06-24 00:00:00\n",
            "2021-06-25 00:00:00\n",
            "2021-09-23 00:00:00\n",
            "2021-09-24 00:00:00\n",
            "2021-07-19 00:00:00\n",
            "2021-07-20 00:00:00\n",
            "2021-07-21 00:00:00\n",
            "2021-08-17 00:00:00\n",
            "2021-08-18 00:00:00\n",
            "2021-11-22 00:00:00\n",
            "2021-09-29 00:00:00\n",
            "2021-09-30 00:00:00\n",
            "2021-10-01 00:00:00\n",
            "2021-10-05 00:00:00\n",
            "2021-11-24 00:00:00\n",
            "2021-07-20 00:00:00\n",
            "2021-10-01 00:00:00\n",
            "2021-10-01 00:00:00\n",
            "2021-10-04 00:00:00\n",
            "2021-10-05 00:00:00\n",
            "2021-10-06 00:00:00\n",
            "2021-10-07 00:00:00\n",
            "2021-10-08 00:00:00\n",
            "2021-10-11 00:00:00\n",
            "2021-10-12 00:00:00\n",
            "2021-01-28 00:00:00\n",
            "2021-05-04 00:00:00\n",
            "2021-09-17 00:00:00\n",
            "2021-09-20 00:00:00\n",
            "2021-09-21 00:00:00\n",
            "2021-09-22 00:00:00\n",
            "2021-09-29 00:00:00\n",
            "2021-09-30 00:00:00\n",
            "2021-10-01 00:00:00\n",
            "2021-05-06 00:00:00\n",
            "2021-12-07 00:00:00\n",
            "2021-01-28 00:00:00\n",
            "2021-01-29 00:00:00\n",
            "2021-02-01 00:00:00\n",
            "2021-02-02 00:00:00\n",
            "2021-05-26 00:00:00\n",
            "2021-05-27 00:00:00\n",
            "2021-06-18 00:00:00\n",
            "2021-06-21 00:00:00\n",
            "2021-09-08 00:00:00\n",
            "2021-09-16 00:00:00\n",
            "2021-09-17 00:00:00\n",
            "2021-09-20 00:00:00\n",
            "2021-09-21 00:00:00\n",
            "2021-09-22 00:00:00\n",
            "2021-09-23 00:00:00\n",
            "2021-09-24 00:00:00\n",
            "2021-09-27 00:00:00\n",
            "2021-09-28 00:00:00\n",
            "2021-09-29 00:00:00\n",
            "2021-10-01 00:00:00\n",
            "2021-10-04 00:00:00\n",
            "2021-09-17 00:00:00\n",
            "2021-01-28 00:00:00\n",
            "2021-05-07 00:00:00\n",
            "2021-07-20 00:00:00\n",
            "2021-02-01 00:00:00\n",
            "2021-10-04 00:00:00\n",
            "2021-10-05 00:00:00\n",
            "2021-10-06 00:00:00\n",
            "2021-10-08 00:00:00\n",
            "2021-10-11 00:00:00\n",
            "2021-09-27 00:00:00\n",
            "2021-09-28 00:00:00\n",
            "2021-09-29 00:00:00\n",
            "2021-10-01 00:00:00\n",
            "2021-10-04 00:00:00\n",
            "2021-10-05 00:00:00\n",
            "2021-10-06 00:00:00\n",
            "2021-07-19 00:00:00\n",
            "2021-07-20 00:00:00\n",
            "2021-07-21 00:00:00\n",
            "2021-08-20 00:00:00\n",
            "2021-08-23 00:00:00\n",
            "2021-02-24 00:00:00\n",
            "2021-04-29 00:00:00\n",
            "2021-05-03 00:00:00\n",
            "2021-05-04 00:00:00\n",
            "2021-05-05 00:00:00\n",
            "2021-05-06 00:00:00\n",
            "2021-05-07 00:00:00\n",
            "2021-05-12 00:00:00\n",
            "2021-05-13 00:00:00\n",
            "2021-05-07 00:00:00\n",
            "2021-05-12 00:00:00\n",
            "2021-02-01 00:00:00\n",
            "2021-06-18 00:00:00\n",
            "2021-10-05 00:00:00\n",
            "2021-01-04 00:00:00\n",
            "2021-01-05 00:00:00\n",
            "2021-01-06 00:00:00\n",
            "2021-01-07 00:00:00\n",
            "2021-01-08 00:00:00\n",
            "2021-01-11 00:00:00\n",
            "2021-01-12 00:00:00\n",
            "2021-01-13 00:00:00\n",
            "2021-01-28 00:00:00\n",
            "2021-01-29 00:00:00\n",
            "2021-02-01 00:00:00\n",
            "2021-07-28 00:00:00\n",
            "2021-07-29 00:00:00\n",
            "2021-07-30 00:00:00\n",
            "2021-08-02 00:00:00\n",
            "2021-06-15 00:00:00\n",
            "2021-06-18 00:00:00\n",
            "2021-06-21 00:00:00\n",
            "2021-07-20 00:00:00\n",
            "2021-02-23 00:00:00\n",
            "2021-02-24 00:00:00\n",
            "2021-02-26 00:00:00\n",
            "2021-03-01 00:00:00\n",
            "2021-03-04 00:00:00\n",
            "2021-12-06 00:00:00\n",
            "2021-12-15 00:00:00\n",
            "2021-12-16 00:00:00\n",
            "2021-12-17 00:00:00\n",
            "2021-09-21 00:00:00\n",
            "2021-10-01 00:00:00\n",
            "2021-10-04 00:00:00\n",
            "2021-05-06 00:00:00\n",
            "2021-05-11 00:00:00\n",
            "2021-05-12 00:00:00\n",
            "2021-05-13 00:00:00\n",
            "2021-05-14 00:00:00\n",
            "2021-05-18 00:00:00\n",
            "2021-01-27 00:00:00\n",
            "2021-01-28 00:00:00\n",
            "2021-02-01 00:00:00\n",
            "2021-06-21 00:00:00\n",
            "2021-04-21 00:00:00\n",
            "2021-07-20 00:00:00\n",
            "2021-08-20 00:00:00\n",
            "2021-08-23 00:00:00\n",
            "2021-01-28 00:00:00\n",
            "2021-12-01 00:00:00\n",
            "2021-12-02 00:00:00\n",
            "2021-11-22 00:00:00\n",
            "2021-11-23 00:00:00\n",
            "2021-11-26 00:00:00\n",
            "2021-07-09 00:00:00\n",
            "2021-07-20 00:00:00\n",
            "2021-11-23 00:00:00\n",
            "2021-11-26 00:00:00\n",
            "2021-06-21 00:00:00\n",
            "2021-07-19 00:00:00\n",
            "2021-07-20 00:00:00\n",
            "2021-06-17 00:00:00\n",
            "2021-06-18 00:00:00\n",
            "2021-06-21 00:00:00\n",
            "2021-07-09 00:00:00\n",
            "2021-07-19 00:00:00\n",
            "2021-07-20 00:00:00\n",
            "2021-02-01 00:00:00\n",
            "2021-09-29 00:00:00\n",
            "2021-09-30 00:00:00\n",
            "2021-10-01 00:00:00\n",
            "2021-10-04 00:00:00\n",
            "2021-10-05 00:00:00\n",
            "2021-10-11 00:00:00\n",
            "2021-10-12 00:00:00\n",
            "2021-10-13 00:00:00\n",
            "2021-10-28 00:00:00\n",
            "2021-10-29 00:00:00\n",
            "2021-01-28 00:00:00\n",
            "2021-06-21 00:00:00\n",
            "2021-07-20 00:00:00\n",
            "2021-07-16 00:00:00\n",
            "2021-07-22 00:00:00\n",
            "2021-07-28 00:00:00\n",
            "2021-07-29 00:00:00\n",
            "2021-07-30 00:00:00\n",
            "2021-08-02 00:00:00\n",
            "2021-08-03 00:00:00\n",
            "2021-08-04 00:00:00\n",
            "2021-08-05 00:00:00\n",
            "2021-08-06 00:00:00\n",
            "2021-08-09 00:00:00\n",
            "2021-08-10 00:00:00\n",
            "2021-08-11 00:00:00\n",
            "2021-09-21 00:00:00\n",
            "2021-09-22 00:00:00\n",
            "2021-09-23 00:00:00\n",
            "2021-12-02 00:00:00\n",
            "2021-09-22 00:00:00\n",
            "2021-06-21 00:00:00\n",
            "2021-06-22 00:00:00\n",
            "2021-07-08 00:00:00\n",
            "2021-07-09 00:00:00\n",
            "2021-07-20 00:00:00\n",
            "2021-02-01 00:00:00\n",
            "2021-06-18 00:00:00\n",
            "2021-06-21 00:00:00\n",
            "2021-09-13 00:00:00\n",
            "2021-12-01 00:00:00\n",
            "2021-12-02 00:00:00\n",
            "2021-10-05 00:00:00\n",
            "2021-10-06 00:00:00\n",
            "2021-10-07 00:00:00\n",
            "2021-01-20 00:00:00\n",
            "2021-01-26 00:00:00\n",
            "2021-05-06 00:00:00\n",
            "2021-05-07 00:00:00\n",
            "2021-05-11 00:00:00\n",
            "2021-05-12 00:00:00\n",
            "2021-05-13 00:00:00\n",
            "2021-05-14 00:00:00\n",
            "2021-05-20 00:00:00\n",
            "2021-05-24 00:00:00\n",
            "2021-01-28 00:00:00\n",
            "2021-06-18 00:00:00\n",
            "2021-06-21 00:00:00\n",
            "2021-09-21 00:00:00\n",
            "2021-09-22 00:00:00\n",
            "2021-11-22 00:00:00\n",
            "2021-01-28 00:00:00\n",
            "2021-04-22 00:00:00\n",
            "2021-04-23 00:00:00\n",
            "2021-04-26 00:00:00\n",
            "2021-07-19 00:00:00\n",
            "2021-11-22 00:00:00\n",
            "2021-06-18 00:00:00\n",
            "2021-06-21 00:00:00\n",
            "2021-12-01 00:00:00\n",
            "2021-06-21 00:00:00\n",
            "2021-01-28 00:00:00\n",
            "2021-10-01 00:00:00\n",
            "2021-11-29 00:00:00\n",
            "2021-11-30 00:00:00\n",
            "2021-12-01 00:00:00\n",
            "2021-12-02 00:00:00\n",
            "2021-09-27 00:00:00\n",
            "2021-09-28 00:00:00\n",
            "2021-09-29 00:00:00\n",
            "2021-10-01 00:00:00\n",
            "2021-09-29 00:00:00\n",
            "2021-07-16 00:00:00\n",
            "2021-07-19 00:00:00\n",
            "2021-07-20 00:00:00\n",
            "2021-07-21 00:00:00\n",
            "2021-07-26 00:00:00\n",
            "2021-06-18 00:00:00\n",
            "2021-06-21 00:00:00\n",
            "2021-06-24 00:00:00\n",
            "2021-07-14 00:00:00\n",
            "2021-01-28 00:00:00\n",
            "2021-06-30 00:00:00\n",
            "2021-12-02 00:00:00\n",
            "2021-03-01 00:00:00\n",
            "2021-09-28 00:00:00\n",
            "2021-09-29 00:00:00\n",
            "2021-06-17 00:00:00\n",
            "2021-06-18 00:00:00\n",
            "2021-06-21 00:00:00\n",
            "2021-01-28 00:00:00\n",
            "2021-02-01 00:00:00\n",
            "2021-02-02 00:00:00\n",
            "2021-06-18 00:00:00\n",
            "2021-06-21 00:00:00\n",
            "2021-09-08 00:00:00\n",
            "2021-09-15 00:00:00\n",
            "2021-09-20 00:00:00\n",
            "2021-07-19 00:00:00\n",
            "2021-01-27 00:00:00\n",
            "2021-01-28 00:00:00\n",
            "2021-07-19 00:00:00\n",
            "2021-07-20 00:00:00\n",
            "2021-06-01 00:00:00\n",
            "2021-06-18 00:00:00\n",
            "2021-06-21 00:00:00\n",
            "2021-07-14 00:00:00\n",
            "2021-07-19 00:00:00\n",
            "2021-07-20 00:00:00\n",
            "2021-06-17 00:00:00\n",
            "2021-06-18 00:00:00\n",
            "2021-06-21 00:00:00\n",
            "2021-09-13 00:00:00\n",
            "2021-09-14 00:00:00\n",
            "2021-09-15 00:00:00\n",
            "2021-09-16 00:00:00\n",
            "2021-09-17 00:00:00\n",
            "2021-09-20 00:00:00\n",
            "2021-09-21 00:00:00\n",
            "2021-12-01 00:00:00\n",
            "2021-12-02 00:00:00\n",
            "2021-06-03 00:00:00\n",
            "2021-06-07 00:00:00\n",
            "2021-06-08 00:00:00\n",
            "2021-06-15 00:00:00\n",
            "2021-07-30 00:00:00\n",
            "2021-08-02 00:00:00\n",
            "2021-08-04 00:00:00\n",
            "2021-08-05 00:00:00\n",
            "2021-04-23 00:00:00\n",
            "2021-06-11 00:00:00\n",
            "2021-06-14 00:00:00\n",
            "2021-06-15 00:00:00\n",
            "2021-06-16 00:00:00\n",
            "2021-06-18 00:00:00\n",
            "2021-06-21 00:00:00\n",
            "2021-06-21 00:00:00\n",
            "2021-07-20 00:00:00\n",
            "2021-07-07 00:00:00\n",
            "2021-09-22 00:00:00\n",
            "2021-06-21 00:00:00\n",
            "2021-09-29 00:00:00\n",
            "2021-10-01 00:00:00\n",
            "2021-10-04 00:00:00\n",
            "2021-10-05 00:00:00\n",
            "2021-10-06 00:00:00\n",
            "2021-10-07 00:00:00\n",
            "2021-01-28 00:00:00\n",
            "2021-02-01 00:00:00\n",
            "2021-06-18 00:00:00\n",
            "2021-06-21 00:00:00\n",
            "2021-09-08 00:00:00\n",
            "2021-09-09 00:00:00\n",
            "2021-09-10 00:00:00\n",
            "2021-09-13 00:00:00\n",
            "2021-09-14 00:00:00\n",
            "2021-03-05 00:00:00\n",
            "2021-03-08 00:00:00\n",
            "2021-03-09 00:00:00\n",
            "2021-03-31 00:00:00\n",
            "2021-09-21 00:00:00\n",
            "2021-09-22 00:00:00\n",
            "2021-09-23 00:00:00\n",
            "2021-09-24 00:00:00\n",
            "2021-09-27 00:00:00\n",
            "2021-01-28 00:00:00\n",
            "2021-06-21 00:00:00\n",
            "2021-05-07 00:00:00\n",
            "2021-09-29 00:00:00\n",
            "2021-12-02 00:00:00\n",
            "2021-04-27 00:00:00\n",
            "2021-04-28 00:00:00\n",
            "2021-04-29 00:00:00\n",
            "2021-05-03 00:00:00\n",
            "2021-05-04 00:00:00\n",
            "2021-05-05 00:00:00\n",
            "2021-05-06 00:00:00\n",
            "2021-05-11 00:00:00\n",
            "2021-05-12 00:00:00\n",
            "2021-05-13 00:00:00\n",
            "2021-05-14 00:00:00\n",
            "2021-01-28 00:00:00\n",
            "2021-05-13 00:00:00\n",
            "2021-08-16 00:00:00\n",
            "2021-08-19 00:00:00\n",
            "2021-05-13 00:00:00\n",
            "2021-07-20 00:00:00\n",
            "2021-09-15 00:00:00\n",
            "2021-09-16 00:00:00\n",
            "2021-09-17 00:00:00\n",
            "2021-02-05 00:00:00\n",
            "2021-07-20 00:00:00\n",
            "2021-09-20 00:00:00\n",
            "2021-09-21 00:00:00\n",
            "2021-06-21 00:00:00\n",
            "2021-11-22 00:00:00\n",
            "2021-11-23 00:00:00\n",
            "2021-11-29 00:00:00\n",
            "2021-12-01 00:00:00\n",
            "2021-12-02 00:00:00\n",
            "2021-11-29 00:00:00\n",
            "2021-12-01 00:00:00\n",
            "2021-12-02 00:00:00\n",
            "2021-07-09 00:00:00\n",
            "2021-07-20 00:00:00\n",
            "2021-03-08 00:00:00\n",
            "2021-09-28 00:00:00\n",
            "2021-09-29 00:00:00\n",
            "2021-01-28 00:00:00\n",
            "2021-09-29 00:00:00\n",
            "2021-10-01 00:00:00\n",
            "2021-10-05 00:00:00\n",
            "2021-09-29 00:00:00\n",
            "2021-10-11 00:00:00\n",
            "2021-10-12 00:00:00\n",
            "2021-06-18 00:00:00\n",
            "2021-06-21 00:00:00\n",
            "2021-07-20 00:00:00\n",
            "2021-12-01 00:00:00\n",
            "2021-12-02 00:00:00\n",
            "2021-09-15 00:00:00\n",
            "2021-01-28 00:00:00\n",
            "2021-01-29 00:00:00\n",
            "2021-02-01 00:00:00\n",
            "2021-02-02 00:00:00\n",
            "2021-06-18 00:00:00\n",
            "2021-06-21 00:00:00\n",
            "2021-03-05 00:00:00\n",
            "2021-06-09 00:00:00\n",
            "2021-09-10 00:00:00\n",
            "2021-09-13 00:00:00\n",
            "2021-09-14 00:00:00\n",
            "2021-09-15 00:00:00\n",
            "2021-09-16 00:00:00\n",
            "2021-09-17 00:00:00\n",
            "2021-09-20 00:00:00\n",
            "2021-09-21 00:00:00\n",
            "2021-09-22 00:00:00\n",
            "2021-09-23 00:00:00\n",
            "2021-10-01 00:00:00\n",
            "2021-06-16 00:00:00\n",
            "2021-06-18 00:00:00\n",
            "2021-06-21 00:00:00\n",
            "2021-06-22 00:00:00\n",
            "2021-06-23 00:00:00\n",
            "2021-11-19 00:00:00\n",
            "2021-11-22 00:00:00\n",
            "2021-09-22 00:00:00\n",
            "2021-06-10 00:00:00\n",
            "2021-06-11 00:00:00\n",
            "2021-06-16 00:00:00\n",
            "2021-06-17 00:00:00\n",
            "2021-06-22 00:00:00\n",
            "2021-06-18 00:00:00\n",
            "2021-06-21 00:00:00\n",
            "2021-07-09 00:00:00\n",
            "2021-07-20 00:00:00\n",
            "2021-12-02 00:00:00\n",
            "2021-05-13 00:00:00\n",
            "2021-09-30 00:00:00\n",
            "2021-10-01 00:00:00\n",
            "2021-10-04 00:00:00\n",
            "2021-10-05 00:00:00\n",
            "2021-10-06 00:00:00\n",
            "2021-10-07 00:00:00\n",
            "2021-09-28 00:00:00\n",
            "2021-06-21 00:00:00\n",
            "2021-07-20 00:00:00\n",
            "2021-08-19 00:00:00\n",
            "2021-08-20 00:00:00\n",
            "2021-08-23 00:00:00\n",
            "2021-05-13 00:00:00\n",
            "2021-10-13 00:00:00\n",
            "2021-10-14 00:00:00\n",
            "2021-01-13 00:00:00\n",
            "2021-01-14 00:00:00\n",
            "2021-01-15 00:00:00\n",
            "2021-01-19 00:00:00\n",
            "2021-06-18 00:00:00\n",
            "2021-06-21 00:00:00\n",
            "2021-06-22 00:00:00\n",
            "2021-06-23 00:00:00\n",
            "2021-06-24 00:00:00\n",
            "2021-06-25 00:00:00\n",
            "2021-07-07 00:00:00\n",
            "2021-07-09 00:00:00\n",
            "2021-07-14 00:00:00\n",
            "2021-07-15 00:00:00\n",
            "2021-07-23 00:00:00\n",
            "2021-08-09 00:00:00\n",
            "2021-09-16 00:00:00\n",
            "2021-09-17 00:00:00\n",
            "2021-09-20 00:00:00\n",
            "2021-09-21 00:00:00\n",
            "2021-09-22 00:00:00\n",
            "2021-09-23 00:00:00\n",
            "2021-09-24 00:00:00\n",
            "2021-09-27 00:00:00\n",
            "2021-09-28 00:00:00\n",
            "2021-10-04 00:00:00\n",
            "2021-10-18 00:00:00\n",
            "2021-09-17 00:00:00\n",
            "2021-09-22 00:00:00\n",
            "2021-09-29 00:00:00\n",
            "2021-10-04 00:00:00\n",
            "2021-10-05 00:00:00\n",
            "2021-10-06 00:00:00\n",
            "2021-10-07 00:00:00\n",
            "2021-10-13 00:00:00\n",
            "2021-10-14 00:00:00\n",
            "2021-07-19 00:00:00\n",
            "2021-08-13 00:00:00\n",
            "2021-08-16 00:00:00\n",
            "2021-08-19 00:00:00\n",
            "2021-05-13 00:00:00\n",
            "2021-06-11 00:00:00\n",
            "2021-09-14 00:00:00\n",
            "2021-09-15 00:00:00\n",
            "2021-09-16 00:00:00\n",
            "2021-01-28 00:00:00\n",
            "2021-06-21 00:00:00\n",
            "2021-10-01 00:00:00\n",
            "2021-12-01 00:00:00\n",
            "2021-05-07 00:00:00\n",
            "2021-07-09 00:00:00\n",
            "2021-07-16 00:00:00\n",
            "2021-07-19 00:00:00\n",
            "2021-06-21 00:00:00\n",
            "2021-06-18 00:00:00\n",
            "2021-06-21 00:00:00\n",
            "2021-02-26 00:00:00\n",
            "2021-03-01 00:00:00\n",
            "2021-10-12 00:00:00\n",
            "2021-10-13 00:00:00\n",
            "2021-12-07 00:00:00\n",
            "2021-12-13 00:00:00\n",
            "2021-12-14 00:00:00\n",
            "2021-12-15 00:00:00\n",
            "2021-12-17 00:00:00\n",
            "2021-12-20 00:00:00\n",
            "2021-01-28 00:00:00\n",
            "2021-06-18 00:00:00\n",
            "2021-06-21 00:00:00\n",
            "2021-07-09 00:00:00\n",
            "2021-07-19 00:00:00\n",
            "2021-06-21 00:00:00\n",
            "2021-07-09 00:00:00\n",
            "2021-07-19 00:00:00\n",
            "2021-07-20 00:00:00\n",
            "2021-07-21 00:00:00\n",
            "2021-07-15 00:00:00\n",
            "2021-07-16 00:00:00\n",
            "2021-07-19 00:00:00\n",
            "2021-07-20 00:00:00\n",
            "2021-07-21 00:00:00\n",
            "2021-11-22 00:00:00\n",
            "2021-01-15 00:00:00\n",
            "2021-01-26 00:00:00\n",
            "2021-01-28 00:00:00\n",
            "2021-06-30 00:00:00\n",
            "2021-11-29 00:00:00\n",
            "2021-06-18 00:00:00\n",
            "2021-06-21 00:00:00\n",
            "2021-09-15 00:00:00\n",
            "2021-09-16 00:00:00\n",
            "2021-09-17 00:00:00\n",
            "2021-09-20 00:00:00\n",
            "2021-09-21 00:00:00\n",
            "2021-09-22 00:00:00\n",
            "2021-06-04 00:00:00\n",
            "2021-06-10 00:00:00\n",
            "2021-06-11 00:00:00\n",
            "2021-05-13 00:00:00\n",
            "2021-01-27 00:00:00\n",
            "2021-01-28 00:00:00\n",
            "2021-03-01 00:00:00\n",
            "2021-01-13 00:00:00\n",
            "2021-01-14 00:00:00\n",
            "2021-09-21 00:00:00\n",
            "2021-09-23 00:00:00\n",
            "2021-09-24 00:00:00\n",
            "2021-09-29 00:00:00\n",
            "2021-09-30 00:00:00\n",
            "2021-10-01 00:00:00\n",
            "2021-10-05 00:00:00\n",
            "2021-10-12 00:00:00\n",
            "2021-10-13 00:00:00\n",
            "2021-10-14 00:00:00\n",
            "2021-06-18 00:00:00\n",
            "2021-06-21 00:00:00\n",
            "2021-06-23 00:00:00\n",
            "2021-06-24 00:00:00\n",
            "2021-07-09 00:00:00\n",
            "2021-03-05 00:00:00\n",
            "2021-03-08 00:00:00\n",
            "2021-03-09 00:00:00\n",
            "2021-03-10 00:00:00\n",
            "2021-09-29 00:00:00\n",
            "2021-09-30 00:00:00\n",
            "2021-10-01 00:00:00\n",
            "2021-10-04 00:00:00\n",
            "2021-10-05 00:00:00\n",
            "2021-10-06 00:00:00\n",
            "2021-10-07 00:00:00\n",
            "2021-10-12 00:00:00\n",
            "2021-10-13 00:00:00\n",
            "2021-10-14 00:00:00\n",
            "2021-07-19 00:00:00\n",
            "2021-07-20 00:00:00\n",
            "2021-11-24 00:00:00\n",
            "2021-11-29 00:00:00\n",
            "2021-01-28 00:00:00\n",
            "2021-05-13 00:00:00\n",
            "2021-05-14 00:00:00\n",
            "2021-05-13 00:00:00\n",
            "2021-09-29 00:00:00\n",
            "2021-09-30 00:00:00\n",
            "2021-10-01 00:00:00\n",
            "2021-03-09 00:00:00\n",
            "2021-10-04 00:00:00\n",
            "2021-10-05 00:00:00\n",
            "2021-10-06 00:00:00\n",
            "2021-10-07 00:00:00\n",
            "2021-10-08 00:00:00\n",
            "2021-10-11 00:00:00\n",
            "2021-10-12 00:00:00\n",
            "2021-11-05 00:00:00\n",
            "2021-06-11 00:00:00\n",
            "2021-06-15 00:00:00\n",
            "2021-06-16 00:00:00\n",
            "2021-06-17 00:00:00\n",
            "2021-06-18 00:00:00\n",
            "2021-06-21 00:00:00\n",
            "2021-02-08 00:00:00\n",
            "2021-02-09 00:00:00\n",
            "2021-02-12 00:00:00\n",
            "2021-02-16 00:00:00\n",
            "2021-02-17 00:00:00\n",
            "2021-06-21 00:00:00\n",
            "2021-07-01 00:00:00\n",
            "2021-07-07 00:00:00\n",
            "2021-07-14 00:00:00\n",
            "2021-07-15 00:00:00\n",
            "2021-07-16 00:00:00\n",
            "2021-07-19 00:00:00\n",
            "2021-07-20 00:00:00\n",
            "2021-07-22 00:00:00\n",
            "2021-07-23 00:00:00\n",
            "2021-07-26 00:00:00\n",
            "2021-07-29 00:00:00\n",
            "2021-07-30 00:00:00\n",
            "2021-01-22 00:00:00\n",
            "2021-09-08 00:00:00\n",
            "2021-03-09 00:00:00\n",
            "2021-05-05 00:00:00\n",
            "2021-10-05 00:00:00\n",
            "2021-12-15 00:00:00\n",
            "2021-02-26 00:00:00\n",
            "2021-05-13 00:00:00\n",
            "2021-05-14 00:00:00\n",
            "2021-09-21 00:00:00\n",
            "2021-09-20 00:00:00\n",
            "2021-09-21 00:00:00\n",
            "2021-09-22 00:00:00\n",
            "2021-09-29 00:00:00\n",
            "2021-10-01 00:00:00\n",
            "2021-10-05 00:00:00\n",
            "2021-06-21 00:00:00\n",
            "2021-09-22 00:00:00\n",
            "2021-06-17 00:00:00\n",
            "2021-06-18 00:00:00\n",
            "2021-06-21 00:00:00\n",
            "2021-06-22 00:00:00\n",
            "2021-06-29 00:00:00\n",
            "2021-07-20 00:00:00\n",
            "2021-01-28 00:00:00\n",
            "2021-09-29 00:00:00\n",
            "2021-11-22 00:00:00\n",
            "2021-11-23 00:00:00\n",
            "2021-12-02 00:00:00\n",
            "2021-12-03 00:00:00\n",
            "2021-12-06 00:00:00\n",
            "2021-12-20 00:00:00\n",
            "2021-06-18 00:00:00\n",
            "2021-06-21 00:00:00\n",
            "2021-06-22 00:00:00\n",
            "2021-06-23 00:00:00\n",
            "2021-06-24 00:00:00\n",
            "2021-06-25 00:00:00\n",
            "2021-06-28 00:00:00\n",
            "2021-06-29 00:00:00\n",
            "2021-06-30 00:00:00\n",
            "2021-07-20 00:00:00\n",
            "2021-08-18 00:00:00\n",
            "2021-07-20 00:00:00\n",
            "2021-08-18 00:00:00\n",
            "2021-02-22 00:00:00\n",
            "2021-02-23 00:00:00\n",
            "2021-02-24 00:00:00\n",
            "2021-02-25 00:00:00\n",
            "2021-02-26 00:00:00\n",
            "2021-03-01 00:00:00\n",
            "2021-03-04 00:00:00\n",
            "2021-09-27 00:00:00\n",
            "2021-09-28 00:00:00\n",
            "2021-09-29 00:00:00\n",
            "2021-09-30 00:00:00\n",
            "2021-10-01 00:00:00\n",
            "2021-01-28 00:00:00\n",
            "2021-03-26 00:00:00\n",
            "2021-09-09 00:00:00\n",
            "2021-09-15 00:00:00\n",
            "2021-09-16 00:00:00\n",
            "2021-09-17 00:00:00\n",
            "2021-09-20 00:00:00\n",
            "2021-09-21 00:00:00\n",
            "2021-09-22 00:00:00\n",
            "2021-09-27 00:00:00\n",
            "2021-09-28 00:00:00\n",
            "2021-09-29 00:00:00\n",
            "2021-09-30 00:00:00\n",
            "2021-10-01 00:00:00\n",
            "2021-12-21 00:00:00\n",
            "2021-09-21 00:00:00\n",
            "2021-05-13 00:00:00\n",
            "2021-06-11 00:00:00\n",
            "2021-06-18 00:00:00\n",
            "2021-06-21 00:00:00\n",
            "2021-12-01 00:00:00\n",
            "2021-06-21 00:00:00\n",
            "2021-09-20 00:00:00\n",
            "2021-12-02 00:00:00\n",
            "2021-07-20 00:00:00\n",
            "2021-09-22 00:00:00\n",
            "2021-10-29 00:00:00\n",
            "2021-11-01 00:00:00\n",
            "2021-11-02 00:00:00\n",
            "2021-11-03 00:00:00\n",
            "2021-11-04 00:00:00\n",
            "2021-11-19 00:00:00\n",
            "2021-07-08 00:00:00\n",
            "2021-07-09 00:00:00\n",
            "2021-07-14 00:00:00\n",
            "2021-02-19 00:00:00\n",
            "2021-05-05 00:00:00\n",
            "2021-09-21 00:00:00\n",
            "2021-10-05 00:00:00\n",
            "2021-01-29 00:00:00\n",
            "2021-02-01 00:00:00\n",
            "2021-02-02 00:00:00\n",
            "2021-09-21 00:00:00\n",
            "2021-09-22 00:00:00\n",
            "2021-09-23 00:00:00\n",
            "2021-10-05 00:00:00\n",
            "2021-07-19 00:00:00\n",
            "2021-07-20 00:00:00\n",
            "2021-11-22 00:00:00\n",
            "2021-06-11 00:00:00\n",
            "2021-06-21 00:00:00\n",
            "2021-07-21 00:00:00\n",
            "2021-07-22 00:00:00\n",
            "2021-07-23 00:00:00\n",
            "2021-07-26 00:00:00\n",
            "2021-08-05 00:00:00\n",
            "2021-10-13 00:00:00\n",
            "2021-10-14 00:00:00\n",
            "2021-07-20 00:00:00\n",
            "2021-08-20 00:00:00\n",
            "2021-12-02 00:00:00\n",
            "2021-12-21 00:00:00\n",
            "2021-09-15 00:00:00\n",
            "2021-12-02 00:00:00\n",
            "2021-12-06 00:00:00\n",
            "2021-09-20 00:00:00\n",
            "2021-09-21 00:00:00\n",
            "2021-09-22 00:00:00\n",
            "2021-10-01 00:00:00\n",
            "2021-10-05 00:00:00\n",
            "2021-01-29 00:00:00\n",
            "2021-06-11 00:00:00\n",
            "2021-06-15 00:00:00\n",
            "2021-06-17 00:00:00\n",
            "2021-06-18 00:00:00\n",
            "2021-06-21 00:00:00\n",
            "2021-06-25 00:00:00\n",
            "2021-09-20 00:00:00\n",
            "2021-09-21 00:00:00\n",
            "2021-03-05 00:00:00\n",
            "2021-03-08 00:00:00\n",
            "2021-03-09 00:00:00\n",
            "2021-03-19 00:00:00\n",
            "2021-03-22 00:00:00\n",
            "2021-05-14 00:00:00\n",
            "2021-08-12 00:00:00\n",
            "2021-08-19 00:00:00\n",
            "2021-03-29 00:00:00\n",
            "2021-03-30 00:00:00\n",
            "2021-03-31 00:00:00\n",
            "2021-04-01 00:00:00\n",
            "2021-04-05 00:00:00\n",
            "2021-04-06 00:00:00\n",
            "2021-04-07 00:00:00\n",
            "2021-04-08 00:00:00\n",
            "2021-04-09 00:00:00\n",
            "2021-04-12 00:00:00\n",
            "2021-04-13 00:00:00\n",
            "2021-04-14 00:00:00\n",
            "2021-04-15 00:00:00\n",
            "2021-01-28 00:00:00\n",
            "2021-06-16 00:00:00\n",
            "2021-06-17 00:00:00\n",
            "2021-06-18 00:00:00\n",
            "2021-06-21 00:00:00\n",
            "2021-01-15 00:00:00\n",
            "2021-01-25 00:00:00\n",
            "2021-09-08 00:00:00\n",
            "2021-09-13 00:00:00\n",
            "2021-09-14 00:00:00\n",
            "2021-09-15 00:00:00\n",
            "2021-09-16 00:00:00\n",
            "2021-09-17 00:00:00\n",
            "2021-09-20 00:00:00\n",
            "2021-09-21 00:00:00\n",
            "2021-09-22 00:00:00\n",
            "2021-09-29 00:00:00\n",
            "2021-12-02 00:00:00\n",
            "2021-01-28 00:00:00\n",
            "2021-11-18 00:00:00\n",
            "2021-11-19 00:00:00\n",
            "2021-11-22 00:00:00\n",
            "2021-11-23 00:00:00\n",
            "2021-11-24 00:00:00\n",
            "2021-11-26 00:00:00\n",
            "2021-11-29 00:00:00\n",
            "2021-11-30 00:00:00\n",
            "2021-12-01 00:00:00\n",
            "2021-12-02 00:00:00\n",
            "2021-03-09 00:00:00\n",
            "2021-08-02 00:00:00\n",
            "2021-08-03 00:00:00\n",
            "2021-06-18 00:00:00\n",
            "2021-06-21 00:00:00\n",
            "2021-10-11 00:00:00\n",
            "2021-10-12 00:00:00\n",
            "2021-10-13 00:00:00\n",
            "2021-10-14 00:00:00\n",
            "2021-01-25 00:00:00\n",
            "2021-09-29 00:00:00\n",
            "2021-02-03 00:00:00\n",
            "2021-02-04 00:00:00\n",
            "2021-02-05 00:00:00\n",
            "2021-02-08 00:00:00\n",
            "2021-02-09 00:00:00\n",
            "2021-09-20 00:00:00\n",
            "2021-09-29 00:00:00\n",
            "2021-10-05 00:00:00\n",
            "2021-10-06 00:00:00\n",
            "2021-10-07 00:00:00\n",
            "2021-10-13 00:00:00\n",
            "2021-10-14 00:00:00\n",
            "2021-10-18 00:00:00\n",
            "2021-10-19 00:00:00\n",
            "2021-01-27 00:00:00\n",
            "2021-01-28 00:00:00\n",
            "2021-10-01 00:00:00\n",
            "2021-07-15 00:00:00\n",
            "2021-07-16 00:00:00\n",
            "2021-07-19 00:00:00\n",
            "2021-06-21 00:00:00\n",
            "2021-06-21 00:00:00\n",
            "2021-02-12 00:00:00\n",
            "2021-02-22 00:00:00\n",
            "2021-09-22 00:00:00\n",
            "2021-09-23 00:00:00\n",
            "2021-09-29 00:00:00\n",
            "2021-10-01 00:00:00\n",
            "2021-10-04 00:00:00\n",
            "2021-10-05 00:00:00\n",
            "2021-01-25 00:00:00\n",
            "2021-02-01 00:00:00\n",
            "2021-06-18 00:00:00\n",
            "2021-06-21 00:00:00\n",
            "2021-06-28 00:00:00\n",
            "2021-07-21 00:00:00\n",
            "2021-07-22 00:00:00\n",
            "2021-09-02 00:00:00\n",
            "2021-06-21 00:00:00\n",
            "2021-10-01 00:00:00\n",
            "2021-06-21 00:00:00\n",
            "2021-09-22 00:00:00\n",
            "2021-01-20 00:00:00\n",
            "2021-01-21 00:00:00\n",
            "2021-01-22 00:00:00\n",
            "2021-01-25 00:00:00\n",
            "2021-10-05 00:00:00\n",
            "2021-01-28 00:00:00\n",
            "2021-02-01 00:00:00\n",
            "2021-02-02 00:00:00\n",
            "2021-06-10 00:00:00\n",
            "2021-06-11 00:00:00\n",
            "2021-06-14 00:00:00\n",
            "2021-06-15 00:00:00\n",
            "2021-06-16 00:00:00\n",
            "2021-06-17 00:00:00\n",
            "2021-02-26 00:00:00\n",
            "2021-03-01 00:00:00\n",
            "2021-03-02 00:00:00\n",
            "2021-03-03 00:00:00\n",
            "2021-09-28 00:00:00\n",
            "2021-09-29 00:00:00\n",
            "2021-10-01 00:00:00\n",
            "2021-06-18 00:00:00\n",
            "2021-06-21 00:00:00\n",
            "2021-09-21 00:00:00\n",
            "2021-09-22 00:00:00\n",
            "2021-06-21 00:00:00\n",
            "2021-09-24 00:00:00\n",
            "2021-09-27 00:00:00\n",
            "2021-03-09 00:00:00\n",
            "2021-05-13 00:00:00\n",
            "2021-05-14 00:00:00\n",
            "2021-09-24 00:00:00\n",
            "2021-09-27 00:00:00\n",
            "2021-09-28 00:00:00\n",
            "2021-09-29 00:00:00\n",
            "2021-10-01 00:00:00\n",
            "2021-10-04 00:00:00\n",
            "2021-10-06 00:00:00\n",
            "2021-05-11 00:00:00\n",
            "2021-05-13 00:00:00\n",
            "2021-05-14 00:00:00\n",
            "2021-08-19 00:00:00\n",
            "2021-08-20 00:00:00\n",
            "2021-06-18 00:00:00\n",
            "2021-06-21 00:00:00\n",
            "2021-02-23 00:00:00\n",
            "2021-02-24 00:00:00\n",
            "2021-03-05 00:00:00\n",
            "2021-03-09 00:00:00\n",
            "2021-09-29 00:00:00\n",
            "2021-10-01 00:00:00\n",
            "2021-10-04 00:00:00\n",
            "2021-10-05 00:00:00\n",
            "2021-10-06 00:00:00\n",
            "2021-10-07 00:00:00\n",
            "2021-10-12 00:00:00\n",
            "2021-10-13 00:00:00\n",
            "2021-06-21 00:00:00\n",
            "2021-07-19 00:00:00\n",
            "2021-09-22 00:00:00\n",
            "2021-01-26 00:00:00\n",
            "2021-07-20 00:00:00\n",
            "2021-11-22 00:00:00\n",
            "2021-09-13 00:00:00\n",
            "2021-09-20 00:00:00\n",
            "2021-09-21 00:00:00\n",
            "2021-09-22 00:00:00\n",
            "2021-09-27 00:00:00\n",
            "2021-09-28 00:00:00\n",
            "2021-09-29 00:00:00\n",
            "2021-10-01 00:00:00\n",
            "2021-12-02 00:00:00\n",
            "2021-12-01 00:00:00\n",
            "2021-12-02 00:00:00\n",
            "2021-09-28 00:00:00\n",
            "2021-09-29 00:00:00\n",
            "2021-09-30 00:00:00\n",
            "2021-10-01 00:00:00\n",
            "2021-10-04 00:00:00\n",
            "2021-10-05 00:00:00\n",
            "2021-10-06 00:00:00\n",
            "2021-10-07 00:00:00\n",
            "2021-10-08 00:00:00\n",
            "2021-10-11 00:00:00\n",
            "2021-10-12 00:00:00\n",
            "2021-10-13 00:00:00\n",
            "2021-10-14 00:00:00\n",
            "2021-10-18 00:00:00\n",
            "2021-10-19 00:00:00\n",
            "2021-06-18 00:00:00\n",
            "2021-06-21 00:00:00\n",
            "2021-07-09 00:00:00\n",
            "2021-12-02 00:00:00\n",
            "2021-01-28 00:00:00\n",
            "2021-02-17 00:00:00\n",
            "2021-09-28 00:00:00\n",
            "2021-09-29 00:00:00\n",
            "2021-09-30 00:00:00\n",
            "2021-10-01 00:00:00\n",
            "2021-10-04 00:00:00\n",
            "2021-10-05 00:00:00\n",
            "2021-10-06 00:00:00\n",
            "2021-10-07 00:00:00\n",
            "2021-10-08 00:00:00\n",
            "2021-10-11 00:00:00\n",
            "2021-10-12 00:00:00\n",
            "2021-10-13 00:00:00\n",
            "2021-10-14 00:00:00\n",
            "2021-10-15 00:00:00\n",
            "2021-02-23 00:00:00\n",
            "2021-02-24 00:00:00\n",
            "2021-02-25 00:00:00\n",
            "2021-02-26 00:00:00\n",
            "2021-03-01 00:00:00\n",
            "2021-09-29 00:00:00\n",
            "2021-10-01 00:00:00\n",
            "2021-10-05 00:00:00\n",
            "2021-10-06 00:00:00\n",
            "2021-10-07 00:00:00\n",
            "2021-10-08 00:00:00\n",
            "2021-10-11 00:00:00\n",
            "2021-10-12 00:00:00\n",
            "2021-10-13 00:00:00\n",
            "2021-10-14 00:00:00\n",
            "2021-06-21 00:00:00\n",
            "2021-12-02 00:00:00\n",
            "2021-09-21 00:00:00\n",
            "2021-09-22 00:00:00\n",
            "2021-09-29 00:00:00\n",
            "2021-10-01 00:00:00\n",
            "2021-10-04 00:00:00\n",
            "2021-10-05 00:00:00\n",
            "2021-01-28 00:00:00\n",
            "2021-02-23 00:00:00\n",
            "2021-09-21 00:00:00\n",
            "2021-09-22 00:00:00\n",
            "2021-09-29 00:00:00\n",
            "2021-10-01 00:00:00\n",
            "2021-10-04 00:00:00\n",
            "2021-10-05 00:00:00\n",
            "2021-01-28 00:00:00\n",
            "2021-06-21 00:00:00\n",
            "2021-01-28 00:00:00\n",
            "2021-09-29 00:00:00\n",
            "2021-09-30 00:00:00\n",
            "2021-10-01 00:00:00\n",
            "2021-10-05 00:00:00\n",
            "2021-11-29 00:00:00\n",
            "2021-12-02 00:00:00\n",
            "2021-09-28 00:00:00\n",
            "2021-09-29 00:00:00\n",
            "2021-09-30 00:00:00\n",
            "2021-10-01 00:00:00\n",
            "2021-10-06 00:00:00\n",
            "2021-07-16 00:00:00\n",
            "2021-07-19 00:00:00\n",
            "2021-07-20 00:00:00\n",
            "2021-07-21 00:00:00\n",
            "2021-11-22 00:00:00\n",
            "2021-06-21 00:00:00\n",
            "2021-06-22 00:00:00\n",
            "2021-06-23 00:00:00\n",
            "2021-06-24 00:00:00\n",
            "2021-02-26 00:00:00\n",
            "2021-03-05 00:00:00\n",
            "2021-03-08 00:00:00\n",
            "2021-12-02 00:00:00\n",
            "2021-02-01 00:00:00\n",
            "2021-02-26 00:00:00\n",
            "2021-06-15 00:00:00\n",
            "2021-06-16 00:00:00\n",
            "2021-06-17 00:00:00\n",
            "2021-06-18 00:00:00\n",
            "2021-06-21 00:00:00\n",
            "2021-09-29 00:00:00\n",
            "2021-09-30 00:00:00\n",
            "2021-10-01 00:00:00\n",
            "2021-07-20 00:00:00\n",
            "2021-12-02 00:00:00\n",
            "2021-05-11 00:00:00\n",
            "2021-05-13 00:00:00\n",
            "2021-05-14 00:00:00\n",
            "2021-08-19 00:00:00\n",
            "2021-06-21 00:00:00\n",
            "2021-06-24 00:00:00\n",
            "2021-06-25 00:00:00\n",
            "2021-08-27 00:00:00\n",
            "2021-08-30 00:00:00\n",
            "2021-06-14 00:00:00\n",
            "2021-06-15 00:00:00\n",
            "2021-06-16 00:00:00\n",
            "2021-06-17 00:00:00\n",
            "2021-06-18 00:00:00\n",
            "2021-06-21 00:00:00\n",
            "2021-06-22 00:00:00\n",
            "2021-06-23 00:00:00\n",
            "2021-06-24 00:00:00\n",
            "2021-03-01 00:00:00\n",
            "2021-06-21 00:00:00\n",
            "2021-09-22 00:00:00\n",
            "2021-09-23 00:00:00\n",
            "2021-09-24 00:00:00\n",
            "2021-09-27 00:00:00\n",
            "2021-09-28 00:00:00\n",
            "2021-09-29 00:00:00\n",
            "2021-10-01 00:00:00\n",
            "2021-10-04 00:00:00\n",
            "2021-06-17 00:00:00\n",
            "2021-06-18 00:00:00\n",
            "2021-06-21 00:00:00\n",
            "2021-06-24 00:00:00\n",
            "2021-06-25 00:00:00\n",
            "2021-06-28 00:00:00\n",
            "2021-06-29 00:00:00\n",
            "2021-06-30 00:00:00\n",
            "2021-07-01 00:00:00\n",
            "2021-07-07 00:00:00\n",
            "2021-06-15 00:00:00\n",
            "2021-06-16 00:00:00\n",
            "2021-06-17 00:00:00\n",
            "2021-06-18 00:00:00\n",
            "2021-06-21 00:00:00\n",
            "2021-09-21 00:00:00\n",
            "2021-06-21 00:00:00\n",
            "2021-09-21 00:00:00\n",
            "2021-09-22 00:00:00\n",
            "2021-12-01 00:00:00\n",
            "2021-12-02 00:00:00\n",
            "2021-02-01 00:00:00\n",
            "2021-09-15 00:00:00\n",
            "2021-09-21 00:00:00\n",
            "2021-09-22 00:00:00\n",
            "2021-09-23 00:00:00\n",
            "2021-02-24 00:00:00\n",
            "2021-02-25 00:00:00\n",
            "2021-02-26 00:00:00\n",
            "2021-05-19 00:00:00\n",
            "2021-05-20 00:00:00\n",
            "2021-05-21 00:00:00\n",
            "2021-05-24 00:00:00\n",
            "2021-05-25 00:00:00\n",
            "2021-12-01 00:00:00\n",
            "2021-12-02 00:00:00\n",
            "2021-01-28 00:00:00\n",
            "2021-01-29 00:00:00\n",
            "2021-02-01 00:00:00\n",
            "2021-05-13 00:00:00\n",
            "2021-07-20 00:00:00\n",
            "2021-05-11 00:00:00\n",
            "2021-05-12 00:00:00\n",
            "2021-05-13 00:00:00\n",
            "2021-06-21 00:00:00\n",
            "2021-09-09 00:00:00\n",
            "2021-03-05 00:00:00\n",
            "2021-03-08 00:00:00\n",
            "2021-09-29 00:00:00\n",
            "2021-09-30 00:00:00\n",
            "2021-10-01 00:00:00\n",
            "2021-10-04 00:00:00\n",
            "2021-10-05 00:00:00\n",
            "2021-10-06 00:00:00\n",
            "2021-10-12 00:00:00\n",
            "2021-06-17 00:00:00\n",
            "2021-06-18 00:00:00\n",
            "2021-06-21 00:00:00\n",
            "2021-01-15 00:00:00\n",
            "2021-08-19 00:00:00\n",
            "2021-08-27 00:00:00\n",
            "2021-09-01 00:00:00\n",
            "2021-09-03 00:00:00\n",
            "2021-09-07 00:00:00\n",
            "2021-09-21 00:00:00\n",
            "2021-09-22 00:00:00\n",
            "2021-10-01 00:00:00\n",
            "2021-10-05 00:00:00\n",
            "2021-10-07 00:00:00\n",
            "2021-10-13 00:00:00\n",
            "2021-12-02 00:00:00\n",
            "2021-03-01 00:00:00\n",
            "2021-03-04 00:00:00\n",
            "2021-03-05 00:00:00\n",
            "2021-03-08 00:00:00\n",
            "2021-07-20 00:00:00\n",
            "2021-07-20 00:00:00\n",
            "2021-03-03 00:00:00\n",
            "2021-03-04 00:00:00\n",
            "2021-03-05 00:00:00\n",
            "2021-08-20 00:00:00\n",
            "2021-09-08 00:00:00\n",
            "2021-09-29 00:00:00\n",
            "2021-10-01 00:00:00\n",
            "2021-10-04 00:00:00\n",
            "2021-10-05 00:00:00\n",
            "2021-10-06 00:00:00\n",
            "2021-10-07 00:00:00\n",
            "2021-06-21 00:00:00\n",
            "2021-09-20 00:00:00\n",
            "2021-09-21 00:00:00\n",
            "2021-09-22 00:00:00\n",
            "2021-05-14 00:00:00\n",
            "2021-09-13 00:00:00\n",
            "2021-09-14 00:00:00\n",
            "2021-09-17 00:00:00\n",
            "2021-09-20 00:00:00\n",
            "2021-09-21 00:00:00\n",
            "2021-09-22 00:00:00\n",
            "2021-01-28 00:00:00\n",
            "2021-02-01 00:00:00\n",
            "2021-03-09 00:00:00\n",
            "2021-02-23 00:00:00\n",
            "2021-02-24 00:00:00\n",
            "2021-03-01 00:00:00\n",
            "2021-03-05 00:00:00\n",
            "2021-03-08 00:00:00\n",
            "2021-03-09 00:00:00\n",
            "2021-05-13 00:00:00\n",
            "2021-12-01 00:00:00\n",
            "2021-12-02 00:00:00\n",
            "2021-02-25 00:00:00\n",
            "2021-02-26 00:00:00\n",
            "2021-03-01 00:00:00\n",
            "2021-03-05 00:00:00\n",
            "2021-01-28 00:00:00\n",
            "2021-02-02 00:00:00\n",
            "2021-06-21 00:00:00\n",
            "2021-01-28 00:00:00\n",
            "2021-06-21 00:00:00\n",
            "2021-09-15 00:00:00\n",
            "2021-09-21 00:00:00\n",
            "2021-09-22 00:00:00\n",
            "2021-09-29 00:00:00\n",
            "2021-09-30 00:00:00\n",
            "2021-10-01 00:00:00\n",
            "2021-01-26 00:00:00\n",
            "2021-01-27 00:00:00\n",
            "2021-01-28 00:00:00\n",
            "2021-07-20 00:00:00\n",
            "2021-06-18 00:00:00\n",
            "2021-06-21 00:00:00\n",
            "2021-09-28 00:00:00\n",
            "2021-09-29 00:00:00\n",
            "2021-09-30 00:00:00\n",
            "2021-10-01 00:00:00\n",
            "2021-10-05 00:00:00\n",
            "2021-10-07 00:00:00\n",
            "2021-10-12 00:00:00\n",
            "2021-06-15 00:00:00\n",
            "2021-06-18 00:00:00\n",
            "2021-06-21 00:00:00\n",
            "2021-05-05 00:00:00\n",
            "2021-08-19 00:00:00\n",
            "2021-09-21 00:00:00\n",
            "2021-11-29 00:00:00\n",
            "2021-06-11 00:00:00\n",
            "2021-06-16 00:00:00\n",
            "2021-06-17 00:00:00\n",
            "2021-06-18 00:00:00\n",
            "2021-06-21 00:00:00\n",
            "2021-06-22 00:00:00\n",
            "2021-07-15 00:00:00\n",
            "2021-01-28 00:00:00\n",
            "2021-02-01 00:00:00\n",
            "2021-02-02 00:00:00\n",
            "2021-06-18 00:00:00\n",
            "2021-06-21 00:00:00\n",
            "2021-11-22 00:00:00\n",
            "2021-05-06 00:00:00\n",
            "2021-05-10 00:00:00\n",
            "2021-05-13 00:00:00\n",
            "2021-01-28 00:00:00\n",
            "2021-06-21 00:00:00\n",
            "2021-09-07 00:00:00\n",
            "2021-04-21 00:00:00\n",
            "2021-06-29 00:00:00\n",
            "2021-06-30 00:00:00\n",
            "2021-07-01 00:00:00\n",
            "2021-07-07 00:00:00\n",
            "2021-07-08 00:00:00\n",
            "2021-07-09 00:00:00\n",
            "2021-07-14 00:00:00\n",
            "2021-07-15 00:00:00\n",
            "2021-01-08 00:00:00\n",
            "2021-01-11 00:00:00\n",
            "2021-07-28 00:00:00\n",
            "2021-07-29 00:00:00\n",
            "2021-07-30 00:00:00\n",
            "2021-08-02 00:00:00\n",
            "2021-08-03 00:00:00\n",
            "2021-08-04 00:00:00\n",
            "2021-08-05 00:00:00\n",
            "2021-08-06 00:00:00\n",
            "2021-08-10 00:00:00\n",
            "2021-08-11 00:00:00\n",
            "2021-12-02 00:00:00\n",
            "2021-06-21 00:00:00\n",
            "2021-11-30 00:00:00\n",
            "2021-12-01 00:00:00\n",
            "2021-12-03 00:00:00\n",
            "2021-01-28 00:00:00\n",
            "2021-02-08 00:00:00\n",
            "2021-02-09 00:00:00\n",
            "2021-06-21 00:00:00\n",
            "2021-09-29 00:00:00\n",
            "2021-10-01 00:00:00\n",
            "2021-10-04 00:00:00\n",
            "2021-10-05 00:00:00\n",
            "2021-01-28 00:00:00\n",
            "2021-06-18 00:00:00\n",
            "2021-06-21 00:00:00\n",
            "2021-07-08 00:00:00\n",
            "2021-07-09 00:00:00\n",
            "2021-07-15 00:00:00\n",
            "2021-07-16 00:00:00\n",
            "2021-07-19 00:00:00\n",
            "2021-08-19 00:00:00\n",
            "2021-08-20 00:00:00\n",
            "2021-08-23 00:00:00\n",
            "2021-08-24 00:00:00\n",
            "2021-08-25 00:00:00\n",
            "2021-07-29 00:00:00\n",
            "2021-07-30 00:00:00\n",
            "2021-08-02 00:00:00\n",
            "2021-08-03 00:00:00\n",
            "2021-08-04 00:00:00\n",
            "2021-08-05 00:00:00\n",
            "2021-08-06 00:00:00\n",
            "2021-08-09 00:00:00\n",
            "2021-08-11 00:00:00\n",
            "2021-08-12 00:00:00\n",
            "2021-08-13 00:00:00\n",
            "2021-08-16 00:00:00\n",
            "2021-08-17 00:00:00\n",
            "2021-01-19 00:00:00\n",
            "2021-01-28 00:00:00\n",
            "2021-02-01 00:00:00\n",
            "2021-08-20 00:00:00\n",
            "2021-09-03 00:00:00\n",
            "2021-06-11 00:00:00\n",
            "2021-06-15 00:00:00\n",
            "2021-06-17 00:00:00\n",
            "2021-06-18 00:00:00\n",
            "2021-06-21 00:00:00\n",
            "2021-09-09 00:00:00\n",
            "2021-09-10 00:00:00\n",
            "2021-09-17 00:00:00\n",
            "2021-09-20 00:00:00\n",
            "2021-01-28 00:00:00\n",
            "2021-06-21 00:00:00\n",
            "2021-01-28 00:00:00\n",
            "2021-02-01 00:00:00\n",
            "2021-06-21 00:00:00\n",
            "2021-02-19 00:00:00\n",
            "2021-06-18 00:00:00\n",
            "2021-06-21 00:00:00\n",
            "2021-12-01 00:00:00\n",
            "2021-12-02 00:00:00\n",
            "2021-06-21 00:00:00\n",
            "2021-07-02 00:00:00\n",
            "2021-07-06 00:00:00\n",
            "2021-07-07 00:00:00\n",
            "2021-07-08 00:00:00\n",
            "2021-07-09 00:00:00\n",
            "2021-07-12 00:00:00\n",
            "2021-07-13 00:00:00\n",
            "2021-07-14 00:00:00\n",
            "2021-07-15 00:00:00\n",
            "2021-02-02 00:00:00\n",
            "2021-09-21 00:00:00\n",
            "2021-09-23 00:00:00\n",
            "2021-11-18 00:00:00\n",
            "2021-01-28 00:00:00\n",
            "2021-05-17 00:00:00\n",
            "2021-05-18 00:00:00\n",
            "2021-05-19 00:00:00\n",
            "2021-05-20 00:00:00\n",
            "2021-05-21 00:00:00\n",
            "2021-03-29 00:00:00\n",
            "2021-03-30 00:00:00\n",
            "2021-03-31 00:00:00\n",
            "2021-04-01 00:00:00\n",
            "2021-04-05 00:00:00\n",
            "2021-04-06 00:00:00\n",
            "2021-04-13 00:00:00\n",
            "2021-04-14 00:00:00\n",
            "2021-04-15 00:00:00\n",
            "2021-04-16 00:00:00\n",
            "2021-04-19 00:00:00\n",
            "2021-04-20 00:00:00\n",
            "2021-04-21 00:00:00\n",
            "2021-01-28 00:00:00\n",
            "2021-03-05 00:00:00\n",
            "2021-09-28 00:00:00\n",
            "2021-09-29 00:00:00\n",
            "2021-09-30 00:00:00\n",
            "2021-10-01 00:00:00\n",
            "2021-10-04 00:00:00\n",
            "2021-10-05 00:00:00\n",
            "2021-10-06 00:00:00\n",
            "2021-10-07 00:00:00\n",
            "2021-10-08 00:00:00\n",
            "2021-10-11 00:00:00\n",
            "2021-10-12 00:00:00\n",
            "2021-10-13 00:00:00\n",
            "2021-10-14 00:00:00\n",
            "2021-10-18 00:00:00\n",
            "2021-06-18 00:00:00\n",
            "2021-06-21 00:00:00\n",
            "2021-09-02 00:00:00\n",
            "2021-02-23 00:00:00\n",
            "2021-02-24 00:00:00\n",
            "2021-03-04 00:00:00\n",
            "2021-10-05 00:00:00\n",
            "2021-10-11 00:00:00\n",
            "2021-10-12 00:00:00\n",
            "2021-10-13 00:00:00\n",
            "2021-10-14 00:00:00\n",
            "2021-06-23 00:00:00\n",
            "2021-07-19 00:00:00\n",
            "2021-07-20 00:00:00\n",
            "2021-07-23 00:00:00\n",
            "2021-06-18 00:00:00\n",
            "2021-06-21 00:00:00\n",
            "2021-07-19 00:00:00\n",
            "2021-07-20 00:00:00\n",
            "2021-08-19 00:00:00\n",
            "2021-08-20 00:00:00\n",
            "2021-08-23 00:00:00\n",
            "2021-12-21 00:00:00\n",
            "2021-06-17 00:00:00\n",
            "2021-06-18 00:00:00\n",
            "2021-06-21 00:00:00\n",
            "2021-06-22 00:00:00\n",
            "2021-06-23 00:00:00\n",
            "2021-06-24 00:00:00\n",
            "2021-07-09 00:00:00\n",
            "2021-07-07 00:00:00\n",
            "2021-07-08 00:00:00\n",
            "2021-07-12 00:00:00\n",
            "2021-07-13 00:00:00\n",
            "2021-02-04 00:00:00\n",
            "2021-10-01 00:00:00\n",
            "2021-10-04 00:00:00\n",
            "2021-10-05 00:00:00\n",
            "2021-10-12 00:00:00\n",
            "2021-10-13 00:00:00\n",
            "2021-11-29 00:00:00\n",
            "2021-12-01 00:00:00\n",
            "2021-06-21 00:00:00\n",
            "2021-09-21 00:00:00\n",
            "2021-09-22 00:00:00\n",
            "2021-09-23 00:00:00\n",
            "2021-09-24 00:00:00\n",
            "2021-09-29 00:00:00\n",
            "2021-09-30 00:00:00\n",
            "2021-10-01 00:00:00\n",
            "2021-09-21 00:00:00\n",
            "2021-09-22 00:00:00\n",
            "2021-09-29 00:00:00\n",
            "2021-09-30 00:00:00\n",
            "2021-10-01 00:00:00\n",
            "2021-10-04 00:00:00\n",
            "2021-10-05 00:00:00\n",
            "2021-10-06 00:00:00\n",
            "2021-10-07 00:00:00\n",
            "2021-10-08 00:00:00\n",
            "2021-10-11 00:00:00\n",
            "2021-05-13 00:00:00\n",
            "2021-06-07 00:00:00\n",
            "2021-06-08 00:00:00\n",
            "2021-06-09 00:00:00\n",
            "2021-06-10 00:00:00\n",
            "2021-01-28 00:00:00\n",
            "2021-09-29 00:00:00\n"
          ]
        }
      ]
    }
  ]
}